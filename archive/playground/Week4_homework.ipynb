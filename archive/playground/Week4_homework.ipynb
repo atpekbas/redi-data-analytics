{
 "cells": [
  {
   "cell_type": "markdown",
   "metadata": {},
   "source": [
    "#### Hi! Today you will play with NaN values and another Data Manipulation methods. Let us know if you need help and also if you need more challenges on that :)"
   ]
  },
  {
   "cell_type": "markdown",
   "metadata": {},
   "source": [
    "#### The dataset that you will use is again recipes.csv. You can either use your own or the one in the subfolder \"data\". Do not forget to import the necessary libraries!"
   ]
  },
  {
   "cell_type": "code",
   "execution_count": 1,
   "metadata": {},
   "outputs": [],
   "source": [
    "import pandas as pd\n",
    "import numpy as np"
   ]
  },
  {
   "cell_type": "code",
   "execution_count": 2,
   "metadata": {},
   "outputs": [
    {
     "name": "stdout",
     "output_type": "stream",
     "text": [
      "<class 'pandas.core.frame.DataFrame'>\n",
      "Int64Index: 150 entries, 0 to 149\n",
      "Data columns (total 78 columns):\n",
      " #   Column                              Non-Null Count  Dtype  \n",
      "---  ------                              --------------  -----  \n",
      " 0   vegetarian                          150 non-null    bool   \n",
      " 1   glutenFree                          150 non-null    bool   \n",
      " 2   dairyFree                           150 non-null    bool   \n",
      " 3   veryHealthy                         150 non-null    bool   \n",
      " 4   healthScore                         150 non-null    float64\n",
      " 5   aggregateLikes                      150 non-null    int64  \n",
      " 6   id                                  150 non-null    int64  \n",
      " 7   title                               150 non-null    object \n",
      " 8   pricePerServing                     150 non-null    float64\n",
      " 9   readyInMinutes                      150 non-null    int64  \n",
      " 10  servings                            150 non-null    int64  \n",
      " 11  sourceUrl                           150 non-null    object \n",
      " 12  CaloriesAmount                      150 non-null    float64\n",
      " 13  CaloriespercentOfDailyNeed          150 non-null    float64\n",
      " 14  FatAmount                           150 non-null    float64\n",
      " 15  FatpercentOfDailyNeed               150 non-null    float64\n",
      " 16  SaturatedFatAmount                  150 non-null    float64\n",
      " 17  SaturatedFatpercentOfDailyNeed      150 non-null    float64\n",
      " 18  CarbohydratesAmount                 150 non-null    float64\n",
      " 19  CarbohydratespercentOfDailyNeed     150 non-null    float64\n",
      " 20  NetCarbohydratesAmount              150 non-null    float64\n",
      " 21  NetCarbohydratespercentOfDailyNeed  150 non-null    float64\n",
      " 22  SugarAmount                         150 non-null    float64\n",
      " 23  SugarpercentOfDailyNeed             150 non-null    float64\n",
      " 24  CholesterolAmount                   150 non-null    float64\n",
      " 25  CholesterolpercentOfDailyNeed       150 non-null    float64\n",
      " 26  SodiumAmount                        150 non-null    float64\n",
      " 27  SodiumpercentOfDailyNeed            150 non-null    float64\n",
      " 28  ProteinAmount                       150 non-null    float64\n",
      " 29  ProteinpercentOfDailyNeed           150 non-null    float64\n",
      " 30  FiberAmount                         142 non-null    float64\n",
      " 31  FiberpercentOfDailyNeed             142 non-null    float64\n",
      " 32  VitaminB6Amount                     140 non-null    float64\n",
      " 33  VitaminB6percentOfDailyNeed         140 non-null    float64\n",
      " 34  ManganeseAmount                     146 non-null    float64\n",
      " 35  ManganesepercentOfDailyNeed         146 non-null    float64\n",
      " 36  SeleniumAmount                      134 non-null    float64\n",
      " 37  SeleniumpercentOfDailyNeed          134 non-null    float64\n",
      " 38  PotassiumAmount                     143 non-null    float64\n",
      " 39  PotassiumpercentOfDailyNeed         143 non-null    float64\n",
      " 40  VitaminB2Amount                     146 non-null    float64\n",
      " 41  VitaminB2percentOfDailyNeed         146 non-null    float64\n",
      " 42  VitaminCAmount                      119 non-null    float64\n",
      " 43  VitaminCpercentOfDailyNeed          119 non-null    float64\n",
      " 44  PhosphorusAmount                    147 non-null    float64\n",
      " 45  PhosphoruspercentOfDailyNeed        147 non-null    float64\n",
      " 46  FolateAmount                        144 non-null    float64\n",
      " 47  FolatepercentOfDailyNeed            144 non-null    float64\n",
      " 48  VitaminB5Amount                     136 non-null    float64\n",
      " 49  VitaminB5percentOfDailyNeed         136 non-null    float64\n",
      " 50  MagnesiumAmount                     142 non-null    float64\n",
      " 51  MagnesiumpercentOfDailyNeed         142 non-null    float64\n",
      " 52  IronAmount                          147 non-null    float64\n",
      " 53  IronpercentOfDailyNeed              147 non-null    float64\n",
      " 54  VitaminKAmount                      138 non-null    float64\n",
      " 55  VitaminKpercentOfDailyNeed          138 non-null    float64\n",
      " 56  CopperAmount                        144 non-null    float64\n",
      " 57  CopperpercentOfDailyNeed            144 non-null    float64\n",
      " 58  VitaminAAmount                      137 non-null    float64\n",
      " 59  VitaminApercentOfDailyNeed          137 non-null    float64\n",
      " 60  VitaminB12Amount                    93 non-null     float64\n",
      " 61  VitaminB12percentOfDailyNeed        93 non-null     float64\n",
      " 62  VitaminDAmount                      75 non-null     float64\n",
      " 63  VitaminDpercentOfDailyNeed          75 non-null     float64\n",
      " 64  ZincAmount                          139 non-null    float64\n",
      " 65  ZincpercentOfDailyNeed              139 non-null    float64\n",
      " 66  VitaminEAmount                      138 non-null    float64\n",
      " 67  VitaminEpercentOfDailyNeed          138 non-null    float64\n",
      " 68  VitaminB3Amount                     139 non-null    float64\n",
      " 69  VitaminB3percentOfDailyNeed         139 non-null    float64\n",
      " 70  VitaminB1Amount                     143 non-null    float64\n",
      " 71  VitaminB1percentOfDailyNeed         143 non-null    float64\n",
      " 72  CalciumAmount                       142 non-null    float64\n",
      " 73  CalciumpercentOfDailyNeed           142 non-null    float64\n",
      " 74  AlcoholAmount                       21 non-null     float64\n",
      " 75  AlcoholpercentOfDailyNeed           21 non-null     float64\n",
      " 76  CaffeineAmount                      9 non-null      float64\n",
      " 77  CaffeinepercentOfDailyNeed          9 non-null      float64\n",
      "dtypes: bool(4), float64(68), int64(4), object(2)\n",
      "memory usage: 88.5+ KB\n"
     ]
    }
   ],
   "source": [
    "recipes = pd.read_csv('data/recipes.csv', index_col=0)\n",
    "recipes.info()"
   ]
  },
  {
   "cell_type": "markdown",
   "metadata": {},
   "source": [
    "#### Print the names of Columns that have null values"
   ]
  },
  {
   "cell_type": "code",
   "execution_count": 18,
   "metadata": {},
   "outputs": [
    {
     "name": "stdout",
     "output_type": "stream",
     "text": [
      "Index(['FiberAmount', 'FiberpercentOfDailyNeed', 'VitaminB6Amount',\n",
      "       'VitaminB6percentOfDailyNeed', 'ManganeseAmount',\n",
      "       'ManganesepercentOfDailyNeed', 'SeleniumAmount',\n",
      "       'SeleniumpercentOfDailyNeed', 'PotassiumAmount',\n",
      "       'PotassiumpercentOfDailyNeed', 'VitaminB2Amount',\n",
      "       'VitaminB2percentOfDailyNeed', 'VitaminCAmount',\n",
      "       'VitaminCpercentOfDailyNeed', 'PhosphorusAmount',\n",
      "       'PhosphoruspercentOfDailyNeed', 'FolateAmount',\n",
      "       'FolatepercentOfDailyNeed', 'VitaminB5Amount',\n",
      "       'VitaminB5percentOfDailyNeed', 'MagnesiumAmount',\n",
      "       'MagnesiumpercentOfDailyNeed', 'IronAmount', 'IronpercentOfDailyNeed',\n",
      "       'VitaminKAmount', 'VitaminKpercentOfDailyNeed', 'CopperAmount',\n",
      "       'CopperpercentOfDailyNeed', 'VitaminAAmount',\n",
      "       'VitaminApercentOfDailyNeed', 'VitaminB12Amount',\n",
      "       'VitaminB12percentOfDailyNeed', 'VitaminDAmount',\n",
      "       'VitaminDpercentOfDailyNeed', 'ZincAmount', 'ZincpercentOfDailyNeed',\n",
      "       'VitaminEAmount', 'VitaminEpercentOfDailyNeed', 'VitaminB3Amount',\n",
      "       'VitaminB3percentOfDailyNeed', 'VitaminB1Amount',\n",
      "       'VitaminB1percentOfDailyNeed', 'AlcoholAmount',\n",
      "       'AlcoholpercentOfDailyNeed', 'CaffeineAmount',\n",
      "       'CaffeinepercentOfDailyNeed'],\n",
      "      dtype='object')\n",
      "Number of columns with null values: 46\n"
     ]
    }
   ],
   "source": [
    "### Columns with null value \n",
    "### Check out isna() method here: https://pandas.pydata.org/pandas-docs/stable/reference/api/pandas.DataFrame.isna.html\n",
    "null_values_mask = recipes.isna().any()\n",
    "columns_with_null = recipes[recipes.columns[null_values_mask]].columns\n",
    "print(columns_with_null)\n",
    "print(f'Number of columns with null values: {len(columns_with_null)}')"
   ]
  },
  {
   "cell_type": "markdown",
   "metadata": {},
   "source": [
    "#### Print the recipes with the highest number of column aggregateLikes"
   ]
  },
  {
   "cell_type": "code",
   "execution_count": 19,
   "metadata": {},
   "outputs": [
    {
     "data": {
      "text/plain": [
       "50    Slow Cooker Spicy Hot Wings\n",
       "Name: title, dtype: object"
      ]
     },
     "execution_count": 19,
     "metadata": {},
     "output_type": "execute_result"
    }
   ],
   "source": [
    "most_likes_mask = recipes['aggregateLikes'] == recipes['aggregateLikes'].max()\n",
    "recipes[most_likes_mask].title"
   ]
  },
  {
   "cell_type": "markdown",
   "metadata": {},
   "source": [
    "#### Handle the missing values of “calcium percent of Daily need”. Sort the resulting DataFrame by id column."
   ]
  },
  {
   "cell_type": "code",
   "execution_count": 20,
   "metadata": {},
   "outputs": [
    {
     "name": "stdout",
     "output_type": "stream",
     "text": [
      "True\n",
      "False\n"
     ]
    }
   ],
   "source": [
    "### A quick check shows that where we have missing values on CalciumAmount we also have missing values on CalciumpercentOfDailyNeed which means we can't interpret the correct values\n",
    "### And that the reason CalciumpercentOfDailyNeed is missing is because CalciumAmount is missing. Which means the best way to handle it is to fill it with 0 instead.\n",
    "print(recipes['CalciumpercentOfDailyNeed'].isna().equals(recipes['CalciumAmount'].isna()))\n",
    "\n",
    "recipes[['CalciumpercentOfDailyNeed', 'CalciumAmount']] = recipes[['CalciumpercentOfDailyNeed','CalciumAmount']].fillna(value=0)\n",
    "\n",
    "print(recipes['CalciumpercentOfDailyNeed'].isna().any()) ### No more missing values"
   ]
  },
  {
   "cell_type": "markdown",
   "metadata": {},
   "source": [
    "#### Delete the columns that have null values == 141"
   ]
  },
  {
   "cell_type": "code",
   "execution_count": 22,
   "metadata": {},
   "outputs": [
    {
     "data": {
      "text/html": [
       "<div>\n",
       "<style scoped>\n",
       "    .dataframe tbody tr th:only-of-type {\n",
       "        vertical-align: middle;\n",
       "    }\n",
       "\n",
       "    .dataframe tbody tr th {\n",
       "        vertical-align: top;\n",
       "    }\n",
       "\n",
       "    .dataframe thead th {\n",
       "        text-align: right;\n",
       "    }\n",
       "</style>\n",
       "<table border=\"1\" class=\"dataframe\">\n",
       "  <thead>\n",
       "    <tr style=\"text-align: right;\">\n",
       "      <th></th>\n",
       "      <th>vegetarian</th>\n",
       "      <th>glutenFree</th>\n",
       "      <th>dairyFree</th>\n",
       "      <th>veryHealthy</th>\n",
       "      <th>healthScore</th>\n",
       "      <th>aggregateLikes</th>\n",
       "      <th>id</th>\n",
       "      <th>title</th>\n",
       "      <th>pricePerServing</th>\n",
       "      <th>readyInMinutes</th>\n",
       "      <th>...</th>\n",
       "      <th>MagnesiumAmount</th>\n",
       "      <th>MagnesiumpercentOfDailyNeed</th>\n",
       "      <th>IronAmount</th>\n",
       "      <th>IronpercentOfDailyNeed</th>\n",
       "      <th>CopperAmount</th>\n",
       "      <th>CopperpercentOfDailyNeed</th>\n",
       "      <th>VitaminB1Amount</th>\n",
       "      <th>VitaminB1percentOfDailyNeed</th>\n",
       "      <th>CalciumAmount</th>\n",
       "      <th>CalciumpercentOfDailyNeed</th>\n",
       "    </tr>\n",
       "  </thead>\n",
       "  <tbody>\n",
       "    <tr>\n",
       "      <th>0</th>\n",
       "      <td>True</td>\n",
       "      <td>True</td>\n",
       "      <td>True</td>\n",
       "      <td>False</td>\n",
       "      <td>1.0</td>\n",
       "      <td>3</td>\n",
       "      <td>633998</td>\n",
       "      <td>Banana Blueberry Pancakes</td>\n",
       "      <td>55.79</td>\n",
       "      <td>45</td>\n",
       "      <td>...</td>\n",
       "      <td>19.91</td>\n",
       "      <td>4.98</td>\n",
       "      <td>0.75</td>\n",
       "      <td>4.14</td>\n",
       "      <td>0.08</td>\n",
       "      <td>3.80</td>\n",
       "      <td>0.03</td>\n",
       "      <td>2.26</td>\n",
       "      <td>18.11</td>\n",
       "      <td>1.81</td>\n",
       "    </tr>\n",
       "    <tr>\n",
       "      <th>1</th>\n",
       "      <td>True</td>\n",
       "      <td>True</td>\n",
       "      <td>False</td>\n",
       "      <td>False</td>\n",
       "      <td>0.0</td>\n",
       "      <td>1</td>\n",
       "      <td>634426</td>\n",
       "      <td>Basil and Orange Confit Compound Butter</td>\n",
       "      <td>15.07</td>\n",
       "      <td>45</td>\n",
       "      <td>...</td>\n",
       "      <td>NaN</td>\n",
       "      <td>NaN</td>\n",
       "      <td>NaN</td>\n",
       "      <td>NaN</td>\n",
       "      <td>NaN</td>\n",
       "      <td>NaN</td>\n",
       "      <td>NaN</td>\n",
       "      <td>NaN</td>\n",
       "      <td>0.00</td>\n",
       "      <td>0.00</td>\n",
       "    </tr>\n",
       "    <tr>\n",
       "      <th>2</th>\n",
       "      <td>False</td>\n",
       "      <td>False</td>\n",
       "      <td>False</td>\n",
       "      <td>False</td>\n",
       "      <td>3.0</td>\n",
       "      <td>1</td>\n",
       "      <td>635085</td>\n",
       "      <td>Black Bottom Banana Bars</td>\n",
       "      <td>78.85</td>\n",
       "      <td>45</td>\n",
       "      <td>...</td>\n",
       "      <td>43.70</td>\n",
       "      <td>10.93</td>\n",
       "      <td>3.14</td>\n",
       "      <td>17.46</td>\n",
       "      <td>0.26</td>\n",
       "      <td>13.10</td>\n",
       "      <td>0.32</td>\n",
       "      <td>21.09</td>\n",
       "      <td>100.80</td>\n",
       "      <td>10.08</td>\n",
       "    </tr>\n",
       "    <tr>\n",
       "      <th>3</th>\n",
       "      <td>True</td>\n",
       "      <td>False</td>\n",
       "      <td>True</td>\n",
       "      <td>False</td>\n",
       "      <td>2.0</td>\n",
       "      <td>1</td>\n",
       "      <td>663229</td>\n",
       "      <td>The Best Raw Chocolate Chip Cookies</td>\n",
       "      <td>54.64</td>\n",
       "      <td>45</td>\n",
       "      <td>...</td>\n",
       "      <td>8.51</td>\n",
       "      <td>2.13</td>\n",
       "      <td>1.21</td>\n",
       "      <td>6.71</td>\n",
       "      <td>0.03</td>\n",
       "      <td>1.65</td>\n",
       "      <td>0.10</td>\n",
       "      <td>6.47</td>\n",
       "      <td>26.79</td>\n",
       "      <td>2.68</td>\n",
       "    </tr>\n",
       "    <tr>\n",
       "      <th>4</th>\n",
       "      <td>False</td>\n",
       "      <td>True</td>\n",
       "      <td>False</td>\n",
       "      <td>False</td>\n",
       "      <td>31.0</td>\n",
       "      <td>3</td>\n",
       "      <td>651437</td>\n",
       "      <td>Mediterranean Spinach Artichoke Dip</td>\n",
       "      <td>115.26</td>\n",
       "      <td>45</td>\n",
       "      <td>...</td>\n",
       "      <td>42.27</td>\n",
       "      <td>10.57</td>\n",
       "      <td>1.48</td>\n",
       "      <td>8.23</td>\n",
       "      <td>0.13</td>\n",
       "      <td>6.39</td>\n",
       "      <td>0.07</td>\n",
       "      <td>4.64</td>\n",
       "      <td>162.84</td>\n",
       "      <td>16.28</td>\n",
       "    </tr>\n",
       "    <tr>\n",
       "      <th>...</th>\n",
       "      <td>...</td>\n",
       "      <td>...</td>\n",
       "      <td>...</td>\n",
       "      <td>...</td>\n",
       "      <td>...</td>\n",
       "      <td>...</td>\n",
       "      <td>...</td>\n",
       "      <td>...</td>\n",
       "      <td>...</td>\n",
       "      <td>...</td>\n",
       "      <td>...</td>\n",
       "      <td>...</td>\n",
       "      <td>...</td>\n",
       "      <td>...</td>\n",
       "      <td>...</td>\n",
       "      <td>...</td>\n",
       "      <td>...</td>\n",
       "      <td>...</td>\n",
       "      <td>...</td>\n",
       "      <td>...</td>\n",
       "      <td>...</td>\n",
       "    </tr>\n",
       "    <tr>\n",
       "      <th>145</th>\n",
       "      <td>False</td>\n",
       "      <td>True</td>\n",
       "      <td>True</td>\n",
       "      <td>False</td>\n",
       "      <td>18.0</td>\n",
       "      <td>13</td>\n",
       "      <td>638315</td>\n",
       "      <td>Chicken Sausage, White Bean and Cabbage Soup</td>\n",
       "      <td>196.23</td>\n",
       "      <td>45</td>\n",
       "      <td>...</td>\n",
       "      <td>53.40</td>\n",
       "      <td>13.35</td>\n",
       "      <td>3.34</td>\n",
       "      <td>18.53</td>\n",
       "      <td>0.21</td>\n",
       "      <td>10.62</td>\n",
       "      <td>0.15</td>\n",
       "      <td>10.23</td>\n",
       "      <td>102.67</td>\n",
       "      <td>10.27</td>\n",
       "    </tr>\n",
       "    <tr>\n",
       "      <th>146</th>\n",
       "      <td>True</td>\n",
       "      <td>False</td>\n",
       "      <td>False</td>\n",
       "      <td>False</td>\n",
       "      <td>1.0</td>\n",
       "      <td>2</td>\n",
       "      <td>656248</td>\n",
       "      <td>Pinot Noir Brownies</td>\n",
       "      <td>65.76</td>\n",
       "      <td>45</td>\n",
       "      <td>...</td>\n",
       "      <td>33.91</td>\n",
       "      <td>8.48</td>\n",
       "      <td>1.13</td>\n",
       "      <td>6.28</td>\n",
       "      <td>0.28</td>\n",
       "      <td>14.15</td>\n",
       "      <td>0.03</td>\n",
       "      <td>1.68</td>\n",
       "      <td>19.82</td>\n",
       "      <td>1.98</td>\n",
       "    </tr>\n",
       "    <tr>\n",
       "      <th>147</th>\n",
       "      <td>True</td>\n",
       "      <td>True</td>\n",
       "      <td>True</td>\n",
       "      <td>True</td>\n",
       "      <td>93.0</td>\n",
       "      <td>2</td>\n",
       "      <td>637297</td>\n",
       "      <td>Cauliflower Chickpea Stew</td>\n",
       "      <td>139.28</td>\n",
       "      <td>45</td>\n",
       "      <td>...</td>\n",
       "      <td>162.82</td>\n",
       "      <td>40.71</td>\n",
       "      <td>4.85</td>\n",
       "      <td>26.92</td>\n",
       "      <td>0.68</td>\n",
       "      <td>34.15</td>\n",
       "      <td>0.45</td>\n",
       "      <td>29.70</td>\n",
       "      <td>141.16</td>\n",
       "      <td>14.12</td>\n",
       "    </tr>\n",
       "    <tr>\n",
       "      <th>148</th>\n",
       "      <td>True</td>\n",
       "      <td>True</td>\n",
       "      <td>False</td>\n",
       "      <td>False</td>\n",
       "      <td>5.0</td>\n",
       "      <td>1</td>\n",
       "      <td>659412</td>\n",
       "      <td>Sautéed Balsamic Green Beans With Cherry Tomatoes</td>\n",
       "      <td>101.81</td>\n",
       "      <td>45</td>\n",
       "      <td>...</td>\n",
       "      <td>35.26</td>\n",
       "      <td>8.82</td>\n",
       "      <td>1.65</td>\n",
       "      <td>9.18</td>\n",
       "      <td>0.13</td>\n",
       "      <td>6.71</td>\n",
       "      <td>0.12</td>\n",
       "      <td>7.85</td>\n",
       "      <td>55.64</td>\n",
       "      <td>5.56</td>\n",
       "    </tr>\n",
       "    <tr>\n",
       "      <th>149</th>\n",
       "      <td>True</td>\n",
       "      <td>True</td>\n",
       "      <td>True</td>\n",
       "      <td>True</td>\n",
       "      <td>100.0</td>\n",
       "      <td>4</td>\n",
       "      <td>647875</td>\n",
       "      <td>Indian-Style Dill and Turmeric Potato Salad</td>\n",
       "      <td>117.24</td>\n",
       "      <td>30</td>\n",
       "      <td>...</td>\n",
       "      <td>7.36</td>\n",
       "      <td>1.84</td>\n",
       "      <td>0.99</td>\n",
       "      <td>5.49</td>\n",
       "      <td>0.02</td>\n",
       "      <td>1.18</td>\n",
       "      <td>NaN</td>\n",
       "      <td>NaN</td>\n",
       "      <td>27.96</td>\n",
       "      <td>2.80</td>\n",
       "    </tr>\n",
       "  </tbody>\n",
       "</table>\n",
       "<p>150 rows × 52 columns</p>\n",
       "</div>"
      ],
      "text/plain": [
       "     vegetarian  glutenFree  dairyFree  veryHealthy  healthScore  \\\n",
       "0          True        True       True        False          1.0   \n",
       "1          True        True      False        False          0.0   \n",
       "2         False       False      False        False          3.0   \n",
       "3          True       False       True        False          2.0   \n",
       "4         False        True      False        False         31.0   \n",
       "..          ...         ...        ...          ...          ...   \n",
       "145       False        True       True        False         18.0   \n",
       "146        True       False      False        False          1.0   \n",
       "147        True        True       True         True         93.0   \n",
       "148        True        True      False        False          5.0   \n",
       "149        True        True       True         True        100.0   \n",
       "\n",
       "     aggregateLikes      id  \\\n",
       "0                 3  633998   \n",
       "1                 1  634426   \n",
       "2                 1  635085   \n",
       "3                 1  663229   \n",
       "4                 3  651437   \n",
       "..              ...     ...   \n",
       "145              13  638315   \n",
       "146               2  656248   \n",
       "147               2  637297   \n",
       "148               1  659412   \n",
       "149               4  647875   \n",
       "\n",
       "                                                 title  pricePerServing  \\\n",
       "0                            Banana Blueberry Pancakes            55.79   \n",
       "1              Basil and Orange Confit Compound Butter            15.07   \n",
       "2                             Black Bottom Banana Bars            78.85   \n",
       "3                  The Best Raw Chocolate Chip Cookies            54.64   \n",
       "4                  Mediterranean Spinach Artichoke Dip           115.26   \n",
       "..                                                 ...              ...   \n",
       "145       Chicken Sausage, White Bean and Cabbage Soup           196.23   \n",
       "146                                Pinot Noir Brownies            65.76   \n",
       "147                          Cauliflower Chickpea Stew           139.28   \n",
       "148  Sautéed Balsamic Green Beans With Cherry Tomatoes           101.81   \n",
       "149        Indian-Style Dill and Turmeric Potato Salad           117.24   \n",
       "\n",
       "     readyInMinutes  ...  MagnesiumAmount MagnesiumpercentOfDailyNeed  \\\n",
       "0                45  ...            19.91                        4.98   \n",
       "1                45  ...              NaN                         NaN   \n",
       "2                45  ...            43.70                       10.93   \n",
       "3                45  ...             8.51                        2.13   \n",
       "4                45  ...            42.27                       10.57   \n",
       "..              ...  ...              ...                         ...   \n",
       "145              45  ...            53.40                       13.35   \n",
       "146              45  ...            33.91                        8.48   \n",
       "147              45  ...           162.82                       40.71   \n",
       "148              45  ...            35.26                        8.82   \n",
       "149              30  ...             7.36                        1.84   \n",
       "\n",
       "     IronAmount  IronpercentOfDailyNeed  CopperAmount  \\\n",
       "0          0.75                    4.14          0.08   \n",
       "1           NaN                     NaN           NaN   \n",
       "2          3.14                   17.46          0.26   \n",
       "3          1.21                    6.71          0.03   \n",
       "4          1.48                    8.23          0.13   \n",
       "..          ...                     ...           ...   \n",
       "145        3.34                   18.53          0.21   \n",
       "146        1.13                    6.28          0.28   \n",
       "147        4.85                   26.92          0.68   \n",
       "148        1.65                    9.18          0.13   \n",
       "149        0.99                    5.49          0.02   \n",
       "\n",
       "     CopperpercentOfDailyNeed  VitaminB1Amount  VitaminB1percentOfDailyNeed  \\\n",
       "0                        3.80             0.03                         2.26   \n",
       "1                         NaN              NaN                          NaN   \n",
       "2                       13.10             0.32                        21.09   \n",
       "3                        1.65             0.10                         6.47   \n",
       "4                        6.39             0.07                         4.64   \n",
       "..                        ...              ...                          ...   \n",
       "145                     10.62             0.15                        10.23   \n",
       "146                     14.15             0.03                         1.68   \n",
       "147                     34.15             0.45                        29.70   \n",
       "148                      6.71             0.12                         7.85   \n",
       "149                      1.18              NaN                          NaN   \n",
       "\n",
       "     CalciumAmount  CalciumpercentOfDailyNeed  \n",
       "0            18.11                       1.81  \n",
       "1             0.00                       0.00  \n",
       "2           100.80                      10.08  \n",
       "3            26.79                       2.68  \n",
       "4           162.84                      16.28  \n",
       "..             ...                        ...  \n",
       "145         102.67                      10.27  \n",
       "146          19.82                       1.98  \n",
       "147         141.16                      14.12  \n",
       "148          55.64                       5.56  \n",
       "149          27.96                       2.80  \n",
       "\n",
       "[150 rows x 52 columns]"
      ]
     },
     "execution_count": 22,
     "metadata": {},
     "output_type": "execute_result"
    }
   ],
   "source": [
    "recipes.dropna(thresh=141, axis=1) ### No columns were dropped"
   ]
  },
  {
   "cell_type": "markdown",
   "metadata": {},
   "source": [
    "#### Print the title of the recipes that are vegetarian == TRUE and glutenFree == True"
   ]
  },
  {
   "cell_type": "code",
   "execution_count": 23,
   "metadata": {},
   "outputs": [
    {
     "data": {
      "text/plain": [
       "0                              Banana Blueberry Pancakes\n",
       "1                Basil and Orange Confit Compound Butter\n",
       "14                            Spicy Carrot Amaranth Soup\n",
       "15                                            Nutty Rice\n",
       "20                           Fire Roasted Tomato Chutney\n",
       "22                                 Butternut Squash Soup\n",
       "24                         Green Beans with Garlic Chips\n",
       "27                                Easy Eggplant Parmesan\n",
       "29                                            Kappa Maki\n",
       "30                              Vegan Chana Masala Curry\n",
       "31     Grilled Peach Melba with Vanilla Bean Frozen Y...\n",
       "33                             Detox Orange Carrot Juice\n",
       "37                      Roasted Asparagus with Egg Salad\n",
       "39                   Three Ingredient Frozen Pina Colada\n",
       "42                               Peach Coconut Ice Cream\n",
       "57     Sautéed Balsamic Green Beans With Cherry Tomatoes\n",
       "61                              Ginger Melon Side Salad \n",
       "69                      Chicken with Avocado Peach Salsa\n",
       "72                             EASY, CUMIN-LENTIL SPREAD\n",
       "80                                 Luscious Palak Paneer\n",
       "85                                             Beet Slaw\n",
       "93             Roasted Strawberry Coconut Milk Ice Cream\n",
       "96                                    Breakfast Porridge\n",
       "97     Peanut Butter Cookies with Flax Seeds and Choc...\n",
       "100                                  Blender Carrot Soup\n",
       "101                                      Dandelion pesto\n",
       "102                                Coconut Flour Muffins\n",
       "106                              Japanese Cucumber Salad\n",
       "107                           Blueberry Mojito Popsicles\n",
       "119                                     Fried Brown Rice\n",
       "123                                 Seasonal Autumn Stew\n",
       "126    Slow Cooker Healthy Sweet Potato Soup with Coc...\n",
       "129    Blueberry, Persimmon Smoothie with Banana and ...\n",
       "131                              Mango Cranberry Sherbet\n",
       "132                          Cherries and Yogurt Parfait\n",
       "133                              The Pearhattan Cocktail\n",
       "134            Garlic-Roasted Brussels Sprouts Side Dish\n",
       "139                                  Layered Greek Salad\n",
       "143                      Stir Fried Cabbage and Tomatoes\n",
       "147                            Cauliflower Chickpea Stew\n",
       "148    Sautéed Balsamic Green Beans With Cherry Tomatoes\n",
       "149          Indian-Style Dill and Turmeric Potato Salad\n",
       "Name: title, dtype: object"
      ]
     },
     "execution_count": 23,
     "metadata": {},
     "output_type": "execute_result"
    }
   ],
   "source": [
    "mask = recipes['vegetarian'] == True\n",
    "mask_2 = recipes['glutenFree'] == True\n",
    "recipes[mask & mask_2].title"
   ]
  },
  {
   "cell_type": "markdown",
   "metadata": {},
   "source": [
    "#### How many vegan recipes are there (Vegan = Vegetarian and dairy free)?"
   ]
  },
  {
   "cell_type": "code",
   "execution_count": 25,
   "metadata": {},
   "outputs": [
    {
     "name": "stdout",
     "output_type": "stream",
     "text": [
      "29\n"
     ]
    }
   ],
   "source": [
    "mask = recipes['vegetarian'] == True\n",
    "mask_2 = recipes['dairyFree'] == True\n",
    "vegan_recipes = recipes[mask & mask_2]\n",
    "print(len(vegan_recipes))"
   ]
  },
  {
   "cell_type": "markdown",
   "metadata": {},
   "source": [
    "#### Compare the average amount of Vitamin B12 for the vegan and non-vegan recipes. How reliable are the results?"
   ]
  },
  {
   "cell_type": "code",
   "execution_count": 27,
   "metadata": {},
   "outputs": [
    {
     "name": "stdout",
     "output_type": "stream",
     "text": [
      "0.24333333333333332\n",
      "Number of vegan recipes 29\n",
      "Null values in VitaminB12Amount in vegan recipes 26\n"
     ]
    }
   ],
   "source": [
    "print(vegan_recipes['VitaminB12Amount'].mean())\n",
    "print(f'Number of vegan recipes {len(vegan_recipes)}')\n",
    "print(f\"Null values in VitaminB12Amount in vegan recipes {vegan_recipes['VitaminB12Amount'].isna().sum()}\")"
   ]
  },
  {
   "cell_type": "code",
   "execution_count": 28,
   "metadata": {},
   "outputs": [
    {
     "name": "stdout",
     "output_type": "stream",
     "text": [
      "1.0472619047619045\n",
      "Number of none vegan recipes 108\n",
      "Null values in VitaminB12Amount in none vegan recipes 24\n"
     ]
    }
   ],
   "source": [
    "mask = recipes['vegetarian'] == False\n",
    "mask_2 = recipes['glutenFree'] == False\n",
    "none_vegan_recipes = recipes[mask | mask_2]\n",
    "print(none_vegan_recipes['VitaminB12Amount'].mean())\n",
    "print(f'Number of none vegan recipes {len(none_vegan_recipes)}')\n",
    "print(f\"Null values in VitaminB12Amount in none vegan recipes {none_vegan_recipes['VitaminB12Amount'].isna().sum()}\")"
   ]
  },
  {
   "cell_type": "code",
   "execution_count": 29,
   "metadata": {},
   "outputs": [],
   "source": [
    "### Results are not too reliable dure to the ratio of null values in each column. The nonvegan has 89.66% null percentage while the percentage for the vegan recipes is 22.22%."
   ]
  },
  {
   "cell_type": "markdown",
   "metadata": {},
   "source": [
    "#### Compare the average health Score for both types of recipes (vegan vs non-vegan)."
   ]
  },
  {
   "cell_type": "code",
   "execution_count": 30,
   "metadata": {},
   "outputs": [
    {
     "name": "stdout",
     "output_type": "stream",
     "text": [
      "27.724137931034484\n",
      "Number of vegan recipes 29\n",
      "Null values in healthScore in vegan recipes 0\n"
     ]
    }
   ],
   "source": [
    "print(vegan_recipes['healthScore'].mean())\n",
    "print(f'Number of vegan recipes {len(vegan_recipes)}')\n",
    "print(f\"Null values in healthScore in vegan recipes {vegan_recipes['healthScore'].isna().sum()}\")"
   ]
  },
  {
   "cell_type": "code",
   "execution_count": 31,
   "metadata": {},
   "outputs": [
    {
     "name": "stdout",
     "output_type": "stream",
     "text": [
      "19.73148148148148\n",
      "Number of none vegan recipes 108\n",
      "Null values in healthScore of none vegan recipes 0\n"
     ]
    }
   ],
   "source": [
    "print(none_vegan_recipes['healthScore'].mean())\n",
    "print(f'Number of none vegan recipes {len(none_vegan_recipes)}')\n",
    "print(f\"Null values in healthScore of none vegan recipes {none_vegan_recipes['healthScore'].isna().sum()}\")"
   ]
  },
  {
   "cell_type": "code",
   "execution_count": 32,
   "metadata": {},
   "outputs": [],
   "source": [
    "### We can see that the vegan recipes has a higher average health score than none vegan recipes."
   ]
  },
  {
   "cell_type": "markdown",
   "metadata": {},
   "source": [
    "#### Create a new column: \"VeganWeek\" where you decrease the price of vegan products by 10%, but only if they already cost more than 100."
   ]
  },
  {
   "cell_type": "code",
   "execution_count": 33,
   "metadata": {},
   "outputs": [
    {
     "data": {
      "text/plain": [
       "0       55.790\n",
       "1       15.070\n",
       "2       78.850\n",
       "3       54.640\n",
       "4      115.260\n",
       "        ...   \n",
       "145    196.230\n",
       "146     65.760\n",
       "147    125.352\n",
       "148    101.810\n",
       "149    105.516\n",
       "Name: VeganWeek, Length: 150, dtype: float64"
      ]
     },
     "execution_count": 33,
     "metadata": {},
     "output_type": "execute_result"
    }
   ],
   "source": [
    "mask = recipes['vegetarian'] == True\n",
    "mask_2 = recipes['dairyFree'] == True\n",
    "mask_3 = recipes['pricePerServing'] > 100\n",
    "recipes['VeganWeek'] = recipes[mask & mask_2 & mask_3]['pricePerServing'] * 0.9 ## Update price\n",
    "recipes['VeganWeek'] = recipes['VeganWeek'].fillna(value=recipes['pricePerServing']) ## Fill null values with original price (undiscounted)\n",
    "recipes['VeganWeek']"
   ]
  },
  {
   "cell_type": "markdown",
   "metadata": {},
   "source": [
    "#### Among the non-vegan recipes, find the one requiring most time to prepare. How is it called?"
   ]
  },
  {
   "cell_type": "code",
   "execution_count": 34,
   "metadata": {},
   "outputs": [
    {
     "name": "stdout",
     "output_type": "stream",
     "text": [
      "Oeufs En Meurette recipe takes the most time at 328 minutes\n"
     ]
    }
   ],
   "source": [
    "most_time_consuming_recipe = none_vegan_recipes.loc[none_vegan_recipes['readyInMinutes'].idxmax()]\n",
    "\n",
    "print(f'{most_time_consuming_recipe.title} recipe takes the most time at {most_time_consuming_recipe.readyInMinutes} minutes')\n"
   ]
  }
 ],
 "metadata": {
  "kernelspec": {
   "display_name": "Python 3 (ipykernel)",
   "language": "python",
   "name": "python3"
  },
  "language_info": {
   "codemirror_mode": {
    "name": "ipython",
    "version": 3
   },
   "file_extension": ".py",
   "mimetype": "text/x-python",
   "name": "python",
   "nbconvert_exporter": "python",
   "pygments_lexer": "ipython3",
   "version": "3.10.7"
  }
 },
 "nbformat": 4,
 "nbformat_minor": 4
}

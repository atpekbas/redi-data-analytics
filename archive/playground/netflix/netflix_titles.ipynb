{
 "cells": [
  {
   "cell_type": "code",
   "execution_count": 69,
   "id": "d9cb994e-a0d5-4aa4-9da0-c8241d8a90c8",
   "metadata": {},
   "outputs": [],
   "source": [
    "import pandas as pd\n",
    "import numpy as np"
   ]
  },
  {
   "cell_type": "markdown",
   "id": "874e0519-29b4-4d2e-a681-99b60cc3cc2c",
   "metadata": {},
   "source": [
    "### Loading the data"
   ]
  },
  {
   "cell_type": "code",
   "execution_count": 70,
   "id": "a97321ec-e569-4804-864a-aee324f31fd6",
   "metadata": {},
   "outputs": [
    {
     "data": {
      "text/html": [
       "<div>\n",
       "<style scoped>\n",
       "    .dataframe tbody tr th:only-of-type {\n",
       "        vertical-align: middle;\n",
       "    }\n",
       "\n",
       "    .dataframe tbody tr th {\n",
       "        vertical-align: top;\n",
       "    }\n",
       "\n",
       "    .dataframe thead th {\n",
       "        text-align: right;\n",
       "    }\n",
       "</style>\n",
       "<table border=\"1\" class=\"dataframe\">\n",
       "  <thead>\n",
       "    <tr style=\"text-align: right;\">\n",
       "      <th></th>\n",
       "      <th>show_id</th>\n",
       "      <th>type</th>\n",
       "      <th>title</th>\n",
       "      <th>director</th>\n",
       "      <th>cast</th>\n",
       "      <th>country</th>\n",
       "      <th>date_added</th>\n",
       "      <th>release_year</th>\n",
       "      <th>rating</th>\n",
       "      <th>duration</th>\n",
       "      <th>listed_in</th>\n",
       "      <th>description</th>\n",
       "    </tr>\n",
       "  </thead>\n",
       "  <tbody>\n",
       "    <tr>\n",
       "      <th>0</th>\n",
       "      <td>s1</td>\n",
       "      <td>Movie</td>\n",
       "      <td>Dick Johnson Is Dead</td>\n",
       "      <td>Kirsten Johnson</td>\n",
       "      <td>NaN</td>\n",
       "      <td>United States</td>\n",
       "      <td>September 25, 2021</td>\n",
       "      <td>2020</td>\n",
       "      <td>PG-13</td>\n",
       "      <td>90 min</td>\n",
       "      <td>Documentaries</td>\n",
       "      <td>As her father nears the end of his life, filmm...</td>\n",
       "    </tr>\n",
       "  </tbody>\n",
       "</table>\n",
       "</div>"
      ],
      "text/plain": [
       "  show_id   type                 title         director cast        country  \\\n",
       "0      s1  Movie  Dick Johnson Is Dead  Kirsten Johnson  NaN  United States   \n",
       "\n",
       "           date_added  release_year rating duration      listed_in  \\\n",
       "0  September 25, 2021          2020  PG-13   90 min  Documentaries   \n",
       "\n",
       "                                         description  \n",
       "0  As her father nears the end of his life, filmm...  "
      ]
     },
     "execution_count": 70,
     "metadata": {},
     "output_type": "execute_result"
    }
   ],
   "source": [
    "df_raw = pd.read_csv(\"netflix_titles.csv\")\n",
    "df_raw.head(1)"
   ]
  },
  {
   "cell_type": "markdown",
   "id": "f1c34893-efa1-4ca0-b55f-29174caae0e3",
   "metadata": {
    "tags": []
   },
   "source": [
    "### Analysing the dataset"
   ]
  },
  {
   "cell_type": "code",
   "execution_count": 71,
   "id": "f40cd044-38de-4771-86d5-940ef59a4193",
   "metadata": {},
   "outputs": [
    {
     "name": "stdout",
     "output_type": "stream",
     "text": [
      "<class 'pandas.core.frame.DataFrame'>\n",
      "RangeIndex: 8807 entries, 0 to 8806\n",
      "Data columns (total 12 columns):\n",
      " #   Column        Non-Null Count  Dtype \n",
      "---  ------        --------------  ----- \n",
      " 0   show_id       8807 non-null   object\n",
      " 1   type          8807 non-null   object\n",
      " 2   title         8807 non-null   object\n",
      " 3   director      6173 non-null   object\n",
      " 4   cast          7982 non-null   object\n",
      " 5   country       7976 non-null   object\n",
      " 6   date_added    8797 non-null   object\n",
      " 7   release_year  8807 non-null   int64 \n",
      " 8   rating        8803 non-null   object\n",
      " 9   duration      8804 non-null   object\n",
      " 10  listed_in     8807 non-null   object\n",
      " 11  description   8807 non-null   object\n",
      "dtypes: int64(1), object(11)\n",
      "memory usage: 825.8+ KB\n"
     ]
    }
   ],
   "source": [
    "df_raw.info()"
   ]
  },
  {
   "cell_type": "code",
   "execution_count": 72,
   "id": "de6703b0-87af-4636-9c4e-1c35bb739a2d",
   "metadata": {},
   "outputs": [
    {
     "data": {
      "text/html": [
       "<div>\n",
       "<style scoped>\n",
       "    .dataframe tbody tr th:only-of-type {\n",
       "        vertical-align: middle;\n",
       "    }\n",
       "\n",
       "    .dataframe tbody tr th {\n",
       "        vertical-align: top;\n",
       "    }\n",
       "\n",
       "    .dataframe thead th {\n",
       "        text-align: right;\n",
       "    }\n",
       "</style>\n",
       "<table border=\"1\" class=\"dataframe\">\n",
       "  <thead>\n",
       "    <tr style=\"text-align: right;\">\n",
       "      <th></th>\n",
       "      <th>show_id</th>\n",
       "      <th>type</th>\n",
       "      <th>title</th>\n",
       "      <th>director</th>\n",
       "      <th>cast</th>\n",
       "      <th>country</th>\n",
       "      <th>date_added</th>\n",
       "      <th>release_year</th>\n",
       "      <th>rating</th>\n",
       "      <th>duration</th>\n",
       "      <th>listed_in</th>\n",
       "      <th>description</th>\n",
       "    </tr>\n",
       "  </thead>\n",
       "  <tbody>\n",
       "    <tr>\n",
       "      <th>dtype</th>\n",
       "      <td>object</td>\n",
       "      <td>object</td>\n",
       "      <td>object</td>\n",
       "      <td>object</td>\n",
       "      <td>object</td>\n",
       "      <td>object</td>\n",
       "      <td>object</td>\n",
       "      <td>int64</td>\n",
       "      <td>object</td>\n",
       "      <td>object</td>\n",
       "      <td>object</td>\n",
       "      <td>object</td>\n",
       "    </tr>\n",
       "    <tr>\n",
       "      <th>count</th>\n",
       "      <td>8807</td>\n",
       "      <td>8807</td>\n",
       "      <td>8807</td>\n",
       "      <td>6173</td>\n",
       "      <td>7982</td>\n",
       "      <td>7976</td>\n",
       "      <td>8797</td>\n",
       "      <td>8807</td>\n",
       "      <td>8803</td>\n",
       "      <td>8804</td>\n",
       "      <td>8807</td>\n",
       "      <td>8807</td>\n",
       "    </tr>\n",
       "    <tr>\n",
       "      <th>nunique</th>\n",
       "      <td>8807</td>\n",
       "      <td>2</td>\n",
       "      <td>8807</td>\n",
       "      <td>4528</td>\n",
       "      <td>7692</td>\n",
       "      <td>748</td>\n",
       "      <td>1767</td>\n",
       "      <td>74</td>\n",
       "      <td>17</td>\n",
       "      <td>220</td>\n",
       "      <td>514</td>\n",
       "      <td>8775</td>\n",
       "    </tr>\n",
       "    <tr>\n",
       "      <th>isNull</th>\n",
       "      <td>0</td>\n",
       "      <td>0</td>\n",
       "      <td>0</td>\n",
       "      <td>2634</td>\n",
       "      <td>825</td>\n",
       "      <td>831</td>\n",
       "      <td>10</td>\n",
       "      <td>0</td>\n",
       "      <td>4</td>\n",
       "      <td>3</td>\n",
       "      <td>0</td>\n",
       "      <td>0</td>\n",
       "    </tr>\n",
       "  </tbody>\n",
       "</table>\n",
       "</div>"
      ],
      "text/plain": [
       "        show_id    type   title director    cast country date_added  \\\n",
       "dtype    object  object  object   object  object  object     object   \n",
       "count      8807    8807    8807     6173    7982    7976       8797   \n",
       "nunique    8807       2    8807     4528    7692     748       1767   \n",
       "isNull        0       0       0     2634     825     831         10   \n",
       "\n",
       "        release_year  rating duration listed_in description  \n",
       "dtype          int64  object   object    object      object  \n",
       "count           8807    8803     8804      8807        8807  \n",
       "nunique           74      17      220       514        8775  \n",
       "isNull             0       4        3         0           0  "
      ]
     },
     "execution_count": 72,
     "metadata": {},
     "output_type": "execute_result"
    }
   ],
   "source": [
    "def isNull(x):\n",
    "    return x.isna().sum()\n",
    "\n",
    "df_raw.agg(['dtype', 'count', 'nunique', isNull])"
   ]
  },
  {
   "cell_type": "markdown",
   "id": "86fd74f4-7429-445f-8eec-cd4a62486b38",
   "metadata": {
    "tags": []
   },
   "source": [
    "### Cleaning the data"
   ]
  },
  {
   "cell_type": "code",
   "execution_count": 73,
   "id": "a3f21db1-5a72-4063-a8d2-6b13417f3301",
   "metadata": {},
   "outputs": [],
   "source": [
    "# Remove rows that have null values in one of the defined columns\n",
    "df = df_raw.dropna(subset=['date_added', 'rating', 'duration', 'country'])\n",
    "# Remove the defined columns\n",
    "df = df.drop(['director', 'cast', 'description'], axis=1)"
   ]
  },
  {
   "cell_type": "code",
   "execution_count": 74,
   "id": "c352670e-0a0c-4dad-9c8a-cb31f9c2063f",
   "metadata": {},
   "outputs": [],
   "source": [
    "# Parse date_added to datetimes\n",
    "df['date_added'] = pd.to_datetime(df['date_added'].str.strip(), format='%B %d, %Y')"
   ]
  },
  {
   "cell_type": "code",
   "execution_count": 75,
   "id": "94fbb399-09e8-4aab-8e04-e9afee23b3f7",
   "metadata": {
    "tags": []
   },
   "outputs": [],
   "source": [
    "# Cast durations to int\n",
    "isMovie = df['type'] == 'Movie'\n",
    "df.loc[isMovie, 'duration'] = df.loc[isMovie, 'duration'].str.split(' ').str[0]\n",
    "df.loc[~isMovie, 'duration'] = df.loc[~isMovie, 'duration'].str.split(' ').str[0]\n",
    "df.duration = df.duration.astype(int)"
   ]
  },
  {
   "cell_type": "code",
   "execution_count": 76,
   "id": "0ffbc0e6-4e1c-4290-9c0b-6337b8a1a08c",
   "metadata": {},
   "outputs": [],
   "source": [
    "# Create new column with number of countries\n",
    "df['no_countries'] = df['country'].str.split(',').str.len()"
   ]
  },
  {
   "cell_type": "code",
   "execution_count": 77,
   "id": "40e493c0-c4c4-43f3-87fb-f7863ce07f87",
   "metadata": {},
   "outputs": [],
   "source": [
    "df['main_country'] = df['country'].str.split(',').str[0]"
   ]
  },
  {
   "cell_type": "code",
   "execution_count": 78,
   "id": "2f6d3975-4af1-4852-bde1-3b4ae6371462",
   "metadata": {},
   "outputs": [
    {
     "data": {
      "text/html": [
       "<div>\n",
       "<style scoped>\n",
       "    .dataframe tbody tr th:only-of-type {\n",
       "        vertical-align: middle;\n",
       "    }\n",
       "\n",
       "    .dataframe tbody tr th {\n",
       "        vertical-align: top;\n",
       "    }\n",
       "\n",
       "    .dataframe thead th {\n",
       "        text-align: right;\n",
       "    }\n",
       "</style>\n",
       "<table border=\"1\" class=\"dataframe\">\n",
       "  <thead>\n",
       "    <tr style=\"text-align: right;\">\n",
       "      <th></th>\n",
       "      <th>show_id</th>\n",
       "      <th>type</th>\n",
       "      <th>title</th>\n",
       "      <th>country</th>\n",
       "      <th>date_added</th>\n",
       "      <th>release_year</th>\n",
       "      <th>rating</th>\n",
       "      <th>duration</th>\n",
       "      <th>listed_in</th>\n",
       "      <th>no_countries</th>\n",
       "      <th>main_country</th>\n",
       "    </tr>\n",
       "  </thead>\n",
       "  <tbody>\n",
       "    <tr>\n",
       "      <th>dtype</th>\n",
       "      <td>object</td>\n",
       "      <td>object</td>\n",
       "      <td>object</td>\n",
       "      <td>object</td>\n",
       "      <td>datetime64[ns]</td>\n",
       "      <td>int64</td>\n",
       "      <td>object</td>\n",
       "      <td>int32</td>\n",
       "      <td>object</td>\n",
       "      <td>int64</td>\n",
       "      <td>object</td>\n",
       "    </tr>\n",
       "    <tr>\n",
       "      <th>count</th>\n",
       "      <td>7961</td>\n",
       "      <td>7961</td>\n",
       "      <td>7961</td>\n",
       "      <td>7961</td>\n",
       "      <td>7961</td>\n",
       "      <td>7961</td>\n",
       "      <td>7961</td>\n",
       "      <td>7961</td>\n",
       "      <td>7961</td>\n",
       "      <td>7961</td>\n",
       "      <td>7961</td>\n",
       "    </tr>\n",
       "    <tr>\n",
       "      <th>nunique</th>\n",
       "      <td>7961</td>\n",
       "      <td>2</td>\n",
       "      <td>7961</td>\n",
       "      <td>748</td>\n",
       "      <td>1683</td>\n",
       "      <td>73</td>\n",
       "      <td>14</td>\n",
       "      <td>203</td>\n",
       "      <td>497</td>\n",
       "      <td>10</td>\n",
       "      <td>86</td>\n",
       "    </tr>\n",
       "    <tr>\n",
       "      <th>isNull</th>\n",
       "      <td>0</td>\n",
       "      <td>0</td>\n",
       "      <td>0</td>\n",
       "      <td>0</td>\n",
       "      <td>0</td>\n",
       "      <td>0</td>\n",
       "      <td>0</td>\n",
       "      <td>0</td>\n",
       "      <td>0</td>\n",
       "      <td>0</td>\n",
       "      <td>0</td>\n",
       "    </tr>\n",
       "  </tbody>\n",
       "</table>\n",
       "</div>"
      ],
      "text/plain": [
       "        show_id    type   title country      date_added release_year  rating  \\\n",
       "dtype    object  object  object  object  datetime64[ns]        int64  object   \n",
       "count      7961    7961    7961    7961            7961         7961    7961   \n",
       "nunique    7961       2    7961     748            1683           73      14   \n",
       "isNull        0       0       0       0               0            0       0   \n",
       "\n",
       "        duration listed_in no_countries main_country  \n",
       "dtype      int32    object        int64       object  \n",
       "count       7961      7961         7961         7961  \n",
       "nunique      203       497           10           86  \n",
       "isNull         0         0            0            0  "
      ]
     },
     "execution_count": 78,
     "metadata": {},
     "output_type": "execute_result"
    }
   ],
   "source": [
    "df.agg(['dtype', 'count', 'nunique', isNull])"
   ]
  },
  {
   "cell_type": "code",
   "execution_count": 79,
   "id": "87947365-17bc-4bce-a3e4-bd405cacd2ed",
   "metadata": {},
   "outputs": [],
   "source": [
    "df.to_csv('netflix_titles_cleaned.csv', index=False)"
   ]
  },
  {
   "cell_type": "markdown",
   "id": "b20e5ac1-4cbb-44dc-87f9-cfb4c580a0b4",
   "metadata": {},
   "source": [
    "### Queries"
   ]
  },
  {
   "cell_type": "code",
   "execution_count": 82,
   "id": "a169aee6-b885-48a4-9755-2d28027da7a1",
   "metadata": {},
   "outputs": [],
   "source": [
    "df = pd.read_csv('netflix_titles_cleaned.csv')"
   ]
  },
  {
   "cell_type": "code",
   "execution_count": 83,
   "id": "9d603e6c-88bd-4411-840e-2b32461e6207",
   "metadata": {},
   "outputs": [
    {
     "data": {
      "text/html": [
       "<div>\n",
       "<style scoped>\n",
       "    .dataframe tbody tr th:only-of-type {\n",
       "        vertical-align: middle;\n",
       "    }\n",
       "\n",
       "    .dataframe tbody tr th {\n",
       "        vertical-align: top;\n",
       "    }\n",
       "\n",
       "    .dataframe thead th {\n",
       "        text-align: right;\n",
       "    }\n",
       "</style>\n",
       "<table border=\"1\" class=\"dataframe\">\n",
       "  <thead>\n",
       "    <tr style=\"text-align: right;\">\n",
       "      <th></th>\n",
       "      <th>show_id</th>\n",
       "      <th>type</th>\n",
       "      <th>title</th>\n",
       "      <th>country</th>\n",
       "      <th>date_added</th>\n",
       "      <th>release_year</th>\n",
       "      <th>rating</th>\n",
       "      <th>duration</th>\n",
       "      <th>listed_in</th>\n",
       "      <th>no_countries</th>\n",
       "      <th>main_country</th>\n",
       "    </tr>\n",
       "  </thead>\n",
       "  <tbody>\n",
       "    <tr>\n",
       "      <th>0</th>\n",
       "      <td>s1</td>\n",
       "      <td>Movie</td>\n",
       "      <td>Dick Johnson Is Dead</td>\n",
       "      <td>United States</td>\n",
       "      <td>2021-09-25</td>\n",
       "      <td>2020</td>\n",
       "      <td>PG-13</td>\n",
       "      <td>90</td>\n",
       "      <td>Documentaries</td>\n",
       "      <td>1</td>\n",
       "      <td>United States</td>\n",
       "    </tr>\n",
       "    <tr>\n",
       "      <th>1</th>\n",
       "      <td>s2</td>\n",
       "      <td>TV Show</td>\n",
       "      <td>Blood &amp; Water</td>\n",
       "      <td>South Africa</td>\n",
       "      <td>2021-09-24</td>\n",
       "      <td>2021</td>\n",
       "      <td>TV-MA</td>\n",
       "      <td>2</td>\n",
       "      <td>International TV Shows, TV Dramas, TV Mysteries</td>\n",
       "      <td>1</td>\n",
       "      <td>South Africa</td>\n",
       "    </tr>\n",
       "    <tr>\n",
       "      <th>2</th>\n",
       "      <td>s5</td>\n",
       "      <td>TV Show</td>\n",
       "      <td>Kota Factory</td>\n",
       "      <td>India</td>\n",
       "      <td>2021-09-24</td>\n",
       "      <td>2021</td>\n",
       "      <td>TV-MA</td>\n",
       "      <td>2</td>\n",
       "      <td>International TV Shows, Romantic TV Shows, TV ...</td>\n",
       "      <td>1</td>\n",
       "      <td>India</td>\n",
       "    </tr>\n",
       "    <tr>\n",
       "      <th>3</th>\n",
       "      <td>s8</td>\n",
       "      <td>Movie</td>\n",
       "      <td>Sankofa</td>\n",
       "      <td>United States, Ghana, Burkina Faso, United Kin...</td>\n",
       "      <td>2021-09-24</td>\n",
       "      <td>1993</td>\n",
       "      <td>TV-MA</td>\n",
       "      <td>125</td>\n",
       "      <td>Dramas, Independent Movies, International Movies</td>\n",
       "      <td>6</td>\n",
       "      <td>United States</td>\n",
       "    </tr>\n",
       "  </tbody>\n",
       "</table>\n",
       "</div>"
      ],
      "text/plain": [
       "  show_id     type                 title  \\\n",
       "0      s1    Movie  Dick Johnson Is Dead   \n",
       "1      s2  TV Show         Blood & Water   \n",
       "2      s5  TV Show          Kota Factory   \n",
       "3      s8    Movie               Sankofa   \n",
       "\n",
       "                                             country  date_added  \\\n",
       "0                                      United States  2021-09-25   \n",
       "1                                       South Africa  2021-09-24   \n",
       "2                                              India  2021-09-24   \n",
       "3  United States, Ghana, Burkina Faso, United Kin...  2021-09-24   \n",
       "\n",
       "   release_year rating  duration  \\\n",
       "0          2020  PG-13        90   \n",
       "1          2021  TV-MA         2   \n",
       "2          2021  TV-MA         2   \n",
       "3          1993  TV-MA       125   \n",
       "\n",
       "                                           listed_in  no_countries  \\\n",
       "0                                      Documentaries             1   \n",
       "1    International TV Shows, TV Dramas, TV Mysteries             1   \n",
       "2  International TV Shows, Romantic TV Shows, TV ...             1   \n",
       "3   Dramas, Independent Movies, International Movies             6   \n",
       "\n",
       "    main_country  \n",
       "0  United States  \n",
       "1   South Africa  \n",
       "2          India  \n",
       "3  United States  "
      ]
     },
     "execution_count": 83,
     "metadata": {},
     "output_type": "execute_result"
    }
   ],
   "source": [
    "df.head(4)"
   ]
  },
  {
   "cell_type": "code",
   "execution_count": 84,
   "id": "2048ccca-41ea-43cd-8f83-38e5363ce98c",
   "metadata": {},
   "outputs": [
    {
     "data": {
      "text/plain": [
       "Movie      5687\n",
       "TV Show    2274\n",
       "Name: type, dtype: int64"
      ]
     },
     "execution_count": 84,
     "metadata": {},
     "output_type": "execute_result"
    }
   ],
   "source": [
    "# Number of movies vs. TV Show entries\n",
    "df['type'].value_counts()"
   ]
  },
  {
   "cell_type": "code",
   "execution_count": 87,
   "id": "9ba5ae6a-3a45-4032-8f96-54957b9274dc",
   "metadata": {},
   "outputs": [
    {
     "data": {
      "text/plain": [
       "2017    729\n",
       "2018    713\n",
       "2016    638\n",
       "2019    565\n",
       "2020    461\n",
       "       ... \n",
       "1959      1\n",
       "1946      1\n",
       "1963      1\n",
       "1961      1\n",
       "1966      1\n",
       "Name: release_year, Length: 73, dtype: int64"
      ]
     },
     "execution_count": 87,
     "metadata": {},
     "output_type": "execute_result"
    }
   ],
   "source": [
    "# Count movies per year\n",
    "isMovie = df['type'] == 'Movie'\n",
    "df[isMovie]['release_year'].value_counts()"
   ]
  },
  {
   "cell_type": "code",
   "execution_count": 89,
   "id": "d28b24f8-1bcb-4ae7-be88-b03e5ad104ed",
   "metadata": {},
   "outputs": [
    {
     "data": {
      "text/html": [
       "<div>\n",
       "<style scoped>\n",
       "    .dataframe tbody tr th:only-of-type {\n",
       "        vertical-align: middle;\n",
       "    }\n",
       "\n",
       "    .dataframe tbody tr th {\n",
       "        vertical-align: top;\n",
       "    }\n",
       "\n",
       "    .dataframe thead th {\n",
       "        text-align: right;\n",
       "    }\n",
       "</style>\n",
       "<table border=\"1\" class=\"dataframe\">\n",
       "  <thead>\n",
       "    <tr style=\"text-align: right;\">\n",
       "      <th></th>\n",
       "      <th></th>\n",
       "      <th>type</th>\n",
       "    </tr>\n",
       "    <tr>\n",
       "      <th>main_country</th>\n",
       "      <th>type</th>\n",
       "      <th></th>\n",
       "    </tr>\n",
       "  </thead>\n",
       "  <tbody>\n",
       "    <tr>\n",
       "      <th rowspan=\"2\" valign=\"top\">Argentina</th>\n",
       "      <th>Movie</th>\n",
       "      <td>56</td>\n",
       "    </tr>\n",
       "    <tr>\n",
       "      <th>TV Show</th>\n",
       "      <td>20</td>\n",
       "    </tr>\n",
       "    <tr>\n",
       "      <th rowspan=\"2\" valign=\"top\">Australia</th>\n",
       "      <th>Movie</th>\n",
       "      <td>61</td>\n",
       "    </tr>\n",
       "    <tr>\n",
       "      <th>TV Show</th>\n",
       "      <td>54</td>\n",
       "    </tr>\n",
       "    <tr>\n",
       "      <th>Austria</th>\n",
       "      <th>Movie</th>\n",
       "      <td>8</td>\n",
       "    </tr>\n",
       "    <tr>\n",
       "      <th>...</th>\n",
       "      <th>...</th>\n",
       "      <td>...</td>\n",
       "    </tr>\n",
       "    <tr>\n",
       "      <th>Uruguay</th>\n",
       "      <th>TV Show</th>\n",
       "      <td>1</td>\n",
       "    </tr>\n",
       "    <tr>\n",
       "      <th>Venezuela</th>\n",
       "      <th>Movie</th>\n",
       "      <td>2</td>\n",
       "    </tr>\n",
       "    <tr>\n",
       "      <th>Vietnam</th>\n",
       "      <th>Movie</th>\n",
       "      <td>7</td>\n",
       "    </tr>\n",
       "    <tr>\n",
       "      <th>West Germany</th>\n",
       "      <th>Movie</th>\n",
       "      <td>1</td>\n",
       "    </tr>\n",
       "    <tr>\n",
       "      <th>Zimbabwe</th>\n",
       "      <th>Movie</th>\n",
       "      <td>1</td>\n",
       "    </tr>\n",
       "  </tbody>\n",
       "</table>\n",
       "<p>136 rows × 1 columns</p>\n",
       "</div>"
      ],
      "text/plain": [
       "                      type\n",
       "main_country type         \n",
       "Argentina    Movie      56\n",
       "             TV Show    20\n",
       "Australia    Movie      61\n",
       "             TV Show    54\n",
       "Austria      Movie       8\n",
       "...                    ...\n",
       "Uruguay      TV Show     1\n",
       "Venezuela    Movie       2\n",
       "Vietnam      Movie       7\n",
       "West Germany Movie       1\n",
       "Zimbabwe     Movie       1\n",
       "\n",
       "[136 rows x 1 columns]"
      ]
     },
     "execution_count": 89,
     "metadata": {},
     "output_type": "execute_result"
    }
   ],
   "source": [
    "df.groupby(['main_country', 'type'])[['type']].agg('count')"
   ]
  }
 ],
 "metadata": {
  "kernelspec": {
   "display_name": "Python 3 (ipykernel)",
   "language": "python",
   "name": "python3"
  },
  "language_info": {
   "codemirror_mode": {
    "name": "ipython",
    "version": 3
   },
   "file_extension": ".py",
   "mimetype": "text/x-python",
   "name": "python",
   "nbconvert_exporter": "python",
   "pygments_lexer": "ipython3",
   "version": "3.10.7"
  }
 },
 "nbformat": 4,
 "nbformat_minor": 5
}

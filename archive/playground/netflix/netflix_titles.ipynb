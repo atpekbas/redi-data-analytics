{
 "cells": [
  {
   "cell_type": "markdown",
   "id": "e1a27720-89d8-493e-9c2c-b871b670addc",
   "metadata": {},
   "source": [
    "### 0. Understand the business requirements\n",
    "\n",
    "Before you can start with your data, there are couple steps you have to take.\n",
    "\n",
    "* Understand the business and their needs\n",
    "* Gather required information\n",
    "* Clarify the scope\n",
    "    * Define the business objectives\n",
    "    * Preliminary queastions you want to answer\n",
    "    \n",
    " Data analysis rarely happens just because someone wants know womething about the data. In most companies, day-to-day decision-making relies on the output of the data analysis. Most decision makers, therefore, have a set of things they want an aswer to. It is your job to answer these question in a meaningful matter. "
   ]
  },
  {
   "cell_type": "markdown",
   "id": "8f65705e-1099-4150-9656-2fdf8cde5307",
   "metadata": {
    "tags": []
   },
   "source": [
    "### 1. Import Libraries\n",
    "\n",
    "TEXT"
   ]
  },
  {
   "cell_type": "code",
   "execution_count": 1,
   "id": "d9cb994e-a0d5-4aa4-9da0-c8241d8a90c8",
   "metadata": {},
   "outputs": [],
   "source": [
    "import pandas as pd\n",
    "import numpy as np"
   ]
  },
  {
   "cell_type": "markdown",
   "id": "0add6f34-8d1a-44a8-847a-4b9371a6f66c",
   "metadata": {
    "tags": []
   },
   "source": [
    "### 2. Loading the Data\n",
    "\n",
    "Every data analysis starts with loading the data. Always name your dataset something that you will remember, easy to write, and other can easily understand. In this example, we name the dataset df_raw to show that this is the original dataset and nothing has been done to it. After loading the data, it is important to check if the loading was successful and the columns are correctly displayed.\n",
    "\n",
    "When you load from different files, there can be issues with loading it into a pandas dataframe. In case the separation character is different, that has to be defined in the read function. You might encounter one column containing various elements from other columns. Seeing how the data was loaded with, for example, head() you can identify these before going more in-depth."
   ]
  },
  {
   "cell_type": "code",
   "execution_count": 2,
   "id": "a97321ec-e569-4804-864a-aee324f31fd6",
   "metadata": {},
   "outputs": [
    {
     "data": {
      "text/html": [
       "<div>\n",
       "<style scoped>\n",
       "    .dataframe tbody tr th:only-of-type {\n",
       "        vertical-align: middle;\n",
       "    }\n",
       "\n",
       "    .dataframe tbody tr th {\n",
       "        vertical-align: top;\n",
       "    }\n",
       "\n",
       "    .dataframe thead th {\n",
       "        text-align: right;\n",
       "    }\n",
       "</style>\n",
       "<table border=\"1\" class=\"dataframe\">\n",
       "  <thead>\n",
       "    <tr style=\"text-align: right;\">\n",
       "      <th></th>\n",
       "      <th>show_id</th>\n",
       "      <th>type</th>\n",
       "      <th>title</th>\n",
       "      <th>director</th>\n",
       "      <th>cast</th>\n",
       "      <th>country</th>\n",
       "      <th>date_added</th>\n",
       "      <th>release_year</th>\n",
       "      <th>rating</th>\n",
       "      <th>duration</th>\n",
       "      <th>listed_in</th>\n",
       "      <th>description</th>\n",
       "    </tr>\n",
       "  </thead>\n",
       "  <tbody>\n",
       "    <tr>\n",
       "      <th>0</th>\n",
       "      <td>s1</td>\n",
       "      <td>Movie</td>\n",
       "      <td>Dick Johnson Is Dead</td>\n",
       "      <td>Kirsten Johnson</td>\n",
       "      <td>NaN</td>\n",
       "      <td>United States</td>\n",
       "      <td>September 25, 2021</td>\n",
       "      <td>2020</td>\n",
       "      <td>PG-13</td>\n",
       "      <td>90 min</td>\n",
       "      <td>Documentaries</td>\n",
       "      <td>As her father nears the end of his life, filmm...</td>\n",
       "    </tr>\n",
       "  </tbody>\n",
       "</table>\n",
       "</div>"
      ],
      "text/plain": [
       "  show_id   type                 title         director cast        country  \\\n",
       "0      s1  Movie  Dick Johnson Is Dead  Kirsten Johnson  NaN  United States   \n",
       "\n",
       "           date_added  release_year rating duration      listed_in  \\\n",
       "0  September 25, 2021          2020  PG-13   90 min  Documentaries   \n",
       "\n",
       "                                         description  \n",
       "0  As her father nears the end of his life, filmm...  "
      ]
     },
     "execution_count": 2,
     "metadata": {},
     "output_type": "execute_result"
    }
   ],
   "source": [
    "df_raw = pd.read_csv(\"netflix_titles.csv\")\n",
    "df_raw.head(1)"
   ]
  },
  {
   "cell_type": "markdown",
   "id": "fbf4a2d6-b451-494e-8145-095c384c2adc",
   "metadata": {
    "tags": []
   },
   "source": [
    "### 3. Analysing the Data\n",
    "\n",
    "After we are satisfied that the data was loaded correctly, we always want to start with getting to know the dataset. Without knowing what is in our dataset, we don't know what it that we are working with. This step sets up the possibilty for you to identify missing or incorrect data. It is an important pre-requisite for data cleaning!\n",
    "\n",
    "You can see that we still call our dataset df_raw. That is because we have not modified anything in the dataset yet. We are just exploring."
   ]
  },
  {
   "cell_type": "code",
   "execution_count": 3,
   "id": "f40cd044-38de-4771-86d5-940ef59a4193",
   "metadata": {},
   "outputs": [
    {
     "name": "stdout",
     "output_type": "stream",
     "text": [
      "<class 'pandas.core.frame.DataFrame'>\n",
      "RangeIndex: 8807 entries, 0 to 8806\n",
      "Data columns (total 12 columns):\n",
      " #   Column        Non-Null Count  Dtype \n",
      "---  ------        --------------  ----- \n",
      " 0   show_id       8807 non-null   object\n",
      " 1   type          8807 non-null   object\n",
      " 2   title         8807 non-null   object\n",
      " 3   director      6173 non-null   object\n",
      " 4   cast          7982 non-null   object\n",
      " 5   country       7976 non-null   object\n",
      " 6   date_added    8797 non-null   object\n",
      " 7   release_year  8807 non-null   int64 \n",
      " 8   rating        8803 non-null   object\n",
      " 9   duration      8804 non-null   object\n",
      " 10  listed_in     8807 non-null   object\n",
      " 11  description   8807 non-null   object\n",
      "dtypes: int64(1), object(11)\n",
      "memory usage: 825.8+ KB\n"
     ]
    }
   ],
   "source": [
    "df_raw.info()"
   ]
  },
  {
   "cell_type": "code",
   "execution_count": 4,
   "id": "de6703b0-87af-4636-9c4e-1c35bb739a2d",
   "metadata": {},
   "outputs": [
    {
     "data": {
      "text/html": [
       "<div>\n",
       "<style scoped>\n",
       "    .dataframe tbody tr th:only-of-type {\n",
       "        vertical-align: middle;\n",
       "    }\n",
       "\n",
       "    .dataframe tbody tr th {\n",
       "        vertical-align: top;\n",
       "    }\n",
       "\n",
       "    .dataframe thead th {\n",
       "        text-align: right;\n",
       "    }\n",
       "</style>\n",
       "<table border=\"1\" class=\"dataframe\">\n",
       "  <thead>\n",
       "    <tr style=\"text-align: right;\">\n",
       "      <th></th>\n",
       "      <th>show_id</th>\n",
       "      <th>type</th>\n",
       "      <th>title</th>\n",
       "      <th>director</th>\n",
       "      <th>cast</th>\n",
       "      <th>country</th>\n",
       "      <th>date_added</th>\n",
       "      <th>release_year</th>\n",
       "      <th>rating</th>\n",
       "      <th>duration</th>\n",
       "      <th>listed_in</th>\n",
       "      <th>description</th>\n",
       "    </tr>\n",
       "  </thead>\n",
       "  <tbody>\n",
       "    <tr>\n",
       "      <th>dtype</th>\n",
       "      <td>object</td>\n",
       "      <td>object</td>\n",
       "      <td>object</td>\n",
       "      <td>object</td>\n",
       "      <td>object</td>\n",
       "      <td>object</td>\n",
       "      <td>object</td>\n",
       "      <td>int64</td>\n",
       "      <td>object</td>\n",
       "      <td>object</td>\n",
       "      <td>object</td>\n",
       "      <td>object</td>\n",
       "    </tr>\n",
       "    <tr>\n",
       "      <th>count</th>\n",
       "      <td>8807</td>\n",
       "      <td>8807</td>\n",
       "      <td>8807</td>\n",
       "      <td>6173</td>\n",
       "      <td>7982</td>\n",
       "      <td>7976</td>\n",
       "      <td>8797</td>\n",
       "      <td>8807</td>\n",
       "      <td>8803</td>\n",
       "      <td>8804</td>\n",
       "      <td>8807</td>\n",
       "      <td>8807</td>\n",
       "    </tr>\n",
       "    <tr>\n",
       "      <th>nunique</th>\n",
       "      <td>8807</td>\n",
       "      <td>2</td>\n",
       "      <td>8807</td>\n",
       "      <td>4528</td>\n",
       "      <td>7692</td>\n",
       "      <td>748</td>\n",
       "      <td>1767</td>\n",
       "      <td>74</td>\n",
       "      <td>17</td>\n",
       "      <td>220</td>\n",
       "      <td>514</td>\n",
       "      <td>8775</td>\n",
       "    </tr>\n",
       "    <tr>\n",
       "      <th>isNull</th>\n",
       "      <td>0</td>\n",
       "      <td>0</td>\n",
       "      <td>0</td>\n",
       "      <td>2634</td>\n",
       "      <td>825</td>\n",
       "      <td>831</td>\n",
       "      <td>10</td>\n",
       "      <td>0</td>\n",
       "      <td>4</td>\n",
       "      <td>3</td>\n",
       "      <td>0</td>\n",
       "      <td>0</td>\n",
       "    </tr>\n",
       "  </tbody>\n",
       "</table>\n",
       "</div>"
      ],
      "text/plain": [
       "        show_id    type   title director    cast country date_added  \\\n",
       "dtype    object  object  object   object  object  object     object   \n",
       "count      8807    8807    8807     6173    7982    7976       8797   \n",
       "nunique    8807       2    8807     4528    7692     748       1767   \n",
       "isNull        0       0       0     2634     825     831         10   \n",
       "\n",
       "        release_year  rating duration listed_in description  \n",
       "dtype          int64  object   object    object      object  \n",
       "count           8807    8803     8804      8807        8807  \n",
       "nunique           74      17      220       514        8775  \n",
       "isNull             0       4        3         0           0  "
      ]
     },
     "execution_count": 4,
     "metadata": {},
     "output_type": "execute_result"
    }
   ],
   "source": [
    "def isNull(x):\n",
    "       return x.isna().sum()\n",
    "        \n",
    "def show_details(dataframe):\n",
    "    return dataframe.agg(['dtype', 'count', 'nunique', isNull])\n",
    "    \n",
    "show_details(df_raw)"
   ]
  },
  {
   "cell_type": "markdown",
   "id": "395bb80f-10e2-4fac-a28c-e071152311ec",
   "metadata": {
    "tags": []
   },
   "source": [
    "### 4. Cleaning the Data\n",
    "\n",
    "After identfying the general charactersitics of our dataset, we can clean it up. Below, you can see a couple queries that you can perform to make your data cleaner. Clean data is the fundation of a good data analysis!\n",
    "\n",
    "Cleaning of the dataset can include and is not limited to:\n",
    "* dealing with missing values\n",
    "* formating date columns\n",
    "* adding/removing unnceseary columns\n",
    "* changing datatypes\n",
    "\n",
    "After we are satisfied with the clenliness of our dataset, we should always save it with a new name. This allows you to look back at the original dataset easily and have a clear separation between the cleaned and raw dataset."
   ]
  },
  {
   "cell_type": "code",
   "execution_count": 5,
   "id": "a3f21db1-5a72-4063-a8d2-6b13417f3301",
   "metadata": {},
   "outputs": [],
   "source": [
    "# Remove rows that have null values in one of the defined columns\n",
    "df = df_raw.dropna(subset=['date_added', 'rating', 'duration', 'country'])\n",
    "# Remove the defined columns\n",
    "df = df.drop(['director', 'cast', 'description'], axis=1)"
   ]
  },
  {
   "cell_type": "code",
   "execution_count": 6,
   "id": "c352670e-0a0c-4dad-9c8a-cb31f9c2063f",
   "metadata": {},
   "outputs": [],
   "source": [
    "# Parse date_added to datetimes\n",
    "df['date_added'] = pd.to_datetime(df['date_added'].str.strip(), format='%B %d, %Y')"
   ]
  },
  {
   "cell_type": "code",
   "execution_count": 7,
   "id": "94fbb399-09e8-4aab-8e04-e9afee23b3f7",
   "metadata": {
    "tags": []
   },
   "outputs": [],
   "source": [
    "# Cast durations to int\n",
    "isMovie = df['type'] == 'Movie'\n",
    "df.loc[isMovie, 'duration'] = df.loc[isMovie, 'duration'].str.split(' ').str[0]\n",
    "df.loc[~isMovie, 'duration'] = df.loc[~isMovie, 'duration'].str.split(' ').str[0]\n",
    "df.duration = df.duration.astype(int)"
   ]
  },
  {
   "cell_type": "code",
   "execution_count": 8,
   "id": "0ffbc0e6-4e1c-4290-9c0b-6337b8a1a08c",
   "metadata": {},
   "outputs": [],
   "source": [
    "# Create new column with number of countries\n",
    "df['no_countries'] = df['country'].str.split(',').str.len()"
   ]
  },
  {
   "cell_type": "code",
   "execution_count": 9,
   "id": "40e493c0-c4c4-43f3-87fb-f7863ce07f87",
   "metadata": {},
   "outputs": [],
   "source": [
    "df['main_country'] = df['country'].str.split(',').str[0]"
   ]
  },
  {
   "cell_type": "code",
   "execution_count": 10,
   "id": "2f6d3975-4af1-4852-bde1-3b4ae6371462",
   "metadata": {},
   "outputs": [
    {
     "data": {
      "text/html": [
       "<div>\n",
       "<style scoped>\n",
       "    .dataframe tbody tr th:only-of-type {\n",
       "        vertical-align: middle;\n",
       "    }\n",
       "\n",
       "    .dataframe tbody tr th {\n",
       "        vertical-align: top;\n",
       "    }\n",
       "\n",
       "    .dataframe thead th {\n",
       "        text-align: right;\n",
       "    }\n",
       "</style>\n",
       "<table border=\"1\" class=\"dataframe\">\n",
       "  <thead>\n",
       "    <tr style=\"text-align: right;\">\n",
       "      <th></th>\n",
       "      <th>show_id</th>\n",
       "      <th>type</th>\n",
       "      <th>title</th>\n",
       "      <th>country</th>\n",
       "      <th>date_added</th>\n",
       "      <th>release_year</th>\n",
       "      <th>rating</th>\n",
       "      <th>duration</th>\n",
       "      <th>listed_in</th>\n",
       "      <th>no_countries</th>\n",
       "      <th>main_country</th>\n",
       "    </tr>\n",
       "  </thead>\n",
       "  <tbody>\n",
       "    <tr>\n",
       "      <th>dtype</th>\n",
       "      <td>object</td>\n",
       "      <td>object</td>\n",
       "      <td>object</td>\n",
       "      <td>object</td>\n",
       "      <td>datetime64[ns]</td>\n",
       "      <td>int64</td>\n",
       "      <td>object</td>\n",
       "      <td>int32</td>\n",
       "      <td>object</td>\n",
       "      <td>int64</td>\n",
       "      <td>object</td>\n",
       "    </tr>\n",
       "    <tr>\n",
       "      <th>count</th>\n",
       "      <td>7961</td>\n",
       "      <td>7961</td>\n",
       "      <td>7961</td>\n",
       "      <td>7961</td>\n",
       "      <td>7961</td>\n",
       "      <td>7961</td>\n",
       "      <td>7961</td>\n",
       "      <td>7961</td>\n",
       "      <td>7961</td>\n",
       "      <td>7961</td>\n",
       "      <td>7961</td>\n",
       "    </tr>\n",
       "    <tr>\n",
       "      <th>nunique</th>\n",
       "      <td>7961</td>\n",
       "      <td>2</td>\n",
       "      <td>7961</td>\n",
       "      <td>748</td>\n",
       "      <td>1683</td>\n",
       "      <td>73</td>\n",
       "      <td>14</td>\n",
       "      <td>203</td>\n",
       "      <td>497</td>\n",
       "      <td>10</td>\n",
       "      <td>86</td>\n",
       "    </tr>\n",
       "    <tr>\n",
       "      <th>isNull</th>\n",
       "      <td>0</td>\n",
       "      <td>0</td>\n",
       "      <td>0</td>\n",
       "      <td>0</td>\n",
       "      <td>0</td>\n",
       "      <td>0</td>\n",
       "      <td>0</td>\n",
       "      <td>0</td>\n",
       "      <td>0</td>\n",
       "      <td>0</td>\n",
       "      <td>0</td>\n",
       "    </tr>\n",
       "  </tbody>\n",
       "</table>\n",
       "</div>"
      ],
      "text/plain": [
       "        show_id    type   title country      date_added release_year  rating  \\\n",
       "dtype    object  object  object  object  datetime64[ns]        int64  object   \n",
       "count      7961    7961    7961    7961            7961         7961    7961   \n",
       "nunique    7961       2    7961     748            1683           73      14   \n",
       "isNull        0       0       0       0               0            0       0   \n",
       "\n",
       "        duration listed_in no_countries main_country  \n",
       "dtype      int32    object        int64       object  \n",
       "count       7961      7961         7961         7961  \n",
       "nunique      203       497           10           86  \n",
       "isNull         0         0            0            0  "
      ]
     },
     "execution_count": 10,
     "metadata": {},
     "output_type": "execute_result"
    }
   ],
   "source": [
    "df.agg(['dtype', 'count', 'nunique', isNull])"
   ]
  },
  {
   "cell_type": "code",
   "execution_count": 11,
   "id": "87947365-17bc-4bce-a3e4-bd405cacd2ed",
   "metadata": {},
   "outputs": [],
   "source": [
    "df.to_csv('netflix_titles_cleaned.csv', index=False)"
   ]
  },
  {
   "cell_type": "markdown",
   "id": "f4ae5144-922b-4669-9ecb-d6a6c7bf5664",
   "metadata": {},
   "source": [
    "### 5. Exploratory Data Analysis (EDA)\n",
    "\n",
    "After your dataset has been cleaned, it is a great idea to get to know your datset in more depth. This step is also referred to as exploratory data analysis (EDA). This is your chance to understand the data better and prepare it for visualization. In many cases the queries you run in this step will be the base of your visualization, as they are the programatic way of answering the preliminary questions you (or the stakeholders) defined."
   ]
  },
  {
   "cell_type": "code",
   "execution_count": 12,
   "id": "a169aee6-b885-48a4-9755-2d28027da7a1",
   "metadata": {},
   "outputs": [],
   "source": [
    "df = pd.read_csv('netflix_titles_cleaned.csv')"
   ]
  },
  {
   "cell_type": "code",
   "execution_count": 13,
   "id": "9d603e6c-88bd-4411-840e-2b32461e6207",
   "metadata": {},
   "outputs": [
    {
     "data": {
      "text/html": [
       "<div>\n",
       "<style scoped>\n",
       "    .dataframe tbody tr th:only-of-type {\n",
       "        vertical-align: middle;\n",
       "    }\n",
       "\n",
       "    .dataframe tbody tr th {\n",
       "        vertical-align: top;\n",
       "    }\n",
       "\n",
       "    .dataframe thead th {\n",
       "        text-align: right;\n",
       "    }\n",
       "</style>\n",
       "<table border=\"1\" class=\"dataframe\">\n",
       "  <thead>\n",
       "    <tr style=\"text-align: right;\">\n",
       "      <th></th>\n",
       "      <th>show_id</th>\n",
       "      <th>type</th>\n",
       "      <th>title</th>\n",
       "      <th>country</th>\n",
       "      <th>date_added</th>\n",
       "      <th>release_year</th>\n",
       "      <th>rating</th>\n",
       "      <th>duration</th>\n",
       "      <th>listed_in</th>\n",
       "      <th>no_countries</th>\n",
       "      <th>main_country</th>\n",
       "    </tr>\n",
       "  </thead>\n",
       "  <tbody>\n",
       "    <tr>\n",
       "      <th>0</th>\n",
       "      <td>s1</td>\n",
       "      <td>Movie</td>\n",
       "      <td>Dick Johnson Is Dead</td>\n",
       "      <td>United States</td>\n",
       "      <td>2021-09-25</td>\n",
       "      <td>2020</td>\n",
       "      <td>PG-13</td>\n",
       "      <td>90</td>\n",
       "      <td>Documentaries</td>\n",
       "      <td>1</td>\n",
       "      <td>United States</td>\n",
       "    </tr>\n",
       "    <tr>\n",
       "      <th>1</th>\n",
       "      <td>s2</td>\n",
       "      <td>TV Show</td>\n",
       "      <td>Blood &amp; Water</td>\n",
       "      <td>South Africa</td>\n",
       "      <td>2021-09-24</td>\n",
       "      <td>2021</td>\n",
       "      <td>TV-MA</td>\n",
       "      <td>2</td>\n",
       "      <td>International TV Shows, TV Dramas, TV Mysteries</td>\n",
       "      <td>1</td>\n",
       "      <td>South Africa</td>\n",
       "    </tr>\n",
       "    <tr>\n",
       "      <th>2</th>\n",
       "      <td>s5</td>\n",
       "      <td>TV Show</td>\n",
       "      <td>Kota Factory</td>\n",
       "      <td>India</td>\n",
       "      <td>2021-09-24</td>\n",
       "      <td>2021</td>\n",
       "      <td>TV-MA</td>\n",
       "      <td>2</td>\n",
       "      <td>International TV Shows, Romantic TV Shows, TV ...</td>\n",
       "      <td>1</td>\n",
       "      <td>India</td>\n",
       "    </tr>\n",
       "    <tr>\n",
       "      <th>3</th>\n",
       "      <td>s8</td>\n",
       "      <td>Movie</td>\n",
       "      <td>Sankofa</td>\n",
       "      <td>United States, Ghana, Burkina Faso, United Kin...</td>\n",
       "      <td>2021-09-24</td>\n",
       "      <td>1993</td>\n",
       "      <td>TV-MA</td>\n",
       "      <td>125</td>\n",
       "      <td>Dramas, Independent Movies, International Movies</td>\n",
       "      <td>6</td>\n",
       "      <td>United States</td>\n",
       "    </tr>\n",
       "  </tbody>\n",
       "</table>\n",
       "</div>"
      ],
      "text/plain": [
       "  show_id     type                 title  \\\n",
       "0      s1    Movie  Dick Johnson Is Dead   \n",
       "1      s2  TV Show         Blood & Water   \n",
       "2      s5  TV Show          Kota Factory   \n",
       "3      s8    Movie               Sankofa   \n",
       "\n",
       "                                             country  date_added  \\\n",
       "0                                      United States  2021-09-25   \n",
       "1                                       South Africa  2021-09-24   \n",
       "2                                              India  2021-09-24   \n",
       "3  United States, Ghana, Burkina Faso, United Kin...  2021-09-24   \n",
       "\n",
       "   release_year rating  duration  \\\n",
       "0          2020  PG-13        90   \n",
       "1          2021  TV-MA         2   \n",
       "2          2021  TV-MA         2   \n",
       "3          1993  TV-MA       125   \n",
       "\n",
       "                                           listed_in  no_countries  \\\n",
       "0                                      Documentaries             1   \n",
       "1    International TV Shows, TV Dramas, TV Mysteries             1   \n",
       "2  International TV Shows, Romantic TV Shows, TV ...             1   \n",
       "3   Dramas, Independent Movies, International Movies             6   \n",
       "\n",
       "    main_country  \n",
       "0  United States  \n",
       "1   South Africa  \n",
       "2          India  \n",
       "3  United States  "
      ]
     },
     "execution_count": 13,
     "metadata": {},
     "output_type": "execute_result"
    }
   ],
   "source": [
    "df.head(4)"
   ]
  },
  {
   "cell_type": "code",
   "execution_count": 14,
   "id": "2048ccca-41ea-43cd-8f83-38e5363ce98c",
   "metadata": {},
   "outputs": [
    {
     "data": {
      "text/plain": [
       "Movie      5687\n",
       "TV Show    2274\n",
       "Name: type, dtype: int64"
      ]
     },
     "execution_count": 14,
     "metadata": {},
     "output_type": "execute_result"
    }
   ],
   "source": [
    "# Number of movies vs. TV Show entries\n",
    "df['type'].value_counts()"
   ]
  },
  {
   "cell_type": "code",
   "execution_count": 15,
   "id": "9ba5ae6a-3a45-4032-8f96-54957b9274dc",
   "metadata": {},
   "outputs": [
    {
     "data": {
      "text/plain": [
       "2017    729\n",
       "2018    713\n",
       "2016    638\n",
       "2019    565\n",
       "2020    461\n",
       "       ... \n",
       "1959      1\n",
       "1946      1\n",
       "1963      1\n",
       "1961      1\n",
       "1966      1\n",
       "Name: release_year, Length: 73, dtype: int64"
      ]
     },
     "execution_count": 15,
     "metadata": {},
     "output_type": "execute_result"
    }
   ],
   "source": [
    "# Count movies per year\n",
    "isMovie = df['type'] == 'Movie'\n",
    "df[isMovie]['release_year'].value_counts()"
   ]
  },
  {
   "cell_type": "markdown",
   "id": "7d8db1d9-d685-4b5d-bc9b-726d09a729cc",
   "metadata": {},
   "source": [
    "### 6. Visualisation\n",
    "\n",
    "The visualization part of data analysis is arguable one of the most important. This is what managers, CEOs and stakeholders use to make decisions. You should always structure your visuals so that they are clearly understandable. Preferable have a title and the colors are meaningful and consistent. We have given you multiple links to websites that can help you figure out what kind of visuals you need to use for different analysis, please use these.\n",
    "\n",
    "Below you see a couple of very basic visuals that one can do. Be creative!"
   ]
  },
  {
   "cell_type": "code",
   "execution_count": 17,
   "id": "49be5248-9a37-4df4-9603-9e38a0fab843",
   "metadata": {},
   "outputs": [
    {
     "data": {
      "text/plain": [
       "<AxesSubplot:>"
      ]
     },
     "execution_count": 17,
     "metadata": {},
     "output_type": "execute_result"
    },
    {
     "data": {
      "image/png": "[encoded data removed]",
      "text/plain": [
       "<Figure size 432x288 with 1 Axes>"
      ]
     },
     "metadata": {
      "needs_background": "light"
     },
     "output_type": "display_data"
    }
   ],
   "source": [
    "# plotting the distribution of movies and TV shows\n",
    "df['type'].value_counts().plot.bar()"
   ]
  },
  {
   "cell_type": "code",
   "execution_count": 18,
   "id": "1914afb5-b299-4d37-8994-ab8771abf454",
   "metadata": {},
   "outputs": [
    {
     "data": {
      "text/plain": [
       "<AxesSubplot:xlabel='type'>"
      ]
     },
     "execution_count": 18,
     "metadata": {},
     "output_type": "execute_result"
    },
    {
     "data": {
      "image/png": "[encoded data removed]",
      "text/plain": [
       "<Figure size 432x288 with 1 Axes>"
      ]
     },
     "metadata": {
      "needs_background": "light"
     },
     "output_type": "display_data"
    }
   ],
   "source": [
    "# plotting the average duration of movies and TV shows\n",
    "df.groupby('type')['duration'] \\\n",
    "    .mean(numeric_only=True) \\\n",
    "    .plot.bar()"
   ]
  },
  {
   "cell_type": "code",
   "execution_count": 19,
   "id": "8142b2ab-8f29-4aaf-adc9-f9e245c8f456",
   "metadata": {},
   "outputs": [
    {
     "data": {
      "text/plain": [
       "<AxesSubplot:ylabel='main_country'>"
      ]
     },
     "execution_count": 19,
     "metadata": {},
     "output_type": "execute_result"
    },
    {
     "data": {
      "image/png": "[encoded data removed]",
      "text/plain": [
       "<Figure size 432x288 with 1 Axes>"
      ]
     },
     "metadata": {
      "needs_background": "light"
     },
     "output_type": "display_data"
    }
   ],
   "source": [
    "# plotting the distribution of titles by country of release\n",
    "df.groupby('main_country')['title'] \\\n",
    "    .size() \\\n",
    "    .nlargest(10) \\\n",
    "    .sort_values(ascending=True) \\\n",
    "    .plot.barh()"
   ]
  },
  {
   "cell_type": "code",
   "execution_count": 20,
   "id": "8b11a195-89ee-4dca-adf2-bbebb9d55119",
   "metadata": {},
   "outputs": [
    {
     "data": {
      "text/plain": [
       "<AxesSubplot:xlabel='release_year'>"
      ]
     },
     "execution_count": 20,
     "metadata": {},
     "output_type": "execute_result"
    },
    {
     "data": {
      "image/png": "[encoded data removed]",
      "text/plain": [
       "<Figure size 432x288 with 1 Axes>"
      ]
     },
     "metadata": {
      "needs_background": "light"
     },
     "output_type": "display_data"
    },
    {
     "data": {
      "image/png": "[encoded data removed]",
      "text/plain": [
       "<Figure size 432x288 with 1 Axes>"
      ]
     },
     "metadata": {
      "needs_background": "light"
     },
     "output_type": "display_data"
    }
   ],
   "source": [
    "# plotting the change in duration over the years for movies and TV shows\n",
    "isMovie = df['type'] == 'Movie'\n",
    "df[isMovie].groupby('release_year')['duration'].mean().reset_index().sort_values('release_year').plot(x='release_year', y='duration')\n",
    "df[~isMovie].groupby('release_year')['duration'].mean().reset_index().sort_values('release_year').plot(x='release_year', y='duration')"
   ]
  },
  {
   "cell_type": "code",
   "execution_count": 22,
   "id": "b582fd66-ae39-4095-84f6-e8625e42ab78",
   "metadata": {},
   "outputs": [
    {
     "data": {
      "text/plain": [
       "Text(0, 0.5, 'mean title length')"
      ]
     },
     "execution_count": 22,
     "metadata": {},
     "output_type": "execute_result"
    },
    {
     "data": {
      "image/png": "[encoded data removed]",
      "text/plain": [
       "<Figure size 432x288 with 1 Axes>"
      ]
     },
     "metadata": {
      "needs_background": "light"
     },
     "output_type": "display_data"
    }
   ],
   "source": [
    "# plotting the change in the length of the titles over time\n",
    "def meanLength(x):\n",
    "    return x.str.len().mean()\n",
    "\n",
    "ax = df[isMovie].groupby('release_year')[['title']] \\\n",
    "    .agg(meanLength) \\\n",
    "    .reset_index() \\\n",
    "    .plot(x='release_year', y='title')\n",
    "\n",
    "ax.set_ylabel('mean title length')"
   ]
  },
  {
   "cell_type": "markdown",
   "id": "b8b3b747-43eb-499b-9653-b9bddc95261b",
   "metadata": {},
   "source": [
    "### 7. Interpretation\n",
    "\n",
    "After you have generated the visuals, it is important that you also interpret them with words. There could be a case that the person looking at your plot will not know what the different values stand for or doesn't quite know what the distribution means for them in their decision-making. Describe the plots always with a clear language, and try to avoide many technical words.\n",
    "\n",
    "Also, when showing your findings, do not include your code (or other ways of getting the visual). Most decision-makers do not code and will not understand what happened. For thet it matter how the visual look and what does it mean for the business."
   ]
  },
  {
   "cell_type": "markdown",
   "id": "64a78394-2187-4133-98a6-721100f3e54e",
   "metadata": {},
   "source": [
    "##### Plot 1\n",
    "In this visual we can see that there are significantly more movies on Netflix than TV Shows, as the as the value associated with Movies is almost two and a half times larger than the value of TV Shows."
   ]
  },
  {
   "cell_type": "markdown",
   "id": "fb5a903a-1068-419f-ae5c-abe5322dc8dc",
   "metadata": {},
   "source": [
    "##### Plot 2\n",
    "\n",
    "Plot 2 depeicts the top 10 countries by released titles. We can see that the USA is on the top of this list with over three times more released titles as the second on the list, India. The last on the list is Australia with about 100 titles.\n",
    "One explanation for this distribution could be that the first two countries both have their famous production motion picture industries that have the resources to release titles more efficiently, also making them become the main countryon the production of these titles. "
   ]
  },
  {
   "cell_type": "markdown",
   "id": "164365f2-ca80-4bce-acb6-c9146c581ec9",
   "metadata": {},
   "source": [
    "##### Plot 3\n",
    "\n",
    "This visual shows the average runtime of movies between the 1940s and 2020s. We can observe a clear increase in runtime until the 1960s, after which there is a shar decrease. Between 2000 and 2020 we can observe that the runtime has been more static between 100 and 125 minutes."
   ]
  },
  {
   "cell_type": "markdown",
   "id": "65c88ba5-ef74-4de3-9339-5beee8d4e2ff",
   "metadata": {},
   "source": [
    "##### Plot 4\n",
    "\n",
    "This visuals shows the average seasons of TV Shows between the 1940s and 2020s. Here we can also observe great decreases and increases until the 2010s. The season count is between 1 and 10 while after the 2010s we can see series having seasons between 1 and 3."
   ]
  },
  {
   "cell_type": "markdown",
   "id": "29c22586-a236-4adc-86cd-f540db5d5033",
   "metadata": {},
   "source": [
    "##### Plot 5\n",
    "\n",
    "In Plot 5, we can see the change in the length of the titles between the 1940s and 2020s. In general, we can say that titles became shorter."
   ]
  }
 ],
 "metadata": {
  "kernelspec": {
   "display_name": "Python 3 (ipykernel)",
   "language": "python",
   "name": "python3"
  },
  "language_info": {
   "codemirror_mode": {
    "name": "ipython",
    "version": 3
   },
   "file_extension": ".py",
   "mimetype": "text/x-python",
   "name": "python",
   "nbconvert_exporter": "python",
   "pygments_lexer": "ipython3",
   "version": "3.10.4"
  }
 },
 "nbformat": 4,
 "nbformat_minor": 5
}

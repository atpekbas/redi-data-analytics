{
 "cells": [
  {
   "cell_type": "code",
   "execution_count": 17,
   "id": "4fa89b21-a62a-44cf-a30d-6fb897970de0",
   "metadata": {},
   "outputs": [],
   "source": [
    "import pandas as pd\n",
    "import numpy as np"
   ]
  },
  {
   "cell_type": "code",
   "execution_count": 18,
   "id": "0d2c5205-da55-48c8-8f11-aa35814c6f89",
   "metadata": {},
   "outputs": [],
   "source": [
    "df = pd.read_csv('temperature_signals.csv')"
   ]
  },
  {
   "cell_type": "code",
   "execution_count": 19,
   "id": "5a06239e-2ee4-48eb-8a6b-25549d982d0a",
   "metadata": {},
   "outputs": [
    {
     "data": {
      "text/html": [
       "<div>\n",
       "<style scoped>\n",
       "    .dataframe tbody tr th:only-of-type {\n",
       "        vertical-align: middle;\n",
       "    }\n",
       "\n",
       "    .dataframe tbody tr th {\n",
       "        vertical-align: top;\n",
       "    }\n",
       "\n",
       "    .dataframe thead th {\n",
       "        text-align: right;\n",
       "    }\n",
       "</style>\n",
       "<table border=\"1\" class=\"dataframe\">\n",
       "  <thead>\n",
       "    <tr style=\"text-align: right;\">\n",
       "      <th></th>\n",
       "      <th>time</th>\n",
       "      <th>temp1</th>\n",
       "      <th>temp2</th>\n",
       "      <th>temp3</th>\n",
       "    </tr>\n",
       "  </thead>\n",
       "  <tbody>\n",
       "    <tr>\n",
       "      <th>0</th>\n",
       "      <td>2021-05-04 17:10:01</td>\n",
       "      <td>10.9934</td>\n",
       "      <td>NaN</td>\n",
       "      <td>13.6496</td>\n",
       "    </tr>\n",
       "    <tr>\n",
       "      <th>1</th>\n",
       "      <td>2021-05-04 17:10:02</td>\n",
       "      <td>10.7878</td>\n",
       "      <td>NaN</td>\n",
       "      <td>14.7106</td>\n",
       "    </tr>\n",
       "    <tr>\n",
       "      <th>2</th>\n",
       "      <td>2021-05-04 17:10:03</td>\n",
       "      <td>10.2174</td>\n",
       "      <td>12.0238</td>\n",
       "      <td>13.4136</td>\n",
       "    </tr>\n",
       "    <tr>\n",
       "      <th>3</th>\n",
       "      <td>2021-05-04 17:10:04</td>\n",
       "      <td>11.6362</td>\n",
       "      <td>12.9300</td>\n",
       "      <td>14.3805</td>\n",
       "    </tr>\n",
       "    <tr>\n",
       "      <th>4</th>\n",
       "      <td>2021-05-04 17:10:05</td>\n",
       "      <td>10.7618</td>\n",
       "      <td>13.7138</td>\n",
       "      <td>11.2065</td>\n",
       "    </tr>\n",
       "  </tbody>\n",
       "</table>\n",
       "</div>"
      ],
      "text/plain": [
       "                  time    temp1    temp2    temp3\n",
       "0  2021-05-04 17:10:01  10.9934      NaN  13.6496\n",
       "1  2021-05-04 17:10:02  10.7878      NaN  14.7106\n",
       "2  2021-05-04 17:10:03  10.2174  12.0238  13.4136\n",
       "3  2021-05-04 17:10:04  11.6362  12.9300  14.3805\n",
       "4  2021-05-04 17:10:05  10.7618  13.7138  11.2065"
      ]
     },
     "execution_count": 19,
     "metadata": {},
     "output_type": "execute_result"
    }
   ],
   "source": [
    "df.head()"
   ]
  },
  {
   "cell_type": "code",
   "execution_count": 20,
   "id": "0159e04f-9726-4f51-af70-77163eb95317",
   "metadata": {},
   "outputs": [],
   "source": [
    "firstDate = type(df.iloc[0,0])"
   ]
  },
  {
   "cell_type": "code",
   "execution_count": 21,
   "id": "114685b1-0d81-4c29-9628-21772dc4aa64",
   "metadata": {},
   "outputs": [],
   "source": [
    "import datetime"
   ]
  },
  {
   "cell_type": "code",
   "execution_count": 22,
   "id": "e6dde6eb-bec0-4b3f-b4fd-140696e5ddd4",
   "metadata": {},
   "outputs": [],
   "source": [
    "df['time'] = pd.to_datetime(df['time'])"
   ]
  },
  {
   "cell_type": "code",
   "execution_count": 23,
   "id": "0db76b7d-c922-4a24-9d19-628883c5e5cf",
   "metadata": {},
   "outputs": [
    {
     "data": {
      "text/plain": [
       "time     datetime64[ns]\n",
       "temp1           float64\n",
       "temp2           float64\n",
       "temp3           float64\n",
       "dtype: object"
      ]
     },
     "execution_count": 23,
     "metadata": {},
     "output_type": "execute_result"
    }
   ],
   "source": [
    "df.dtypes"
   ]
  },
  {
   "cell_type": "code",
   "execution_count": null,
   "id": "48b17a29-3398-4f5a-9e3a-49638fb6555e",
   "metadata": {},
   "outputs": [],
   "source": []
  }
 ],
 "metadata": {
  "kernelspec": {
   "display_name": "Python 3 (ipykernel)",
   "language": "python",
   "name": "python3"
  },
  "language_info": {
   "codemirror_mode": {
    "name": "ipython",
    "version": 3
   },
   "file_extension": ".py",
   "mimetype": "text/x-python",
   "name": "python",
   "nbconvert_exporter": "python",
   "pygments_lexer": "ipython3",
   "version": "3.10.7"
  }
 },
 "nbformat": 4,
 "nbformat_minor": 5
}

import pandas as pd
import numpy as np


df=pd.read_csv('netflix_titles.csv')
df


df.shape


#different columns in the dataframe
df.columns


#data types of each column
df.dtypes


df.index


df.isnull().any()



print(df.duplicated())


#Drop duplicate rows 
df.drop_duplicates(inplace = True)
df


df.groupby("type")


df1 = df.dropna(thresh=3)
df1


diff_type = df.groupby("listed_in")["type","title"]
diff_type.head(50)


df['type']


print(df['type'].unique())


df.isna().sum()





df.loc[:,'country':'duration']


#mask1 =df[df["type"] == "TV Show"]
#mask2 =df[df["country"] == "India"]
#df = df.loc[mask1 & mask2]
tv_show =df.loc[df['type']=='TV Show']
tv_show


tv_show =df.loc[df['type']=='TV Show']
tv_show[tv_show.country == 'United States']


release = df.groupby('type')['release_year']



df.sort_values(by=['type','country'])



df.country.nunique()


df.country.value_counts()


df.dropna(axis=1,inplace=True)
df


df.isnull()


year=df.loc[0,"release_year"]
print(year , type(year))


year_pd=pd.to_datetime(year, format="%Y")
print(year_pd, "\n", type(year_pd))


df["release_year"]=pd.to_datetime(df["release_year"], format="%Y")
type(df.loc[0,"release_year"])


type_grouped=df.groupby("type", sort=False)
type_grouped.count()


type_grouped.first()


country_grouped=df.groupby("country", sort=False)
country_grouped.count()
country_grouped.first()




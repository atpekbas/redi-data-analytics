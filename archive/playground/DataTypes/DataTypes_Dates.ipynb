{
 "cells": [
  {
   "cell_type": "markdown",
   "id": "3326cc1b-1b0e-4f38-91af-79c0dd052e0a",
   "metadata": {},
   "source": [
    "# Python Datetime"
   ]
  },
  {
   "cell_type": "markdown",
   "id": "033a5ccc-c117-479f-935d-1f5dc2b00ad5",
   "metadata": {},
   "source": [
    "A date in Python is not a data type of its own, but we can import a module named datetime to work with dates as date objects."
   ]
  },
  {
   "cell_type": "code",
   "execution_count": 2,
   "id": "53f23028-a8c6-4e05-9b30-ab2ed94c986d",
   "metadata": {},
   "outputs": [],
   "source": [
    "import datetime"
   ]
  },
  {
   "cell_type": "code",
   "execution_count": 25,
   "id": "fc7e005a-0a5e-4259-a8ec-bac3185a78ef",
   "metadata": {},
   "outputs": [],
   "source": [
    "now = datetime.datetime.now()\n",
    "t = datetime.date.today()"
   ]
  },
  {
   "cell_type": "code",
   "execution_count": 35,
   "id": "05b5659f-25ab-4547-b227-d04af5ca4540",
   "metadata": {},
   "outputs": [
    {
     "name": "stdout",
     "output_type": "stream",
     "text": [
      "2022-11-02 19:15:31.674149 <class 'datetime.datetime'>\n",
      "2022-11-02 <class 'datetime.date'>\n"
     ]
    }
   ],
   "source": [
    "print(now, type(now))\n",
    "print(t, type(t))"
   ]
  },
  {
   "cell_type": "code",
   "execution_count": null,
   "id": "3065f5ff-bd93-4cc8-9fa5-ea51ccad38b4",
   "metadata": {},
   "outputs": [],
   "source": []
  }
 ],
 "metadata": {
  "kernelspec": {
   "display_name": "Python 3 (ipykernel)",
   "language": "python",
   "name": "python3"
  },
  "language_info": {
   "codemirror_mode": {
    "name": "ipython",
    "version": 3
   },
   "file_extension": ".py",
   "mimetype": "text/x-python",
   "name": "python",
   "nbconvert_exporter": "python",
   "pygments_lexer": "ipython3",
   "version": "3.10.7"
  }
 },
 "nbformat": 4,
 "nbformat_minor": 5
}

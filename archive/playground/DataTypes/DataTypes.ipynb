{
 "cells": [
  {
   "cell_type": "markdown",
   "id": "f06fc521-22ba-4b1f-bf6e-5fe87fc39bd6",
   "metadata": {},
   "source": [
    "| Name           | Python types                 |\n",
    "|----------------| -----------------------------|\n",
    "| Text           | str                          |\n",
    "| Numeric Types  | int, float, complex          |\n",
    "| Sequence       | list, tuple, range           |\n",
    "| Map/Dictionary | dict                         |\n",
    "| Set            | set, frozenset               |\n",
    "| Boolean        | bool                         |\n",
    "| Binary         | bytes, bytearray, memoryview |\n",
    "| None Type      | NoneType                     |"
   ]
  },
  {
   "cell_type": "code",
   "execution_count": null,
   "id": "a2bca6b7-98c7-4a51-88e7-bdd760fca385",
   "metadata": {},
   "outputs": [],
   "source": []
  }
 ],
 "metadata": {
  "kernelspec": {
   "display_name": "Python 3 (ipykernel)",
   "language": "python",
   "name": "python3"
  },
  "language_info": {
   "codemirror_mode": {
    "name": "ipython",
    "version": 3
   },
   "file_extension": ".py",
   "mimetype": "text/x-python",
   "name": "python",
   "nbconvert_exporter": "python",
   "pygments_lexer": "ipython3",
   "version": "3.10.7"
  }
 },
 "nbformat": 4,
 "nbformat_minor": 5
}

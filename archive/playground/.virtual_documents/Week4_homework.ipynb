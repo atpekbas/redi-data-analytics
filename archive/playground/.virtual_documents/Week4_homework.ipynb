import pandas as pd
import numpy as np


recipes = pd.read_csv('data/recipes.csv', index_col=0)
recipes.info()


### Columns with null value 
### Check out isna() method here: https://pandas.pydata.org/pandas-docs/stable/reference/api/pandas.DataFrame.isna.html
null_values_mask = recipes.isna().any()
columns_with_null = recipes[recipes.columns[null_values_mask]].columns
print(columns_with_null)
print(f'Number of columns with null values: {len(columns_with_null)}')


most_likes_mask = recipes['aggregateLikes'] == recipes['aggregateLikes'].max()
recipes[most_likes_mask].title


### A quick check shows that where we have missing values on CalciumAmount we also have missing values on CalciumpercentOfDailyNeed which means we can't interpret the correct values
### And that the reason CalciumpercentOfDailyNeed is missing is because CalciumAmount is missing. Which means the best way to handle it is to fill it with 0 instead.
print(recipes['CalciumpercentOfDailyNeed'].isna().equals(recipes['CalciumAmount'].isna()))

recipes[['CalciumpercentOfDailyNeed', 'CalciumAmount']] = recipes[['CalciumpercentOfDailyNeed','CalciumAmount']].fillna(value=0)

print(recipes['CalciumpercentOfDailyNeed'].isna().any()) ### No more missing values


recipes.dropna(thresh=141, axis=1) ### No columns were dropped


mask = recipes['vegetarian'] == True
mask_2 = recipes['glutenFree'] == True
recipes[mask & mask_2].title


mask = recipes['vegetarian'] == True
mask_2 = recipes['dairyFree'] == True
vegan_recipes = recipes[mask & mask_2]
print(len(vegan_recipes))


print(vegan_recipes['VitaminB12Amount'].mean())
print(f'Number of vegan recipes {len(vegan_recipes)}')
print(f"Null values in VitaminB12Amount in vegan recipes {vegan_recipes['VitaminB12Amount'].isna().sum()}")


mask = recipes['vegetarian'] == False
mask_2 = recipes['glutenFree'] == False
none_vegan_recipes = recipes[mask | mask_2]
print(none_vegan_recipes['VitaminB12Amount'].mean())
print(f'Number of none vegan recipes {len(none_vegan_recipes)}')
print(f"Null values in VitaminB12Amount in none vegan recipes {none_vegan_recipes['VitaminB12Amount'].isna().sum()}")


### Results are not too reliable dure to the ratio of null values in each column. The nonvegan has 89.66% null percentage while the percentage for the vegan recipes is 22.22%.


print(vegan_recipes['healthScore'].mean())
print(f'Number of vegan recipes {len(vegan_recipes)}')
print(f"Null values in healthScore in vegan recipes {vegan_recipes['healthScore'].isna().sum()}")


print(none_vegan_recipes['healthScore'].mean())
print(f'Number of none vegan recipes {len(none_vegan_recipes)}')
print(f"Null values in healthScore of none vegan recipes {none_vegan_recipes['healthScore'].isna().sum()}")


### We can see that the vegan recipes has a higher average health score than none vegan recipes.


mask = recipes['vegetarian'] == True
mask_2 = recipes['dairyFree'] == True
mask_3 = recipes['pricePerServing'] > 100
recipes['VeganWeek'] = recipes[mask & mask_2 & mask_3]['pricePerServing'] * 0.9 ## Update price
recipes['VeganWeek'] = recipes['VeganWeek'].fillna(value=recipes['pricePerServing']) ## Fill null values with original price (undiscounted)
recipes['VeganWeek']


most_time_consuming_recipe = none_vegan_recipes.loc[none_vegan_recipes['readyInMinutes'].idxmax()]

print(f'{most_time_consuming_recipe.title} recipe takes the most time at {most_time_consuming_recipe.readyInMinutes} minutes')


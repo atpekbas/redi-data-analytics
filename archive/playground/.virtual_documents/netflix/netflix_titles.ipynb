import pandas as pd
import numpy as np


df = pd.read_csv("netflix_titles.csv")
df.head(1)


df.info()


def isNull(x):
    return x.isna().sum()

df.agg(['dtype', 'count', 'nunique', isNull])


# Remove rows that have null values in one of the defined columns
df_clean = df.dropna(subset=['date_added', 'rating', 'duration', 'country'])
# Remove the defined columns
df_clean = df_clean.drop(['director', 'cast'], axis=1)


df.reset_index(drop=True)




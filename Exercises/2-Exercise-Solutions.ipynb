{
 "cells": [
  {
   "cell_type": "markdown",
   "id": "284906f1-5614-4ac2-b80a-868608abd7aa",
   "metadata": {},
   "source": [
    "## 1. \"Data\", \"Analytics\", \"DataAnalytics\"\n",
    "##### 1.1. Write a script that goes through all numbers from 1 to 100 and prints out \"Data\" for every multiple of 3, \"Analytics\" for every multiple of 5, \"DataAnalytics\" for every number that is a multiple of 3 and 5, and otherwise prints the number itself. You can use the built-in function __range()__ for this."
   ]
  },
  {
   "cell_type": "code",
   "execution_count": 1,
   "id": "b82531ca-4d19-4536-9598-206603cb524e",
   "metadata": {
    "tags": []
   },
   "outputs": [
    {
     "name": "stdout",
     "output_type": "stream",
     "text": [
      "1, 2, Data, 4, Analytics, Data, 7, 8, Data, Analytics, 11, Data, 13, 14, DataAnalytics, 16, 17, Data, 19, Analytics, Data, 22, 23, Data, Analytics, 26, Data, 28, 29, DataAnalytics, 31, 32, Data, 34, Analytics, Data, 37, 38, Data, Analytics, 41, Data, 43, 44, DataAnalytics, 46, 47, Data, 49, Analytics, Data, 52, 53, Data, Analytics, 56, Data, 58, 59, DataAnalytics, 61, 62, Data, 64, Analytics, Data, 67, 68, Data, Analytics, 71, Data, 73, 74, DataAnalytics, 76, 77, Data, 79, Analytics, Data, 82, 83, Data, Analytics, 86, Data, 88, 89, DataAnalytics, 91, 92, Data, 94, Analytics, Data, 97, 98, Data, Analytics, "
     ]
    }
   ],
   "source": [
    "for i in range(1, 101):\n",
    "    text = \"\"\n",
    "    if i % 3 == 0:\n",
    "        text += \"Data\"\n",
    "    if i % 5 == 0:\n",
    "        text += \"Analytics\"\n",
    "    if len(text) == 0:\n",
    "        text = i\n",
    "    print(text, end=\", \")"
   ]
  },
  {
   "cell_type": "markdown",
   "id": "cae159bd-881c-4bf4-aca0-ff78fde6eafa",
   "metadata": {},
   "source": [
    "##### 1.2. Then turn the script into a function, which takes two parameters: \"start\", and \"end\", which define the range we want to check. Call it with a range of your choice to make sure it is working."
   ]
  },
  {
   "cell_type": "code",
   "execution_count": 2,
   "id": "79dc19da-c904-4fa3-a03c-2ad4fd36c2e1",
   "metadata": {
    "tags": []
   },
   "outputs": [
    {
     "name": "stdout",
     "output_type": "stream",
     "text": [
      "4, Analytics, Data, 7, 8, Data, Analytics, 11, Data, 13, 14, DataAnalytics, 16, 17, Data, 19, Analytics, Data, 22, 23, Data, Analytics, 26, Data, 28, 29, DataAnalytics, 31, 32, Data, 34, Analytics, Data, 37, 38, Data, Analytics, "
     ]
    }
   ],
   "source": [
    "def data_analytics(start, end):\n",
    "    for i in range(start, end+1):\n",
    "        text = \"\"\n",
    "        if i % 3 == 0:\n",
    "            text += \"Data\"\n",
    "        if i % 5 == 0:\n",
    "            text += \"Analytics\"\n",
    "        if len(text) == 0:\n",
    "            text = i\n",
    "        print(text, end=\", \")\n",
    "\n",
    "data_analytics(4, 40)"
   ]
  },
  {
   "cell_type": "markdown",
   "id": "53b4563e-46e7-4b9f-97e7-8f0ccf2bd277",
   "metadata": {},
   "source": [
    "##### 1.3. Make the function return the number of \"Data\", \"Analytics\" and \"DataAnalytics\" it wrote, as a dictionary. Call it and print the result for the range from 50 - 200."
   ]
  },
  {
   "cell_type": "code",
   "execution_count": 3,
   "id": "5531fd21-7615-4e6b-8405-af14b7dc508a",
   "metadata": {
    "tags": []
   },
   "outputs": [
    {
     "name": "stdout",
     "output_type": "stream",
     "text": [
      "{'Data': 40, 'Analytics': 21, 'DataAnalytics': 10}\n"
     ]
    }
   ],
   "source": [
    "def data_analytics(start, end):\n",
    "    counts = {\n",
    "        \"Data\": 0,\n",
    "        \"Analytics\": 0,\n",
    "        \"DataAnalytics\": 0\n",
    "    }\n",
    "    \n",
    "    for i in range(start, end+1):\n",
    "        text = \"\"\n",
    "        if i % 3 == 0:\n",
    "            text += \"Data\"\n",
    "        if i % 5 == 0:\n",
    "            text += \"Analytics\"\n",
    "        if len(text) == 0:\n",
    "            text = i\n",
    "        else:\n",
    "            counts[text] = counts[text]+1\n",
    "            \n",
    "    return counts\n",
    "\n",
    "result = data_analytics(50,200)\n",
    "print(result)"
   ]
  }
 ],
 "metadata": {
  "kernelspec": {
   "display_name": "Python 3 (ipykernel)",
   "language": "python",
   "name": "python3"
  },
  "language_info": {
   "codemirror_mode": {
    "name": "ipython",
    "version": 3
   },
   "file_extension": ".py",
   "mimetype": "text/x-python",
   "name": "python",
   "nbconvert_exporter": "python",
   "pygments_lexer": "ipython3",
   "version": "3.10.6"
  }
 },
 "nbformat": 4,
 "nbformat_minor": 5
}

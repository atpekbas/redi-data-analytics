{
 "cells": [
  {
   "cell_type": "markdown",
   "id": "5697c566-a527-4447-add9-aaec49095fef",
   "metadata": {},
   "source": [
    "## Fun with LEGO"
   ]
  },
  {
   "cell_type": "markdown",
   "id": "7be20d01-53e5-4367-952a-6e1d5dd41f61",
   "metadata": {},
   "source": [
    "In this exercise, you will analyse this lego data set and find answers to interesting questions. This data set contains multiple .csv files (i.e. tables). Look at the __schema.png__ to understand how they are related.\n",
    "\n",
    "For example: The table `sets` has a column called `theme_id`. The values of this column are from the `id` column of the __themes__ table.\n",
    "So, if you want to know the name of the theme a set is using, you can __merge()__ the __themes__ table into the __sets__ table. (Use `how=left` for this)."
   ]
  },
  {
   "cell_type": "markdown",
   "id": "a6da2402-744a-4b5e-89e6-dfe9d472a067",
   "metadata": {
    "tags": []
   },
   "source": [
    "##### Load the tables into separate pandas dataframes. Name these dataframes the same name as the table, e.g. __df_sets__.\n",
    "> Hint: Don't forget to import pandas as pd. Otherwise you won't be able to use the pandas functions. <br>\n",
    "> The path for your files should look like `data/lego/<filename>.csv`"
   ]
  },
  {
   "cell_type": "code",
   "execution_count": 1,
   "id": "7c84f067-efc7-4587-9241-5da9d1848d1a",
   "metadata": {},
   "outputs": [],
   "source": [
    "import pandas as pd"
   ]
  },
  {
   "cell_type": "code",
   "execution_count": 2,
   "id": "a288b535-1291-409a-9c39-e5bfab515299",
   "metadata": {},
   "outputs": [],
   "source": [
    "df_sets = pd.read_csv(\"data/lego/sets.csv\")\n",
    "df_themes = pd.read_csv(\"data/lego/themes.csv\")\n",
    "df_inventories = pd.read_csv(\"data/lego/inventories.csv\")\n",
    "df_inventory_parts = pd.read_csv(\"data/lego/inventory_parts.csv\")\n",
    "df_colors = pd.read_csv(\"data/lego/colors.csv\")\n",
    "df_categories = pd.read_csv(\"data/lego/part_categories.csv\")\n",
    "df_parts = pd.read_csv(\"data/lego/parts.csv\")"
   ]
  },
  {
   "cell_type": "markdown",
   "id": "a5cce69f-77f2-4902-b366-67f52d96b723",
   "metadata": {
    "tags": []
   },
   "source": [
    "### 1. Sets\n",
    "##### 1.A. How many lego sets exist?"
   ]
  },
  {
   "cell_type": "code",
   "execution_count": 3,
   "id": "be5442ed-7edd-4eee-bab8-abc67d2586eb",
   "metadata": {},
   "outputs": [
    {
     "data": {
      "text/plain": [
       "11673"
      ]
     },
     "execution_count": 3,
     "metadata": {},
     "output_type": "execute_result"
    }
   ],
   "source": [
    "# All of these three codes will give you the same number. You can decide which one you like most and use that one.\n",
    "# Option 1\n",
    "df_sets.shape[0]\n",
    "\n",
    "# Option 2\n",
    "df_sets[\"set_num\"].count()\n",
    "\n",
    "# Option 3\n",
    "len(df_sets)"
   ]
  },
  {
   "cell_type": "markdown",
   "id": "3eb09af9-02f8-402f-9583-723b256fa151",
   "metadata": {},
   "source": [
    "##### 1.B. How many parts are in the smallest and biggest set? And how many parts are there on average in a set?\n",
    "> Hint: You can use __.aggregate()__ to calculate multiple measures at once, but you can also calculate them separately."
   ]
  },
  {
   "cell_type": "code",
   "execution_count": 4,
   "id": "d7691ff0-b8dc-4043-ba31-d57bd5c4c434",
   "metadata": {},
   "outputs": [
    {
     "name": "stdout",
     "output_type": "stream",
     "text": [
      "{'min': -1, 'max': 5922, 'mean': 162.26240041120533}\n"
     ]
    },
    {
     "data": {
      "text/plain": [
       "min       -1.0000\n",
       "max     5922.0000\n",
       "mean     162.2624\n",
       "Name: num_parts, dtype: float64"
      ]
     },
     "execution_count": 4,
     "metadata": {},
     "output_type": "execute_result"
    }
   ],
   "source": [
    "# Option 1: As a dictionary\n",
    "num_parts_info = {\n",
    "    'min': df_sets[\"num_parts\"].min(),\n",
    "    'max': df_sets[\"num_parts\"].max(),\n",
    "    'mean': df_sets[\"num_parts\"].mean()\n",
    "}\n",
    "print(num_parts_info)\n",
    "\n",
    "# Option 2: Aggretate allows you to put multiple functions (even your own) as a list into it.\n",
    "df_sets[\"num_parts\"].aggregate(['min', 'max', 'mean'])"
   ]
  },
  {
   "cell_type": "markdown",
   "id": "49cbdc9a-3c10-444d-a428-922efe01608f",
   "metadata": {},
   "source": [
    "##### 1.C. How many sets have the same amount of lego parts?\n",
    "> Hint: You can use __value_counts()__ for this."
   ]
  },
  {
   "cell_type": "code",
   "execution_count": 5,
   "id": "db910f31-2be6-4116-bafc-303bb400cc84",
   "metadata": {},
   "outputs": [
    {
     "data": {
      "text/plain": [
       "0       473\n",
       "6       310\n",
       "4       300\n",
       "1       285\n",
       "3       278\n",
       "       ... \n",
       "2045      1\n",
       "1536      1\n",
       "2844      1\n",
       "2448      1\n",
       "5461      1\n",
       "Name: num_parts, Length: 1092, dtype: int64"
      ]
     },
     "execution_count": 5,
     "metadata": {},
     "output_type": "execute_result"
    }
   ],
   "source": [
    "df_sets[\"num_parts\"].value_counts()"
   ]
  },
  {
   "cell_type": "markdown",
   "id": "0494c28c-3f16-4293-8b2a-1c421141b410",
   "metadata": {
    "tags": []
   },
   "source": [
    "##### 1.D. What year are the oldest and newest sets in this data set from?"
   ]
  },
  {
   "cell_type": "code",
   "execution_count": 6,
   "id": "b89e3e1f-3448-46c8-95a3-16f5e15b7e81",
   "metadata": {},
   "outputs": [
    {
     "data": {
      "text/plain": [
       "min    1950\n",
       "max    2017\n",
       "Name: year, dtype: int64"
      ]
     },
     "execution_count": 6,
     "metadata": {},
     "output_type": "execute_result"
    }
   ],
   "source": [
    "df_sets[\"year\"].aggregate(['min', 'max'])"
   ]
  },
  {
   "cell_type": "markdown",
   "id": "fd440419-c374-436b-91e3-fbd7e287fc33",
   "metadata": {},
   "source": [
    "##### 1.E. How many sets are there in each year?\n",
    "> Using __value_counts()__ and __sort_index()__ to sort them by year, show a __series__ of this information."
   ]
  },
  {
   "cell_type": "code",
   "execution_count": 7,
   "id": "42ffcdea-f2e9-4fa3-bb6d-262a3b26f3ea",
   "metadata": {},
   "outputs": [
    {
     "data": {
      "text/plain": [
       "1950      7\n",
       "1953      4\n",
       "1954     14\n",
       "1955     28\n",
       "1956     12\n",
       "       ... \n",
       "2013    593\n",
       "2014    713\n",
       "2015    665\n",
       "2016    596\n",
       "2017    296\n",
       "Name: year, Length: 66, dtype: int64"
      ]
     },
     "execution_count": 7,
     "metadata": {},
     "output_type": "execute_result"
    }
   ],
   "source": [
    "df_sets[\"year\"].value_counts().sort_index()"
   ]
  },
  {
   "cell_type": "markdown",
   "id": "c653aa6d-5375-470e-9e5f-0a0d49c46806",
   "metadata": {},
   "source": [
    "##### 1.F. Which themes have the most sets?\n",
    "> Just like before, use __value_counts()__. <br>\n",
    "> However, to get the actual name of the themes, you have to __merge()__ the themes table into your sets. <br>\n",
    "> Look at the __schema.png__ to see how the tables are connected. <br>\n",
    "> Read up on __merge__ in the documentation or use google to find examples on how to use it. <br>\n",
    "> Save the combined table into a new table called `df_sets_themes` and run your analysis on that combined data frame."
   ]
  },
  {
   "cell_type": "code",
   "execution_count": 8,
   "id": "4b78e40e-87f9-4e3c-8ce0-bec003d6da44",
   "metadata": {},
   "outputs": [
    {
     "data": {
      "text/html": [
       "<div>\n",
       "<style scoped>\n",
       "    .dataframe tbody tr th:only-of-type {\n",
       "        vertical-align: middle;\n",
       "    }\n",
       "\n",
       "    .dataframe tbody tr th {\n",
       "        vertical-align: top;\n",
       "    }\n",
       "\n",
       "    .dataframe thead th {\n",
       "        text-align: right;\n",
       "    }\n",
       "</style>\n",
       "<table border=\"1\" class=\"dataframe\">\n",
       "  <thead>\n",
       "    <tr style=\"text-align: right;\">\n",
       "      <th></th>\n",
       "      <th>theme_id</th>\n",
       "      <th>id</th>\n",
       "      <th>name</th>\n",
       "      <th>parent_id</th>\n",
       "    </tr>\n",
       "  </thead>\n",
       "  <tbody>\n",
       "    <tr>\n",
       "      <th>0</th>\n",
       "      <td>246</td>\n",
       "      <td>246</td>\n",
       "      <td>Harry Potter</td>\n",
       "      <td>NaN</td>\n",
       "    </tr>\n",
       "    <tr>\n",
       "      <th>1</th>\n",
       "      <td>240</td>\n",
       "      <td>240</td>\n",
       "      <td>RC Train</td>\n",
       "      <td>233.0</td>\n",
       "    </tr>\n",
       "    <tr>\n",
       "      <th>2</th>\n",
       "      <td>219</td>\n",
       "      <td>219</td>\n",
       "      <td>Castle</td>\n",
       "      <td>217.0</td>\n",
       "    </tr>\n",
       "    <tr>\n",
       "      <th>3</th>\n",
       "      <td>216</td>\n",
       "      <td>216</td>\n",
       "      <td>Friends</td>\n",
       "      <td>207.0</td>\n",
       "    </tr>\n",
       "    <tr>\n",
       "      <th>4</th>\n",
       "      <td>192</td>\n",
       "      <td>192</td>\n",
       "      <td>Dragon Knights</td>\n",
       "      <td>186.0</td>\n",
       "    </tr>\n",
       "    <tr>\n",
       "      <th>...</th>\n",
       "      <td>...</td>\n",
       "      <td>...</td>\n",
       "      <td>...</td>\n",
       "      <td>...</td>\n",
       "    </tr>\n",
       "    <tr>\n",
       "      <th>570</th>\n",
       "      <td>1</td>\n",
       "      <td>1</td>\n",
       "      <td>Technic</td>\n",
       "      <td>NaN</td>\n",
       "    </tr>\n",
       "    <tr>\n",
       "      <th>571</th>\n",
       "      <td>1</td>\n",
       "      <td>1</td>\n",
       "      <td>Technic</td>\n",
       "      <td>NaN</td>\n",
       "    </tr>\n",
       "    <tr>\n",
       "      <th>572</th>\n",
       "      <td>1</td>\n",
       "      <td>1</td>\n",
       "      <td>Technic</td>\n",
       "      <td>NaN</td>\n",
       "    </tr>\n",
       "    <tr>\n",
       "      <th>573</th>\n",
       "      <td>1</td>\n",
       "      <td>1</td>\n",
       "      <td>Technic</td>\n",
       "      <td>NaN</td>\n",
       "    </tr>\n",
       "    <tr>\n",
       "      <th>574</th>\n",
       "      <td>1</td>\n",
       "      <td>1</td>\n",
       "      <td>Technic</td>\n",
       "      <td>NaN</td>\n",
       "    </tr>\n",
       "  </tbody>\n",
       "</table>\n",
       "<p>575 rows × 4 columns</p>\n",
       "</div>"
      ],
      "text/plain": [
       "     theme_id   id            name  parent_id\n",
       "0         246  246    Harry Potter        NaN\n",
       "1         240  240        RC Train      233.0\n",
       "2         219  219          Castle      217.0\n",
       "3         216  216         Friends      207.0\n",
       "4         192  192  Dragon Knights      186.0\n",
       "..        ...  ...             ...        ...\n",
       "570         1    1         Technic        NaN\n",
       "571         1    1         Technic        NaN\n",
       "572         1    1         Technic        NaN\n",
       "573         1    1         Technic        NaN\n",
       "574         1    1         Technic        NaN\n",
       "\n",
       "[575 rows x 4 columns]"
      ]
     },
     "execution_count": 8,
     "metadata": {},
     "output_type": "execute_result"
    }
   ],
   "source": [
    "df_sets_themes = pd.merge(df_sets[\"theme_id\"].value_counts(), df_themes, how=\"left\", left_on=\"theme_id\", right_on=\"id\")\n",
    "df_sets_themes"
   ]
  },
  {
   "cell_type": "markdown",
   "id": "71337034-bc02-4cf6-aeaa-04ae263dc419",
   "metadata": {
    "tags": []
   },
   "source": [
    "### 2. Colors\n",
    "\n",
    "##### 2.1 What is the distribution of transparent vs. non-transparent (opaque) colors, i.e. how many colors are transparent and how many are opaque? Show it as a series."
   ]
  },
  {
   "cell_type": "code",
   "execution_count": 9,
   "id": "20bcc138-93f7-470a-83a2-e535673dc3e6",
   "metadata": {},
   "outputs": [
    {
     "data": {
      "text/plain": [
       "f    107\n",
       "t     28\n",
       "Name: is_trans, dtype: int64"
      ]
     },
     "execution_count": 9,
     "metadata": {},
     "output_type": "execute_result"
    }
   ],
   "source": [
    "df_colors[\"is_trans\"].value_counts()"
   ]
  },
  {
   "cell_type": "markdown",
   "id": "f01ef9d9-f1ae-45f7-9a7a-378cf1a35259",
   "metadata": {},
   "source": [
    "### 3. Themes\n",
    "##### 3.1. What are the 10 most used themes?\n",
    "> Merge __sets__ and __themes__ first to get the name of themes as as well."
   ]
  },
  {
   "cell_type": "code",
   "execution_count": 10,
   "id": "6f225c5f-9b58-48fd-bce4-ac3c7c65f689",
   "metadata": {},
   "outputs": [
    {
     "data": {
      "text/plain": [
       "Supplemental     496\n",
       "Technic          435\n",
       "City             287\n",
       "Friends          269\n",
       "Basic Set        257\n",
       "Creator          249\n",
       "Gear             246\n",
       "Service Packs    242\n",
       "Duplo            219\n",
       "Star Wars        211\n",
       "Name: name, dtype: int64"
      ]
     },
     "execution_count": 10,
     "metadata": {},
     "output_type": "execute_result"
    }
   ],
   "source": [
    "df_sets_themes = pd.merge(df_sets[\"theme_id\"], df_themes, how=\"left\", left_on=\"theme_id\", right_on=\"id\")\n",
    "df_sets_themes[\"name\"].value_counts()[:10]"
   ]
  }
 ],
 "metadata": {
  "kernelspec": {
   "display_name": "Python 3 (ipykernel)",
   "language": "python",
   "name": "python3"
  },
  "language_info": {
   "codemirror_mode": {
    "name": "ipython",
    "version": 3
   },
   "file_extension": ".py",
   "mimetype": "text/x-python",
   "name": "python",
   "nbconvert_exporter": "python",
   "pygments_lexer": "ipython3",
   "version": "3.10.6"
  }
 },
 "nbformat": 4,
 "nbformat_minor": 5
}

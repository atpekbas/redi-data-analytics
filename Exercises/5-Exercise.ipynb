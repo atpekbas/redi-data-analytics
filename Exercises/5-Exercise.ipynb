{
 "cells": [
  {
   "cell_type": "markdown",
   "id": "8e0103dc-9eea-49ce-9b5d-479472d60b90",
   "metadata": {
    "tags": []
   },
   "source": [
    "### 1. Import Libraries"
   ]
  },
  {
   "cell_type": "code",
   "execution_count": null,
   "id": "ba173cec-93a5-4974-bb40-f1b182ba1c5e",
   "metadata": {},
   "outputs": [],
   "source": [
    "import pandas as pd\n",
    "import matplotlib.pyplot as plt"
   ]
  },
  {
   "cell_type": "markdown",
   "id": "8677505b-a92d-4bd9-b758-e20fd086d993",
   "metadata": {
    "tags": []
   },
   "source": [
    "### 2. Loading the Data\n",
    "Load the data set `data/aarhusbolig_2023-04-19.csv` into a dataframe."
   ]
  },
  {
   "cell_type": "code",
   "execution_count": null,
   "id": "9ba904db-1705-4f9e-af48-a2e2567f87bc",
   "metadata": {},
   "outputs": [],
   "source": []
  },
  {
   "cell_type": "markdown",
   "id": "4fd8394e-c7fa-471c-b3df-c57da4c81eac",
   "metadata": {
    "tags": []
   },
   "source": [
    "### 3. Analysing the Data\n",
    "Show the dataframe to ensure that the data looks correct."
   ]
  },
  {
   "cell_type": "markdown",
   "id": "923c9909-9445-4e31-8482-0828beb91d25",
   "metadata": {},
   "source": [
    "Show the details of the dataframe. You can use the following `show_details(dataframe)` method.<br>\n",
    "In this notebook, you can use `show_details(dataframe)` at any point after this block to see what your dataframe looks like.<br>\n",
    "You can also additionally use other methods that you know or find to get more details about the dataframe."
   ]
  },
  {
   "cell_type": "code",
   "execution_count": null,
   "id": "1178b72b-5a1d-4530-ae4f-ccb1f37649d3",
   "metadata": {},
   "outputs": [],
   "source": [
    "def isNull(x):\n",
    "    return x.isna().sum()\n",
    "        \n",
    "def show_details(dataframe):\n",
    "    return dataframe.agg(['dtype', 'count', 'nunique', isNull])\n",
    "    \n",
    "show_details(df)"
   ]
  },
  {
   "cell_type": "code",
   "execution_count": null,
   "id": "33942974-4604-44ed-bb85-d82ca52fb212",
   "metadata": {},
   "outputs": [],
   "source": []
  },
  {
   "cell_type": "markdown",
   "id": "437ec6eb-ce69-4d82-9235-ff9097ba2fe4",
   "metadata": {
    "tags": []
   },
   "source": [
    "### 4. Cleaning the Data\n",
    "Clean the data with the following aspects (Not all of them may be needed):\n",
    "- `.drop(columns, axis=1)` Remove __columns__ that you think are irrelevant.\n",
    "- `.dropna(columns)` Remove __rows__ with __null values__ in that column if you think that the row NEEDS a value in that column.\n",
    "- `.fillna(dictionary)` Fill null values with __default values__ if you think a default value makes sense.\n",
    "- `.astype(type)` Parse data into a __different type__ (e.g. string to int) to be able to work on the proper typed values. This should be your last step!\n",
    "- `...` Apply other cleanings if you feel they are needed. e.g. cleaning strings specifically, rounding values, etc."
   ]
  },
  {
   "cell_type": "code",
   "execution_count": null,
   "id": "80764bd5-6c1c-41af-a355-532a72b8db8b",
   "metadata": {},
   "outputs": [],
   "source": []
  },
  {
   "cell_type": "markdown",
   "id": "2ee7eb6c-6d20-4314-9f84-d3d0e6d56d05",
   "metadata": {},
   "source": [
    "Save as new file to `data/aarhusbolig_cleaned.csv`, so you don't have to repeat all the cleaning process again.<br>\n",
    "> Make sure to set `index=False` to avoid having index numbers as a new column."
   ]
  },
  {
   "cell_type": "code",
   "execution_count": null,
   "id": "3e8b49a1-88dc-48d7-aff1-0e564e5888dc",
   "metadata": {},
   "outputs": [],
   "source": []
  },
  {
   "cell_type": "markdown",
   "id": "324e66f2-d323-4532-8ce5-cc74b99c9808",
   "metadata": {
    "tags": []
   },
   "source": [
    "### 5. Exploratory Data Analysis (EDA)\n",
    "Get insight on each column depending on its type:\n",
    "- For strings: What are the different values? Is each row unique? Are they nominal or ordinal values?\n",
    "- For numbers: Are the values discrete or continuous? What are the ranges (min, max, mean)?\n",
    "- For dates/times: What are the ranges (lowest, highest)? How detailed are they?\n",
    "- Can you see an index column? (Column which identifies a row uniquely. It does not need to be called *id*)?\n",
    "> __Notice:__ Since you saved the cleaned dataset as a new file, you don't need to run steps 1-4 anymore to clean it every time. <br>\n",
    "> You can just load the cleaned dataset and run your analysis and queries on that."
   ]
  },
  {
   "cell_type": "code",
   "execution_count": null,
   "id": "e656c43f-d209-4540-8ae8-8352117010a2",
   "metadata": {},
   "outputs": [],
   "source": []
  },
  {
   "cell_type": "markdown",
   "id": "ab8d5cf3-e75e-4881-ab03-33229978dd27",
   "metadata": {},
   "source": [
    "### 6. Visualisation\n",
    "To create visuals, you create more queries and plot them.<br>\n",
    "Plot information that is relevant for the housing market. Here are some ideas for plots:\n",
    "- How many listings per listing type exist?\n",
    "- What does the price distribution for all listings look like?\n",
    "- What does the price distribution per listing type look like?\n",
    "- What does the price distribution by room numbers look like?\n",
    "- What does the price distribution by room numbers for only apartments look like?\n",
    "- What is the price distribution per company?\n",
    "- Hard question: Where are the apartments located? Show a map.\n",
    "\n",
    "Choose the ones that interest you the most and plot them with an appropriate chart type (bar? horizontal bar? box-plot? etc.)"
   ]
  },
  {
   "cell_type": "code",
   "execution_count": null,
   "id": "a6fd63c3-ef62-4b85-8c58-172fd5a5df48",
   "metadata": {},
   "outputs": [],
   "source": [
    "# This line applies a specific visual style to the plots. For a full list, you can call `plt.style.available`.\n",
    "plt.style.use(\"seaborn-v0_8\")"
   ]
  },
  {
   "cell_type": "code",
   "execution_count": null,
   "id": "d45372d1-db6c-4c5a-a869-96d3fecd3a82",
   "metadata": {},
   "outputs": [],
   "source": [
    "# With this, you can annotate bars in bar plot with values. It requires you to save \"ax\"\n",
    "def show_bar_values(plot):\n",
    "    for container in plot.containers:\n",
    "        plot.bar_label(container, padding=5)"
   ]
  },
  {
   "cell_type": "code",
   "execution_count": null,
   "id": "d0075310-70ed-4025-8005-e312619bb14d",
   "metadata": {},
   "outputs": [],
   "source": [
    "# This is an example for one query and plot. It shows how many listings each company has.\n",
    "plot = df.groupby(\"company\") \\\n",
    "    .size() \\\n",
    "    .sort_values() \\\n",
    "    .plot.barh(title=\"Listings per company\")\n",
    "\n",
    "show_bar_values(plot)"
   ]
  },
  {
   "cell_type": "code",
   "execution_count": null,
   "id": "36b59439-5507-4eee-bd83-5b9620c2eba9",
   "metadata": {},
   "outputs": [],
   "source": [
    "# How many listings per listing type exist?"
   ]
  },
  {
   "cell_type": "code",
   "execution_count": null,
   "id": "7376768f-dff0-4e2a-aaf3-f3d9b19c6ba1",
   "metadata": {},
   "outputs": [],
   "source": [
    "# What does the price distribution for all listings look like?"
   ]
  },
  {
   "cell_type": "code",
   "execution_count": null,
   "id": "a09da0d7-1dc1-4d00-99a9-b7f4962251fc",
   "metadata": {},
   "outputs": [],
   "source": [
    "# What does the price distribution per listing type look like?"
   ]
  },
  {
   "cell_type": "code",
   "execution_count": null,
   "id": "b600a03f-87b5-4ef3-a464-ecc3c7ec516d",
   "metadata": {},
   "outputs": [],
   "source": [
    "# What does the price distribution by room numbers look like?"
   ]
  },
  {
   "cell_type": "code",
   "execution_count": null,
   "id": "e7b08d63-7414-4b9a-89ac-68fc388d4fe9",
   "metadata": {},
   "outputs": [],
   "source": [
    "# What does the price distribution by room numbers for only apartments look like?"
   ]
  },
  {
   "cell_type": "code",
   "execution_count": null,
   "id": "17df10e8-33b7-4557-a645-eac8db8a22e6",
   "metadata": {},
   "outputs": [],
   "source": [
    "# What is the price distribution per company?"
   ]
  },
  {
   "cell_type": "code",
   "execution_count": null,
   "id": "be4e03a5-35bd-4080-852b-ad8311ed83bb",
   "metadata": {},
   "outputs": [],
   "source": [
    "# Hard question: Where are the apartments located? Show a map."
   ]
  },
  {
   "cell_type": "markdown",
   "id": "d3fa2dde-b5c2-406c-b193-5820042bd30b",
   "metadata": {},
   "source": [
    "### 7. Interpretation\n",
    "Now having the results from your EDA and your plots, you can interpret the data and the visuals, and write your report. You can save the plots by simply dragging them into your folder. The report is usually not something you do in this notebook. Instead, you use a word document, google docs, latex, or similar. For this homework, use the box below to write down what you see and what it means for a company, or even someone who is looking for a place to live in Aarhus.\n",
    "> Avoid \"pretty tools\" like Canva! These will make you waste time on the looks and end up looking unprofessional if you are not skilled yet.\n",
    "> Most companies have their own templates, which are usually Word documents."
   ]
  },
  {
   "cell_type": "code",
   "execution_count": null,
   "id": "2ec3b28d-5b0c-4c75-afc4-8c8acdaeb59a",
   "metadata": {},
   "outputs": [],
   "source": []
  }
 ],
 "metadata": {
  "kernelspec": {
   "display_name": "Python 3 (ipykernel)",
   "language": "python",
   "name": "python3"
  },
  "language_info": {
   "codemirror_mode": {
    "name": "ipython",
    "version": 3
   },
   "file_extension": ".py",
   "mimetype": "text/x-python",
   "name": "python",
   "nbconvert_exporter": "python",
   "pygments_lexer": "ipython3",
   "version": "3.11.2"
  }
 },
 "nbformat": 4,
 "nbformat_minor": 5
}

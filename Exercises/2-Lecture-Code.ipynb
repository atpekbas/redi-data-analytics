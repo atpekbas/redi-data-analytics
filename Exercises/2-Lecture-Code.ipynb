{
 "cells": [
  {
   "cell_type": "markdown",
   "id": "e7b86beb-3778-4795-99cd-1759884e1be4",
   "metadata": {
    "tags": []
   },
   "source": [
    "### 1. Basics of Programming"
   ]
  },
  {
   "cell_type": "markdown",
   "id": "2c8a9c10-f090-4436-a2b3-bd5437c699ea",
   "metadata": {},
   "source": [
    "##### Variables\n",
    "- Can be named whatever you want\n",
    "- Contain a value that can be overwritten"
   ]
  },
  {
   "cell_type": "code",
   "execution_count": null,
   "id": "553d3b3a-e091-4c62-a597-8d91881154c7",
   "metadata": {},
   "outputs": [],
   "source": [
    "lecture = 1\n",
    "lecture = lecture + 1\n",
    "print(lecture)"
   ]
  },
  {
   "cell_type": "markdown",
   "id": "d341ef89-ae31-4a8e-aa47-9ad0c442e646",
   "metadata": {},
   "source": [
    "##### Print()\n",
    "- Prints strings, variables, etc. on the screen.\n",
    "- You can pass multiple variables with comma separation.\n"
   ]
  },
  {
   "cell_type": "code",
   "execution_count": null,
   "id": "81b77267-8378-4b3f-b2ff-9cafe7dc4e1b",
   "metadata": {},
   "outputs": [],
   "source": [
    "name = \"Data Analyst\"\n",
    "print(\"Hello\", name, \"!\")"
   ]
  },
  {
   "cell_type": "markdown",
   "id": "f52c3290-39b0-43d5-bb09-8195b3cb065a",
   "metadata": {},
   "source": [
    "##### Data Types\n",
    "- Tells us, what type a value is\n",
    "- __int__ and __float__ can be used for mathematical operations\n",
    "- __str__ is text\n",
    "- __bool__ is useful for decision making\n",
    "- __list__ and __dict__ contain multiple values"
   ]
  },
  {
   "cell_type": "code",
   "execution_count": null,
   "id": "ab13429e-27ee-48eb-9785-2a9afac0ec5f",
   "metadata": {},
   "outputs": [],
   "source": [
    "print(type(\"Data Analyst\"))\n",
    "print(type(12))\n",
    "print(type(12.23))\n",
    "print(type(True))\n",
    "print(type([12,3,4]))\n",
    "print(type({ \"name\": \"Data Analyst\" }))"
   ]
  },
  {
   "cell_type": "markdown",
   "id": "dac11c17-0c5b-45db-b6f0-df4548899454",
   "metadata": {},
   "source": [
    "##### Type Conversion\n",
    "- Some types can be converted into other types\n",
    "- Since mathematical operations can only be performed on numbers, you may need to convert a string containing a number into an actual number (int/float)"
   ]
  },
  {
   "cell_type": "code",
   "execution_count": null,
   "id": "6d150beb-2069-4f40-ae51-63cda7d5f797",
   "metadata": {},
   "outputs": [],
   "source": [
    "print(int(\"12\"))\n",
    "print(str(29.2))\n",
    "print(float(12))\n",
    "print(str(True))"
   ]
  },
  {
   "cell_type": "markdown",
   "id": "99ea47c9-e89f-4278-ac63-5e01adc62398",
   "metadata": {},
   "source": [
    "##### Lists\n",
    "- Lists are containers with multiple values\n",
    "- You can identify lists by __square brackets__\n",
    "- Elements can be added, removed, and replaced\n",
    "- More functions exist such as sort, reverse, clear, count, etc.\n",
    "- Elements can be accessed by the __index__.\n"
   ]
  },
  {
   "cell_type": "code",
   "execution_count": null,
   "id": "3a6babac-8401-40ba-90d9-1c964d56f7a7",
   "metadata": {},
   "outputs": [],
   "source": [
    "scores = []\n",
    "scores.append(3)\n",
    "scores.append(5)\n",
    "scores = scores + [6,2,1]\n",
    "scores.remove(2)\n",
    "scores[1] = 8\n",
    "scores"
   ]
  },
  {
   "cell_type": "markdown",
   "id": "42b79140-5558-484e-9d2a-fe9913d4e7e0",
   "metadata": {},
   "source": [
    "##### Dictionaries\n",
    "- Dictionaries are containers with key/value pairs\n",
    "- The keys are strings\n",
    "- The values can be anything. Even another dictionary!\n",
    "- You can identify dictionaries by their __curly braces__\n",
    "- Elements can be added, removed, and replaced\n",
    "- Elements can be accessed by the __key__.\n"
   ]
  },
  {
   "cell_type": "code",
   "execution_count": null,
   "id": "439b4e58-b52f-43ce-9d1e-fe812a94cb5b",
   "metadata": {},
   "outputs": [],
   "source": [
    "groceries = {\n",
    "    \"banana\": 4,\n",
    "    \"milk\": 2\n",
    "}\n",
    "groceries[\"apples\"] = 3\n",
    "groceries[\"milk\"] = 1\n",
    "del groceries[\"banana\"]\n",
    "print(groceries)"
   ]
  },
  {
   "cell_type": "markdown",
   "id": "5457a6b9-a950-4bbd-ad85-5da3eaf95c30",
   "metadata": {},
   "source": [
    "##### Strings\n",
    "- Strings are a sequence of characters, marked __inside two quotes__.\n",
    "- Strings can be analyzed, manipulated, split, combined, etc."
   ]
  },
  {
   "cell_type": "code",
   "execution_count": null,
   "id": "2010bb12-d5dd-400c-a09e-6de54443d0a9",
   "metadata": {},
   "outputs": [],
   "source": [
    "sentence = \"(50) It's dark.\"\n",
    "len(sentence)\n",
    "sentence = sentence.replace(\".\",\"!\")\n",
    "sentence = sentence + \" Always!\"\n",
    "sentence = sentence\n",
    "num = sentence[1:3]\n",
    "sentences = sentence.split(\" \")\n",
    "print(sentence)\n",
    "print(sentences)\n",
    "print(num)\n",
    "print(type(num))"
   ]
  },
  {
   "cell_type": "markdown",
   "id": "54f345ef-fa42-43db-b9b8-432609840b67",
   "metadata": {},
   "source": [
    "### Control Structures: Conditionals (if/else)\n",
    "- Depending on a __condition__, you can execute different code.\n",
    "- The condition has to result in a __bool__.\n",
    "- The condition can be a __bool variable__ or a __comparison__.\n",
    "- Conditions can be __nested__.\n",
    "- Conditions can be __combined__."
   ]
  },
  {
   "cell_type": "code",
   "execution_count": null,
   "id": "9303f0c4-7594-4d21-b3ba-a3f4ab5a6237",
   "metadata": {},
   "outputs": [],
   "source": [
    "hour = 12\n",
    "if hour < 12:\n",
    "    word = \"morning\"\n",
    "elif hour < 18:\n",
    "    word = \"afternoon\"\n",
    "else:\n",
    "    word = \"evening\"\n",
    "print(\"Good \" + word + \", People!\") "
   ]
  },
  {
   "cell_type": "code",
   "execution_count": null,
   "id": "b4a07e83-3b8d-490f-aafb-7a8e8df45309",
   "metadata": {},
   "outputs": [],
   "source": [
    "is_sunny = True\n",
    "hour = 16\n",
    "\n",
    "if is_sunny and hour < 18:\n",
    "    print(\"Let's go for a walk!\")\n",
    "elif is_sunny:\n",
    "    print(\"Let's watch the sunset!\")\n",
    "elif hour < 18:\n",
    "    print(\"Let's do homework!\")\n",
    "else:\n",
    "    print(\"Let's play a board game!\")"
   ]
  },
  {
   "cell_type": "markdown",
   "id": "3754769b-963e-4c16-9768-1a5f1ea59c6b",
   "metadata": {},
   "source": [
    "### Control Structures: Loops\n",
    "- Loops allow you to run the same code for a sequence (list).\n",
    "- A for loop executes the inside of the for loop for every element in a sequence (list).\n",
    "- It creates a temporary variable that is named by you.\n",
    "- For loops are often combined with if/else, but the code can be anything; even another for loop!\n"
   ]
  },
  {
   "cell_type": "code",
   "execution_count": null,
   "id": "4f5fa79e-bcfe-4e7e-9d66-bd73e8af5113",
   "metadata": {},
   "outputs": [],
   "source": [
    "numbers = [20, -10, -2, 4, 3, 10, -29]\n",
    "income = 0\n",
    "for number in numbers:\n",
    "    income += number\n",
    "print(income)"
   ]
  },
  {
   "cell_type": "code",
   "execution_count": null,
   "id": "f1fccbe0-ebc8-478e-b0a2-fecd9ac98ee1",
   "metadata": {},
   "outputs": [],
   "source": [
    "numbers = [20, -10, -2, 4, 3, 10, -29]\n",
    "income = 0\n",
    "expenses = 0\n",
    "for number in numbers:\n",
    "    if number >= 0:\n",
    "        income += number\n",
    "    else:\n",
    "        expenses += number\n",
    "print(\"income:\", income)\n",
    "print(\"expenses:\", expenses)"
   ]
  },
  {
   "cell_type": "markdown",
   "id": "8317b011-a286-4c84-a3f3-e72cc6aa1e3c",
   "metadata": {},
   "source": [
    "### Functions\n",
    "- Functions are a predefined block of code.\n",
    "- A function has a __name__, __input parameters__, and an optionally an __output parameter__."
   ]
  },
  {
   "cell_type": "code",
   "execution_count": null,
   "id": "2019b5b0-f5d8-4768-b8df-934ebd019508",
   "metadata": {},
   "outputs": [],
   "source": [
    "def combine(a, b):\n",
    "    return a+b\n",
    "\n",
    "print(combine(\"da\", \"ta\"))"
   ]
  },
  {
   "cell_type": "markdown",
   "id": "a7ba4ee7-4c89-42fe-8669-b09251fa1775",
   "metadata": {},
   "source": [
    "- Python has in-built functions like sum(), print(), .append(), etc."
   ]
  },
  {
   "cell_type": "code",
   "execution_count": null,
   "id": "48b81e55-5715-49e5-9484-400acd1334dd",
   "metadata": {},
   "outputs": [],
   "source": [
    "numbers = [20, 10, -2, 4, 3, 10, 29]\n",
    "numbers_sum = sum(numbers)\n",
    "print(numbers_sum)"
   ]
  },
  {
   "cell_type": "markdown",
   "id": "75895313-b40d-4b55-a6c2-ae45d8700f62",
   "metadata": {},
   "source": [
    "- You can write your own functions."
   ]
  },
  {
   "cell_type": "code",
   "execution_count": null,
   "id": "150a8c0e-cc45-4a7f-a279-7eeb3c714e04",
   "metadata": {},
   "outputs": [],
   "source": [
    "def add_numbers(nums):\n",
    "    total = 0\n",
    "    for number in nums:\n",
    "        total += number\n",
    "    return total\n",
    "\n",
    "numbers = [20, 10, -2, 4, 3, 10, 29]\n",
    "numbers_sum = add_numbers(numbers)\n",
    "print(numbers_sum)"
   ]
  },
  {
   "cell_type": "markdown",
   "id": "3fa78181-7d8e-40da-bed8-301f4cfa825d",
   "metadata": {},
   "source": [
    "- Libraries are collections of functions which contain more functions."
   ]
  },
  {
   "cell_type": "code",
   "execution_count": null,
   "id": "ef0eb851-4ec5-4dca-b260-bfbb3a490251",
   "metadata": {},
   "outputs": [],
   "source": [
    "import math\n",
    "numbers = [4, 9, 16, 21]\n",
    "\n",
    "for number in numbers:\n",
    "    print(math.sqrt(number))"
   ]
  },
  {
   "cell_type": "markdown",
   "id": "b9b50ba5-71cb-40c4-8a02-c594238c795a",
   "metadata": {},
   "source": [
    "### Working with files\n",
    "- We will work with __data__ files.\n",
    "- __.csv__ and __.json__ files are used to store data, but other file types exist.\n",
    "- Pandas is a library to load, view, and edit these files.\n"
   ]
  },
  {
   "cell_type": "code",
   "execution_count": null,
   "id": "a0fef167-f5a0-4903-9cac-53ed25daafee",
   "metadata": {},
   "outputs": [],
   "source": [
    "import pandas as pd\n",
    "df = pd.read_csv(\"./data/data.csv\")\n",
    "df.head()"
   ]
  }
 ],
 "metadata": {
  "kernelspec": {
   "display_name": "Python 3 (ipykernel)",
   "language": "python",
   "name": "python3"
  },
  "language_info": {
   "codemirror_mode": {
    "name": "ipython",
    "version": 3
   },
   "file_extension": ".py",
   "mimetype": "text/x-python",
   "name": "python",
   "nbconvert_exporter": "python",
   "pygments_lexer": "ipython3",
   "version": "3.10.6"
  }
 },
 "nbformat": 4,
 "nbformat_minor": 5
}

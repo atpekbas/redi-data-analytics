{
 "cells": [
  {
   "cell_type": "markdown",
   "id": "f7614cc3-69ed-4450-aa88-5a56ffcdfbb8",
   "metadata": {
    "tags": []
   },
   "source": [
    "## 1. Cereals\n",
    "##### 1.1. Load the __data/cereal.csv__ data set with __pandas__ and save it to a variable called __df__ _(short for: dataframe)_."
   ]
  },
  {
   "cell_type": "code",
   "execution_count": null,
   "id": "33dce43c-5372-4cb8-aad1-d95842fd6ebf",
   "metadata": {
    "tags": []
   },
   "outputs": [],
   "source": []
  },
  {
   "cell_type": "markdown",
   "id": "eed70b10-b447-49d8-9de6-13583472d85e",
   "metadata": {},
   "source": [
    "#### When working with a dataset, the first thing you want to do is get familar with the data."
   ]
  },
  {
   "cell_type": "markdown",
   "id": "0529e093-cc73-4e06-8323-68ab585dc6a4",
   "metadata": {
    "tags": []
   },
   "source": [
    "##### 1.2. Try the functions __.head()__, __.tail()__, __.info()__. What do they show?"
   ]
  },
  {
   "cell_type": "code",
   "execution_count": null,
   "id": "d826b6cb-4239-43c2-ab80-e6383ffe3c76",
   "metadata": {
    "tags": []
   },
   "outputs": [],
   "source": []
  },
  {
   "cell_type": "code",
   "execution_count": null,
   "id": "6ff6cb32-137c-4866-82aa-81caea55ae2b",
   "metadata": {
    "tags": []
   },
   "outputs": [],
   "source": []
  },
  {
   "cell_type": "code",
   "execution_count": null,
   "id": "386d7d2a-e181-4361-ba90-4d269430f3d0",
   "metadata": {
    "tags": []
   },
   "outputs": [],
   "source": []
  },
  {
   "cell_type": "markdown",
   "id": "727c5099-eecb-462b-8ca4-f06b73e4a0a2",
   "metadata": {},
   "source": [
    "##### __.head()__ and __.tail()__ can show as many rows as you want. How would you see the first and last 10 rows?"
   ]
  },
  {
   "cell_type": "code",
   "execution_count": null,
   "id": "2a872e6e-1204-4497-89d8-d9149d56280b",
   "metadata": {
    "tags": []
   },
   "outputs": [],
   "source": []
  },
  {
   "cell_type": "code",
   "execution_count": null,
   "id": "d9705756-b14e-47c5-89c1-88977eafde15",
   "metadata": {
    "tags": []
   },
   "outputs": [],
   "source": []
  },
  {
   "cell_type": "markdown",
   "id": "665f09f7-a7e1-4e10-b062-908ecdd9de92",
   "metadata": {},
   "source": [
    "##### 1.3. Try the __.columns__, __.shape__ properties. What do they show?"
   ]
  },
  {
   "cell_type": "code",
   "execution_count": null,
   "id": "a31c6263-05c9-43c3-92c0-64911c9ab424",
   "metadata": {
    "tags": []
   },
   "outputs": [],
   "source": []
  },
  {
   "cell_type": "markdown",
   "id": "dfb42689-2028-4b37-a583-23266d00b968",
   "metadata": {},
   "source": [
    "##### You can also get the name only one specific column. How would you get the name of the __third__ column?"
   ]
  },
  {
   "cell_type": "code",
   "execution_count": null,
   "id": "36a78dc2-732a-468f-be57-358c4b86110b",
   "metadata": {},
   "outputs": [],
   "source": []
  },
  {
   "cell_type": "code",
   "execution_count": null,
   "id": "d1abb603-69c2-4315-b599-f054acdcf1d7",
   "metadata": {
    "tags": []
   },
   "outputs": [],
   "source": []
  },
  {
   "cell_type": "markdown",
   "id": "baabbc65-7db2-4226-bfa0-0fb1415d8911",
   "metadata": {},
   "source": [
    "##### 1.4. Now we know how many rows of data we have. Now run __.nunique()__ . What does this show?"
   ]
  },
  {
   "cell_type": "code",
   "execution_count": null,
   "id": "016065f2-1687-4f1f-a241-142c46c91bf4",
   "metadata": {
    "tags": []
   },
   "outputs": [],
   "source": []
  },
  {
   "cell_type": "markdown",
   "id": "2c14d336-b50a-4f21-b810-4b8e94b3ce48",
   "metadata": {},
   "source": [
    "##### 1.5. Most datasets contain null values. To see which columns have null values you need to run __.count()__."
   ]
  },
  {
   "cell_type": "code",
   "execution_count": null,
   "id": "64d58cc7-4dbf-4165-87fa-37b3e6e4a24e",
   "metadata": {
    "tags": []
   },
   "outputs": [],
   "source": []
  },
  {
   "cell_type": "markdown",
   "id": "32aeba0f-b702-4e1e-a939-841eff6f4974",
   "metadata": {},
   "source": [
    "##### 1.6. You can select only one column to view. A column is known as a __series__. Show only the mfr column."
   ]
  },
  {
   "cell_type": "code",
   "execution_count": null,
   "id": "f8d82f34-4c7c-490c-b96b-1be738887120",
   "metadata": {
    "tags": []
   },
   "outputs": [],
   "source": []
  },
  {
   "cell_type": "markdown",
   "id": "3c34e2ca-cae5-4b8d-b681-956d9c98878b",
   "metadata": {},
   "source": [
    "##### 1.7. Can you now see how many unique values are just in __mfr__?"
   ]
  },
  {
   "cell_type": "code",
   "execution_count": null,
   "id": "97e8134e-7d24-480b-819a-32278fbac580",
   "metadata": {
    "tags": []
   },
   "outputs": [],
   "source": []
  },
  {
   "cell_type": "markdown",
   "id": "a3f252ea-ef15-41b2-bddc-fb81a51cbabd",
   "metadata": {},
   "source": [
    "##### 1.8. Some functions can be run on series. Show the list of __unique__ values in the __mfr__ column."
   ]
  },
  {
   "cell_type": "code",
   "execution_count": null,
   "id": "b8e6fbcf-36dd-4eb6-a319-97dac597fdd5",
   "metadata": {
    "tags": []
   },
   "outputs": [],
   "source": []
  },
  {
   "cell_type": "markdown",
   "id": "450efc3a-9ccf-470c-bef3-3b521b133ea7",
   "metadata": {},
   "source": [
    "##### 1.9. You can narrow down your view by showing only specific columns. Show only the __name__ and the __sugars__ columns."
   ]
  },
  {
   "cell_type": "code",
   "execution_count": null,
   "id": "944db3fb-cfc8-42cc-8554-7d3c0e9cb096",
   "metadata": {
    "tags": []
   },
   "outputs": [],
   "source": []
  },
  {
   "cell_type": "markdown",
   "id": "2751e7f1-6e16-4671-a60b-eacdac1b99b9",
   "metadata": {},
   "source": [
    "##### 1.10. You can filter your rows to meet a specific condition. Show only rows that have more than __12g of sugar__."
   ]
  },
  {
   "cell_type": "code",
   "execution_count": null,
   "id": "e481624e-7c86-47d6-9cb7-32a013c09d1d",
   "metadata": {
    "tags": []
   },
   "outputs": [],
   "source": []
  },
  {
   "cell_type": "markdown",
   "id": "1b1e597f-8a4b-4abd-b93d-03805d4579d6",
   "metadata": {},
   "source": [
    "##### 1.11. You can sort the data by a specific column. Sort the dataframe by __protein__ level in descending order."
   ]
  },
  {
   "cell_type": "code",
   "execution_count": null,
   "id": "404520eb-531a-4971-b6de-9bff37279147",
   "metadata": {
    "tags": []
   },
   "outputs": [],
   "source": []
  },
  {
   "cell_type": "markdown",
   "id": "ec96c2cf-1be4-4ad3-b011-d72ecda7ab10",
   "metadata": {},
   "source": [
    "##### 1.12. Using a function on the column, figure out what the maximum amount of __fiber__ is in this data set."
   ]
  },
  {
   "cell_type": "code",
   "execution_count": null,
   "id": "0bd22dec-6b94-4299-a728-2aad8296ddc8",
   "metadata": {
    "tags": []
   },
   "outputs": [],
   "source": []
  },
  {
   "cell_type": "markdown",
   "id": "66f1f028-38c2-4366-8f4e-02c31d6b6fc9",
   "metadata": {},
   "source": [
    "##### 1.13 Use various statistical function to learn more about the column __fiber__."
   ]
  },
  {
   "cell_type": "code",
   "execution_count": null,
   "id": "91c8f992-e268-4d2a-87f9-7bad27430b43",
   "metadata": {},
   "outputs": [],
   "source": []
  },
  {
   "cell_type": "code",
   "execution_count": null,
   "id": "c65e7c73-bf56-4c34-9511-afbdd3bfef2b",
   "metadata": {},
   "outputs": [],
   "source": []
  },
  {
   "cell_type": "code",
   "execution_count": null,
   "id": "f89b93c4-1421-4534-88b8-aa0bf53e6865",
   "metadata": {},
   "outputs": [],
   "source": []
  },
  {
   "cell_type": "code",
   "execution_count": null,
   "id": "0977d3ef-1753-4b92-823b-15d26cef24bc",
   "metadata": {},
   "outputs": [],
   "source": []
  },
  {
   "cell_type": "code",
   "execution_count": null,
   "id": "a4d49558-9221-4590-84fd-90756e6dbe85",
   "metadata": {},
   "outputs": [],
   "source": []
  },
  {
   "cell_type": "markdown",
   "id": "75d5513d-b039-446c-814a-bc3af06b43b4",
   "metadata": {},
   "source": [
    "##### 1.14. __.groupby()__ is a function that allows you to group your data together based on different criteria. Let's start by grouping on __mfr__ and using min() as an aggregator."
   ]
  },
  {
   "cell_type": "code",
   "execution_count": null,
   "id": "6f6c9841-a6cf-4b40-89b2-b797df908e9c",
   "metadata": {
    "tags": []
   },
   "outputs": [],
   "source": []
  },
  {
   "cell_type": "markdown",
   "id": "05fcec59-6f2d-45cc-a04d-5fedcfa27aa5",
   "metadata": {},
   "source": [
    "##### 1.15. Now Show all the manufacturers and their cereal's __minimum calories__."
   ]
  },
  {
   "cell_type": "code",
   "execution_count": null,
   "id": "ccb16a3d-4ec3-4ecb-8eea-853030eced32",
   "metadata": {},
   "outputs": [],
   "source": []
  },
  {
   "cell_type": "markdown",
   "id": "acdf04e4-86c1-47a0-b8bc-1b05f38ad43b",
   "metadata": {},
   "source": [
    "##### 1.16. Using conditions also known as __masks__ we can find the __name__ of the cereals with the lowest __calories__ from 1.15."
   ]
  },
  {
   "cell_type": "code",
   "execution_count": null,
   "id": "fb0663fa-4de6-45c9-a298-07fd973e9a32",
   "metadata": {},
   "outputs": [],
   "source": []
  },
  {
   "cell_type": "markdown",
   "id": "3575eddb-098f-4a86-a49a-293979b2f39e",
   "metadata": {},
   "source": [
    "##### 1.17. Now I want to see the __maximum fiber and vitamin values__ per manufacturer."
   ]
  },
  {
   "cell_type": "code",
   "execution_count": null,
   "id": "39bdc365-5734-45e1-9feb-2cdd766c417b",
   "metadata": {},
   "outputs": [],
   "source": []
  },
  {
   "cell_type": "markdown",
   "id": "f0d652bb-082d-4367-85b0-a7afa6959eb2",
   "metadata": {},
   "source": [
    "##### 1.18. Now we know what the maximum values for __fiber__ and __vitamins__ are. But what is the __name__ of the cereal?"
   ]
  },
  {
   "cell_type": "code",
   "execution_count": null,
   "id": "ee895410-1a87-4075-ad20-6f6d93396642",
   "metadata": {},
   "outputs": [],
   "source": []
  },
  {
   "cell_type": "code",
   "execution_count": null,
   "id": "b9239643-7764-4a4e-abeb-1b32d40a8366",
   "metadata": {},
   "outputs": [],
   "source": []
  },
  {
   "cell_type": "markdown",
   "id": "07ce2182-1782-457b-9966-865d7ef27b5b",
   "metadata": {},
   "source": [
    "Explain the output. How would you change the code?"
   ]
  },
  {
   "cell_type": "code",
   "execution_count": null,
   "id": "006200ce-cb04-446e-accd-7d961cba5c7c",
   "metadata": {},
   "outputs": [],
   "source": []
  },
  {
   "cell_type": "code",
   "execution_count": null,
   "id": "38e391dd-0696-4d20-b5be-5a08dbd76e16",
   "metadata": {},
   "outputs": [],
   "source": []
  },
  {
   "cell_type": "markdown",
   "id": "86601889-9442-4c49-86c2-cb43d558b3f2",
   "metadata": {},
   "source": [
    "##### 1.19. We can also have more than one aggregation with a groupby. Try getting the __min__, __average__, and __max__ of every column while grouping on __mfr__."
   ]
  },
  {
   "cell_type": "code",
   "execution_count": null,
   "id": "3fd38f3b-ac58-4427-8b34-84feb2b83914",
   "metadata": {},
   "outputs": [],
   "source": []
  },
  {
   "cell_type": "code",
   "execution_count": null,
   "id": "24af3305-9c9f-4f05-b5c4-98211780192e",
   "metadata": {},
   "outputs": [],
   "source": []
  }
 ],
 "metadata": {
  "kernelspec": {
   "display_name": "Python 3 (ipykernel)",
   "language": "python",
   "name": "python3"
  },
  "language_info": {
   "codemirror_mode": {
    "name": "ipython",
    "version": 3
   },
   "file_extension": ".py",
   "mimetype": "text/x-python",
   "name": "python",
   "nbconvert_exporter": "python",
   "pygments_lexer": "ipython3",
   "version": "3.10.4"
  }
 },
 "nbformat": 4,
 "nbformat_minor": 5
}

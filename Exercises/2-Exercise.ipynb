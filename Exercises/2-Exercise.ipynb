{
 "cells": [
  {
   "cell_type": "markdown",
   "id": "284906f1-5614-4ac2-b80a-868608abd7aa",
   "metadata": {},
   "source": [
    "## 1. \"Data\", \"Analytics\", \"DataAnalytics\"\n",
    "##### 1.1. Write a script that goes through all numbers from 1 to 100 and prints out \"Data\" for every multiple of 3, \"Analytics\" for every multiple of 5, \"DataAnalytics\" for every number that is a multiple of 3 and 5, and otherwise prints the number itself. You can use the built-in function __range()__ for this."
   ]
  },
  {
   "cell_type": "code",
   "execution_count": null,
   "id": "b82531ca-4d19-4536-9598-206603cb524e",
   "metadata": {
    "tags": []
   },
   "outputs": [],
   "source": []
  },
  {
   "cell_type": "markdown",
   "id": "cae159bd-881c-4bf4-aca0-ff78fde6eafa",
   "metadata": {},
   "source": [
    "##### 1.2. Then turn the script into a function, which takes two parameters: \"start\", and \"end\", which define the range we want to check. Call it with a range of your choice to make sure it is working."
   ]
  },
  {
   "cell_type": "code",
   "execution_count": null,
   "id": "79dc19da-c904-4fa3-a03c-2ad4fd36c2e1",
   "metadata": {
    "tags": []
   },
   "outputs": [],
   "source": []
  },
  {
   "cell_type": "markdown",
   "id": "53b4563e-46e7-4b9f-97e7-8f0ccf2bd277",
   "metadata": {},
   "source": [
    "##### 1.3. Make the function return the number of \"Data\", \"Analytics\" and \"DataAnalytics\" it wrote, as a dictionary. Call it and print the result for the range from 50 - 200."
   ]
  },
  {
   "cell_type": "code",
   "execution_count": null,
   "id": "5531fd21-7615-4e6b-8405-af14b7dc508a",
   "metadata": {
    "tags": []
   },
   "outputs": [],
   "source": []
  }
 ],
 "metadata": {
  "kernelspec": {
   "display_name": "Python 3 (ipykernel)",
   "language": "python",
   "name": "python3"
  },
  "language_info": {
   "codemirror_mode": {
    "name": "ipython",
    "version": 3
   },
   "file_extension": ".py",
   "mimetype": "text/x-python",
   "name": "python",
   "nbconvert_exporter": "python",
   "pygments_lexer": "ipython3",
   "version": "3.10.6"
  }
 },
 "nbformat": 4,
 "nbformat_minor": 5
}

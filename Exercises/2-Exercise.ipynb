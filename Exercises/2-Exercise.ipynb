{
 "cells": [
  {
   "cell_type": "markdown",
   "id": "284906f1-5614-4ac2-b80a-868608abd7aa",
   "metadata": {},
   "source": [
    "## 1. \"Data\", \"Analytics\", \"DataAnalytics\"\n",
    "##### 1.1. Write a script that goes through all numbers from 1 to 100 and prints out \"Data\" for every multiple of 3, \"Analytics\" for every multiple of 5, \"DataAnalytics\" for every number that is a multiple of 3 and 5, and otherwise prints the number itself. You can use the built-in function __range()__ for this."
   ]
  },
  {
   "cell_type": "code",
   "execution_count": null,
   "id": "b82531ca-4d19-4536-9598-206603cb524e",
   "metadata": {
    "tags": []
   },
   "outputs": [],
   "source": []
  },
  {
   "cell_type": "markdown",
   "id": "cae159bd-881c-4bf4-aca0-ff78fde6eafa",
   "metadata": {},
   "source": [
    "##### 1.2. Then turn the script into a function, which takes two parameters: \"start\", and \"end\", which define the range we want to check. Call it with a range of your choice to make sure it is working."
   ]
  },
  {
   "cell_type": "code",
   "execution_count": null,
   "id": "79dc19da-c904-4fa3-a03c-2ad4fd36c2e1",
   "metadata": {
    "tags": []
   },
   "outputs": [],
   "source": []
  },
  {
   "cell_type": "markdown",
   "id": "53b4563e-46e7-4b9f-97e7-8f0ccf2bd277",
   "metadata": {},
   "source": [
    "##### 1.3. Make the function return the number of \"Data\", \"Analytics\" and \"DataAnalytics\" it wrote, as a dictionary. Call it and print the result for the range from 50 - 200."
   ]
  },
  {
   "cell_type": "code",
   "execution_count": null,
   "id": "5531fd21-7615-4e6b-8405-af14b7dc508a",
   "metadata": {
    "tags": []
   },
   "outputs": [],
   "source": []
  },
  {
   "cell_type": "markdown",
   "id": "398d99a3-627a-4cb4-a4c3-857276e066b5",
   "metadata": {
    "tags": []
   },
   "source": [
    "## 2. Cereals\n",
    "##### 2.1. Load the __data/cereal.csv__ data set with __pandas__ and save it to a variable called __df__ _(short for: dataframe)_."
   ]
  },
  {
   "cell_type": "code",
   "execution_count": null,
   "id": "33dce43c-5372-4cb8-aad1-d95842fd6ebf",
   "metadata": {},
   "outputs": [],
   "source": []
  },
  {
   "cell_type": "markdown",
   "id": "ea7424f4-a071-422e-92e5-3d99446cadf1",
   "metadata": {
    "tags": []
   },
   "source": [
    "##### 2.2. Try the functions __.head()__, __.tail()__, __.info()__. What do they show?"
   ]
  },
  {
   "cell_type": "code",
   "execution_count": null,
   "id": "d826b6cb-4239-43c2-ab80-e6383ffe3c76",
   "metadata": {},
   "outputs": [],
   "source": []
  },
  {
   "cell_type": "code",
   "execution_count": null,
   "id": "6ff6cb32-137c-4866-82aa-81caea55ae2b",
   "metadata": {},
   "outputs": [],
   "source": []
  },
  {
   "cell_type": "code",
   "execution_count": null,
   "id": "386d7d2a-e181-4361-ba90-4d269430f3d0",
   "metadata": {},
   "outputs": [],
   "source": []
  },
  {
   "cell_type": "markdown",
   "id": "65d27236-9f87-47ae-990c-1fff3ea32ef3",
   "metadata": {},
   "source": [
    "##### 2.3. Try the __.columns__, __.shape__ properties. What do they show?"
   ]
  },
  {
   "cell_type": "code",
   "execution_count": null,
   "id": "a31c6263-05c9-43c3-92c0-64911c9ab424",
   "metadata": {},
   "outputs": [],
   "source": []
  },
  {
   "cell_type": "code",
   "execution_count": null,
   "id": "d1abb603-69c2-4315-b599-f054acdcf1d7",
   "metadata": {},
   "outputs": [],
   "source": []
  },
  {
   "cell_type": "markdown",
   "id": "aa3b6664-cb60-4177-86fa-90f0b6a0e075",
   "metadata": {},
   "source": [
    "##### 2.4. You can select only one column to view. A column is known as a __series__. Show only the mfr column."
   ]
  },
  {
   "cell_type": "code",
   "execution_count": null,
   "id": "f8d82f34-4c7c-490c-b96b-1be738887120",
   "metadata": {},
   "outputs": [],
   "source": []
  },
  {
   "cell_type": "markdown",
   "id": "2a60413d-35be-478c-99b8-610ba13e0961",
   "metadata": {},
   "source": [
    "##### 2.5. Some functions can be run on series. Show the list of __unique__ values in the __mfr__ column."
   ]
  },
  {
   "cell_type": "code",
   "execution_count": null,
   "id": "b8e6fbcf-36dd-4eb6-a319-97dac597fdd5",
   "metadata": {},
   "outputs": [],
   "source": []
  },
  {
   "cell_type": "markdown",
   "id": "39ac2241-7b57-41c6-b213-5a15b3ca79f8",
   "metadata": {},
   "source": [
    "##### 2.6. You can narrow down your view by showing only specific columns. Show only the __name__ and the __sugars__ columns."
   ]
  },
  {
   "cell_type": "code",
   "execution_count": null,
   "id": "944db3fb-cfc8-42cc-8554-7d3c0e9cb096",
   "metadata": {},
   "outputs": [],
   "source": []
  },
  {
   "cell_type": "markdown",
   "id": "8a562a48-a4fd-47fa-81f0-6ed9068fd6ea",
   "metadata": {},
   "source": [
    "##### 2.7. You can filter your rows to meet a specific condition. Show only rows that have more than __12g of sugar__."
   ]
  },
  {
   "cell_type": "code",
   "execution_count": null,
   "id": "e481624e-7c86-47d6-9cb7-32a013c09d1d",
   "metadata": {},
   "outputs": [],
   "source": []
  },
  {
   "cell_type": "markdown",
   "id": "0f191400-4c74-4eae-9bb1-9310236a5c78",
   "metadata": {},
   "source": [
    "##### 2.8. You can sort the data by a specific column. Sort the dataframe by __protein__ level in descending order."
   ]
  },
  {
   "cell_type": "code",
   "execution_count": null,
   "id": "404520eb-531a-4971-b6de-9bff37279147",
   "metadata": {},
   "outputs": [],
   "source": []
  },
  {
   "cell_type": "markdown",
   "id": "ca2f85d5-ae15-4883-87dc-202c047882bc",
   "metadata": {},
   "source": [
    "##### 2.9. Using a function on the column, figure out what the maximum amount of __fiber__ is in this data set."
   ]
  },
  {
   "cell_type": "code",
   "execution_count": null,
   "id": "0bd22dec-6b94-4299-a728-2aad8296ddc8",
   "metadata": {},
   "outputs": [],
   "source": []
  }
 ],
 "metadata": {
  "kernelspec": {
   "display_name": "Python 3 (ipykernel)",
   "language": "python",
   "name": "python3"
  },
  "language_info": {
   "codemirror_mode": {
    "name": "ipython",
    "version": 3
   },
   "file_extension": ".py",
   "mimetype": "text/x-python",
   "name": "python",
   "nbconvert_exporter": "python",
   "pygments_lexer": "ipython3",
   "version": "3.10.6"
  }
 },
 "nbformat": 4,
 "nbformat_minor": 5
}

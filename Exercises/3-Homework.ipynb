{
 "cells": [
  {
   "cell_type": "markdown",
   "id": "5697c566-a527-4447-add9-aaec49095fef",
   "metadata": {},
   "source": [
    "## Fun with LEGO"
   ]
  },
  {
   "cell_type": "markdown",
   "id": "7be20d01-53e5-4367-952a-6e1d5dd41f61",
   "metadata": {},
   "source": [
    "In this exercise, you will analyse this lego data set and find answers to interesting questions. This data set contains multiple .csv files (i.e. tables). Look at the __schema.png__ to understand how they are related.\n",
    "\n",
    "For example: The table `sets` has a column called `theme_id`. The values of this column are from the `id` column of the __themes__ table.\n",
    "So, if you want to know the name of the theme a set is using, you can __merge()__ the __themes__ table into the __sets__ table. (Use `how=left` for this)."
   ]
  },
  {
   "cell_type": "markdown",
   "id": "a6da2402-744a-4b5e-89e6-dfe9d472a067",
   "metadata": {
    "tags": []
   },
   "source": [
    "##### Load the tables into separate pandas dataframes. Name these dataframes the same name as the table, e.g. __df_sets__.\n",
    "> Hint: Don't forget to import pandas as pd. Otherwise you won't be able to use the pandas functions. <br>\n",
    "> The path for your files should look like `data/lego/<filename>.csv`"
   ]
  },
  {
   "cell_type": "code",
   "execution_count": null,
   "id": "7c84f067-efc7-4587-9241-5da9d1848d1a",
   "metadata": {},
   "outputs": [],
   "source": []
  },
  {
   "cell_type": "code",
   "execution_count": null,
   "id": "a288b535-1291-409a-9c39-e5bfab515299",
   "metadata": {},
   "outputs": [],
   "source": []
  },
  {
   "cell_type": "markdown",
   "id": "a5cce69f-77f2-4902-b366-67f52d96b723",
   "metadata": {
    "tags": []
   },
   "source": [
    "### 1. Sets\n",
    "##### 1.A. How many lego sets exist?"
   ]
  },
  {
   "cell_type": "code",
   "execution_count": null,
   "id": "be5442ed-7edd-4eee-bab8-abc67d2586eb",
   "metadata": {},
   "outputs": [],
   "source": []
  },
  {
   "cell_type": "markdown",
   "id": "3eb09af9-02f8-402f-9583-723b256fa151",
   "metadata": {},
   "source": [
    "##### 1.B. How many parts are in the smallest and biggest set? And how many parts are there on average in a set?\n",
    "> Hint: You can use __.aggregate()__ to calculate multiple measures at once, but you can also calculate them separately."
   ]
  },
  {
   "cell_type": "code",
   "execution_count": null,
   "id": "d7691ff0-b8dc-4043-ba31-d57bd5c4c434",
   "metadata": {},
   "outputs": [],
   "source": []
  },
  {
   "cell_type": "markdown",
   "id": "49cbdc9a-3c10-444d-a428-922efe01608f",
   "metadata": {},
   "source": [
    "##### 1.C. How many sets have the same amount of lego parts?\n",
    "> Hint: You can use __value_counts()__ for this."
   ]
  },
  {
   "cell_type": "code",
   "execution_count": null,
   "id": "db910f31-2be6-4116-bafc-303bb400cc84",
   "metadata": {},
   "outputs": [],
   "source": []
  },
  {
   "cell_type": "markdown",
   "id": "0494c28c-3f16-4293-8b2a-1c421141b410",
   "metadata": {
    "tags": []
   },
   "source": [
    "##### 1.D. What year are the oldest and newest sets in this data set from?"
   ]
  },
  {
   "cell_type": "code",
   "execution_count": null,
   "id": "b89e3e1f-3448-46c8-95a3-16f5e15b7e81",
   "metadata": {},
   "outputs": [],
   "source": []
  },
  {
   "cell_type": "markdown",
   "id": "fd440419-c374-436b-91e3-fbd7e287fc33",
   "metadata": {},
   "source": [
    "##### 1.E. How many sets are there in each year?\n",
    "> Using __value_counts()__ and __sort_index()__ to sort them by year, show a __series__ of this information."
   ]
  },
  {
   "cell_type": "code",
   "execution_count": null,
   "id": "42ffcdea-f2e9-4fa3-bb6d-262a3b26f3ea",
   "metadata": {},
   "outputs": [],
   "source": []
  },
  {
   "cell_type": "markdown",
   "id": "c653aa6d-5375-470e-9e5f-0a0d49c46806",
   "metadata": {},
   "source": [
    "##### 1.F. Which themes have the most sets?\n",
    "> Just like before, use __value_counts()__. <br>\n",
    "> However, to get the actual name of the themes, you have to __merge()__ the themes table into your sets. <br>\n",
    "> Look at the __schema.png__ to see how the tables are connected. <br>\n",
    "> Read up on __merge__ in the documentation or use google to find examples on how to use it. <br>\n",
    "> Save the combined table into a new table called `df_sets_themes` and run your analysis on that combined data frame."
   ]
  },
  {
   "cell_type": "code",
   "execution_count": null,
   "id": "4b78e40e-87f9-4e3c-8ce0-bec003d6da44",
   "metadata": {},
   "outputs": [],
   "source": []
  },
  {
   "cell_type": "markdown",
   "id": "71337034-bc02-4cf6-aeaa-04ae263dc419",
   "metadata": {
    "tags": []
   },
   "source": [
    "### 2. Colors\n",
    "\n",
    "##### 2.1 What is the distribution of transparent vs. non-transparent (opaque) colors, i.e. how many colors are transparent and how many are opaque? Show it as a series."
   ]
  },
  {
   "cell_type": "code",
   "execution_count": null,
   "id": "20bcc138-93f7-470a-83a2-e535673dc3e6",
   "metadata": {},
   "outputs": [],
   "source": []
  },
  {
   "cell_type": "markdown",
   "id": "f01ef9d9-f1ae-45f7-9a7a-378cf1a35259",
   "metadata": {},
   "source": [
    "### 3. Themes\n",
    "##### 3.1. What are the 10 most used themes?\n",
    "> Merge __sets__ and __themes__ first to get the name of themes as as well."
   ]
  },
  {
   "cell_type": "code",
   "execution_count": null,
   "id": "6f225c5f-9b58-48fd-bce4-ac3c7c65f689",
   "metadata": {},
   "outputs": [],
   "source": []
  }
 ],
 "metadata": {
  "kernelspec": {
   "display_name": "Python 3 (ipykernel)",
   "language": "python",
   "name": "python3"
  },
  "language_info": {
   "codemirror_mode": {
    "name": "ipython",
    "version": 3
   },
   "file_extension": ".py",
   "mimetype": "text/x-python",
   "name": "python",
   "nbconvert_exporter": "python",
   "pygments_lexer": "ipython3",
   "version": "3.10.6"
  }
 },
 "nbformat": 4,
 "nbformat_minor": 5
}

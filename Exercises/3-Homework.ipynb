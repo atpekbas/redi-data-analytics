{
 "cells": [
  {
   "cell_type": "markdown",
   "id": "5697c566-a527-4447-add9-aaec49095fef",
   "metadata": {},
   "source": [
    "## Fun with LEGO"
   ]
  },
  {
   "cell_type": "markdown",
   "id": "7be20d01-53e5-4367-952a-6e1d5dd41f61",
   "metadata": {},
   "source": [
    "##### This homework consists of two parts.\n",
    "\n",
    "##### In part one you will merge mutiple datasets into one and in part two you will be preforming basic statistical querying to answer questions."
   ]
  },
  {
   "cell_type": "markdown",
   "id": "0ec101e9-2972-4136-a9b0-3bd0b9239882",
   "metadata": {},
   "source": [
    "#### Part 1"
   ]
  },
  {
   "cell_type": "markdown",
   "id": "a6da2402-744a-4b5e-89e6-dfe9d472a067",
   "metadata": {},
   "source": [
    "##### Following the LEGO schema uploaded to your Google Classroom, merge the tables __sets__, __inventories__, __inventory_parts__, and __colors__ into one table. To do this, use the __Pandas__ function __merge()__. For this exercise, always use __left__."
   ]
  },
  {
   "cell_type": "markdown",
   "id": "d3eaecbe-0b5b-43f2-9e02-e69a9c70b791",
   "metadata": {},
   "source": [
    "##### 1.1. First, load in all of the tables into their respective dataframes. Name these dataframes the same name as the bale."
   ]
  },
  {
   "cell_type": "code",
   "execution_count": 1,
   "id": "4ae154b4-ffb3-4a0c-b275-a55634c21548",
   "metadata": {},
   "outputs": [],
   "source": [
    "import pandas as pd"
   ]
  },
  {
   "cell_type": "code",
   "execution_count": 2,
   "id": "f4d48fe3-9a29-47a6-a122-c82daa3a96b6",
   "metadata": {},
   "outputs": [],
   "source": [
    "df_sets = pd.read_csv(\"data/sets.csv\")"
   ]
  },
  {
   "cell_type": "code",
   "execution_count": 3,
   "id": "3e55dafe-84bb-492d-991b-a12e0c1f249e",
   "metadata": {},
   "outputs": [],
   "source": [
    "df_inventories = pd.read_csv(\"data/inventories.csv\")"
   ]
  },
  {
   "cell_type": "code",
   "execution_count": 4,
   "id": "82a626f8-3d8b-434c-87b6-5b647c4059da",
   "metadata": {},
   "outputs": [],
   "source": [
    "df_inventory_parts = pd.read_csv(\"data/inventory_parts.csv\")"
   ]
  },
  {
   "cell_type": "code",
   "execution_count": 5,
   "id": "1300ea34-aace-4b44-a8e7-ea3241d22d4f",
   "metadata": {},
   "outputs": [],
   "source": [
    "df_colors = pd.read_csv(\"data/colors.csv\")"
   ]
  },
  {
   "cell_type": "markdown",
   "id": "f92eb0c2-f18f-4100-8a1b-c54f7cdd730f",
   "metadata": {},
   "source": [
    "##### 1.2. Merge __sets__ and __inventories__ on __set_num__ and save it into a new df."
   ]
  },
  {
   "cell_type": "code",
   "execution_count": 7,
   "id": "7dcf54fe-13b3-469d-a917-d75afd7135b3",
   "metadata": {},
   "outputs": [],
   "source": [
    "df_merged = pd.merge(df_sets, df_inventories, how = 'left', on = 'set_num')"
   ]
  },
  {
   "cell_type": "markdown",
   "id": "956d402e-4494-4afe-8984-70ed2fae0dc4",
   "metadata": {},
   "source": [
    "Check for the shape of your new df. It should be __(11684,7)__"
   ]
  },
  {
   "cell_type": "code",
   "execution_count": 11,
   "id": "b7faeb55-b74d-4d2c-ab9c-8bd89f36bb14",
   "metadata": {},
   "outputs": [
    {
     "data": {
      "text/plain": [
       "(11684, 7)"
      ]
     },
     "execution_count": 11,
     "metadata": {},
     "output_type": "execute_result"
    }
   ],
   "source": [
    "df_merged.shape"
   ]
  },
  {
   "cell_type": "markdown",
   "id": "95fe4d2a-f9c2-4a60-91f9-0ba305fc1379",
   "metadata": {
    "tags": []
   },
   "source": [
    "##### 1.3. Now merge the __inventory_parts__ onto your new df using __id__ and __inventory_id__.\n",
    "\n",
    ">This is a bit harder, so I encourage you to Google it! Save the outcame back into your new df."
   ]
  },
  {
   "cell_type": "code",
   "execution_count": 14,
   "id": "2ebf9e71-1695-43ff-925c-19d3fcd18f6d",
   "metadata": {},
   "outputs": [],
   "source": [
    "df_merged = pd.merge(df_merged, df_inventory_parts, left_on = 'id', right_on = 'inventory_id')"
   ]
  },
  {
   "cell_type": "markdown",
   "id": "8f11f5ea-40f0-43e8-9eed-f6ba09806855",
   "metadata": {},
   "source": [
    "Check for the shape of your new df. It should be __(580251, 12)__"
   ]
  },
  {
   "cell_type": "code",
   "execution_count": 16,
   "id": "6b880256-d15f-4aa6-b8d8-0a51813ebc6c",
   "metadata": {},
   "outputs": [
    {
     "data": {
      "text/plain": [
       "(580251, 12)"
      ]
     },
     "execution_count": 16,
     "metadata": {},
     "output_type": "execute_result"
    }
   ],
   "source": [
    "df_merged.shape"
   ]
  },
  {
   "cell_type": "markdown",
   "id": "eb8116da-7424-4421-942d-2c70b4166e55",
   "metadata": {},
   "source": [
    "##### 1.4. Finally merge __colors__ onto your df using __color_id__ and __id__. Save this final merge as __df__.\n",
    "\n",
    "> Notice that you already have a column named __id__. Having two columns with the same name will make it impossible to identify the correct column. You can use the parameter _suffixies_ for this. Please read up on the documentation and follow this example: `pd(df1, df2, left_on='lkey', right_on='rkey', suffixes=('_left', '_right'))`"
   ]
  },
  {
   "cell_type": "code",
   "execution_count": 18,
   "id": "3e236e27-ab19-44b0-8e59-c4d8825b8a45",
   "metadata": {},
   "outputs": [],
   "source": [
    "df = pd.merge(df_merged, df_colors, left_on = 'color_id', right_on = 'id', suffixes = ('', 'id_color'))"
   ]
  },
  {
   "cell_type": "markdown",
   "id": "2d92dd06-25b8-4b5c-8173-6574dc52bfde",
   "metadata": {},
   "source": [
    "Your final shape should be __(580251, 16)__."
   ]
  },
  {
   "cell_type": "code",
   "execution_count": 20,
   "id": "ea7f5f2b-811a-4d3b-a0e7-87d635426630",
   "metadata": {},
   "outputs": [
    {
     "data": {
      "text/plain": [
       "(580251, 16)"
      ]
     },
     "execution_count": 20,
     "metadata": {},
     "output_type": "execute_result"
    }
   ],
   "source": [
    "df.shape"
   ]
  },
  {
   "cell_type": "code",
   "execution_count": 22,
   "id": "38877bc7-a214-4d32-b4b7-17ead3b2d12c",
   "metadata": {},
   "outputs": [
    {
     "data": {
      "text/plain": [
       "Index(['set_num', 'name', 'year', 'theme_id', 'num_parts', 'id', 'version',\n",
       "       'inventory_id', 'part_num', 'color_id', 'quantity', 'is_spare',\n",
       "       'idid_color', 'nameid_color', 'rgb', 'is_trans'],\n",
       "      dtype='object')"
      ]
     },
     "execution_count": 22,
     "metadata": {},
     "output_type": "execute_result"
    }
   ],
   "source": [
    "df.columns"
   ]
  },
  {
   "cell_type": "markdown",
   "id": "9aba11d3-c81c-4e21-93c8-62b89c84e0b1",
   "metadata": {},
   "source": [
    "#### Part 2"
   ]
  },
  {
   "cell_type": "markdown",
   "id": "6a3e47fd-afa9-4751-a402-8d779fcb268e",
   "metadata": {},
   "source": [
    "##### 2.1. Create a dictionary called __solutions__. When answering the questions, put your answer in this dictionary, with the first word of each line (e.g. 'all_pieces' or 'year_most') as the key and your answer as the value."
   ]
  },
  {
   "cell_type": "code",
   "execution_count": 44,
   "id": "3fc261d0-1498-478b-a7ba-292db06c64fe",
   "metadata": {},
   "outputs": [],
   "source": [
    "solutions = {}"
   ]
  },
  {
   "cell_type": "markdown",
   "id": "2dc15ef1-f6ab-4d37-a603-7a6084e46e57",
   "metadata": {},
   "source": [
    "##### 2.2. If you had one of each of the sets, how many pieces of Lego would you have then? Save your answer as __all_pieces__."
   ]
  },
  {
   "cell_type": "code",
   "execution_count": 45,
   "id": "20cb2309-65a1-45b3-8045-4809ed9beb0c",
   "metadata": {},
   "outputs": [
    {
     "data": {
      "text/html": [
       "<div>\n",
       "<style scoped>\n",
       "    .dataframe tbody tr th:only-of-type {\n",
       "        vertical-align: middle;\n",
       "    }\n",
       "\n",
       "    .dataframe tbody tr th {\n",
       "        vertical-align: top;\n",
       "    }\n",
       "\n",
       "    .dataframe thead th {\n",
       "        text-align: right;\n",
       "    }\n",
       "</style>\n",
       "<table border=\"1\" class=\"dataframe\">\n",
       "  <thead>\n",
       "    <tr style=\"text-align: right;\">\n",
       "      <th></th>\n",
       "      <th>num_parts</th>\n",
       "    </tr>\n",
       "    <tr>\n",
       "      <th>set_num</th>\n",
       "      <th></th>\n",
       "    </tr>\n",
       "  </thead>\n",
       "  <tbody>\n",
       "    <tr>\n",
       "      <th>00-1</th>\n",
       "      <td>24021</td>\n",
       "    </tr>\n",
       "    <tr>\n",
       "      <th>00-2</th>\n",
       "      <td>6909</td>\n",
       "    </tr>\n",
       "    <tr>\n",
       "      <th>00-3</th>\n",
       "      <td>6407</td>\n",
       "    </tr>\n",
       "    <tr>\n",
       "      <th>00-4</th>\n",
       "      <td>6174</td>\n",
       "    </tr>\n",
       "    <tr>\n",
       "      <th>0011-2</th>\n",
       "      <td>120</td>\n",
       "    </tr>\n",
       "  </tbody>\n",
       "</table>\n",
       "</div>"
      ],
      "text/plain": [
       "         num_parts\n",
       "set_num           \n",
       "00-1         24021\n",
       "00-2          6909\n",
       "00-3          6407\n",
       "00-4          6174\n",
       "0011-2         120"
      ]
     },
     "execution_count": 45,
     "metadata": {},
     "output_type": "execute_result"
    }
   ],
   "source": [
    "all_pieces = df[['set_num','num_parts']].groupby('set_num').sum()\n",
    "all_pieces.head()"
   ]
  },
  {
   "cell_type": "code",
   "execution_count": 46,
   "id": "c1da04ab-9933-496a-9c24-7ee939fde1c9",
   "metadata": {},
   "outputs": [],
   "source": [
    "solutions['all_pieces'] = all_pieces['num_parts'].sum()"
   ]
  },
  {
   "cell_type": "code",
   "execution_count": 47,
   "id": "73bf567c-27a4-4f2d-8265-67a47d032bb8",
   "metadata": {},
   "outputs": [
    {
     "data": {
      "text/plain": [
       "{'all_pieces': 294074613}"
      ]
     },
     "execution_count": 47,
     "metadata": {},
     "output_type": "execute_result"
    }
   ],
   "source": [
    "solutions"
   ]
  },
  {
   "cell_type": "markdown",
   "id": "a1e930c8-e884-4480-82db-e7fe362ed1fb",
   "metadata": {},
   "source": [
    "##### 2.3. What is the average number of pieces in all sets? Save your answer as __average_pieces__."
   ]
  },
  {
   "cell_type": "code",
   "execution_count": 76,
   "id": "23ef6947-99f5-4698-8445-26e645c79bc5",
   "metadata": {},
   "outputs": [
    {
     "data": {
      "text/plain": [
       "{'all_pieces': 294074613,\n",
       " 'year_most': 2016,\n",
       " 'average_pieces': 25192.71935235158}"
      ]
     },
     "execution_count": 76,
     "metadata": {},
     "output_type": "execute_result"
    }
   ],
   "source": [
    "avg_pieces = solutions['all_pieces'] / len(df_sets)\n",
    "\n",
    "solutions['average_pieces'] = avg_pieces\n",
    "solutions"
   ]
  },
  {
   "cell_type": "markdown",
   "id": "6230e1b2-8d34-4c23-845d-4799efc73216",
   "metadata": {},
   "source": [
    "##### 2.4. In which year was the highest number of sets released? Save your answer as __year_most__."
   ]
  },
  {
   "cell_type": "code",
   "execution_count": 60,
   "id": "6aa4071b-6153-4556-b271-a8b16889d2c8",
   "metadata": {},
   "outputs": [],
   "source": [
    "year_most = df[['year', 'set_num']].groupby('year').count().sort_values('set_num', ascending=False).reset_index()"
   ]
  },
  {
   "cell_type": "code",
   "execution_count": 61,
   "id": "2f50601f-52c4-4466-8068-878da7132513",
   "metadata": {},
   "outputs": [
    {
     "data": {
      "text/html": [
       "<div>\n",
       "<style scoped>\n",
       "    .dataframe tbody tr th:only-of-type {\n",
       "        vertical-align: middle;\n",
       "    }\n",
       "\n",
       "    .dataframe tbody tr th {\n",
       "        vertical-align: top;\n",
       "    }\n",
       "\n",
       "    .dataframe thead th {\n",
       "        text-align: right;\n",
       "    }\n",
       "</style>\n",
       "<table border=\"1\" class=\"dataframe\">\n",
       "  <thead>\n",
       "    <tr style=\"text-align: right;\">\n",
       "      <th></th>\n",
       "      <th>year</th>\n",
       "      <th>set_num</th>\n",
       "    </tr>\n",
       "  </thead>\n",
       "  <tbody>\n",
       "    <tr>\n",
       "      <th>0</th>\n",
       "      <td>2016</td>\n",
       "      <td>49904</td>\n",
       "    </tr>\n",
       "    <tr>\n",
       "      <th>1</th>\n",
       "      <td>2015</td>\n",
       "      <td>48301</td>\n",
       "    </tr>\n",
       "    <tr>\n",
       "      <th>2</th>\n",
       "      <td>2014</td>\n",
       "      <td>41431</td>\n",
       "    </tr>\n",
       "    <tr>\n",
       "      <th>3</th>\n",
       "      <td>2013</td>\n",
       "      <td>34680</td>\n",
       "    </tr>\n",
       "    <tr>\n",
       "      <th>4</th>\n",
       "      <td>2012</td>\n",
       "      <td>31209</td>\n",
       "    </tr>\n",
       "  </tbody>\n",
       "</table>\n",
       "</div>"
      ],
      "text/plain": [
       "   year  set_num\n",
       "0  2016    49904\n",
       "1  2015    48301\n",
       "2  2014    41431\n",
       "3  2013    34680\n",
       "4  2012    31209"
      ]
     },
     "execution_count": 61,
     "metadata": {},
     "output_type": "execute_result"
    }
   ],
   "source": [
    "year_most.head()"
   ]
  },
  {
   "cell_type": "code",
   "execution_count": 68,
   "id": "39c775bb-667b-4b79-a3ab-b152fa159ba4",
   "metadata": {},
   "outputs": [],
   "source": [
    "solutions['year_most'] = year_most['year'][0]"
   ]
  },
  {
   "cell_type": "code",
   "execution_count": 69,
   "id": "4d926130-381b-45a2-904d-f6eb869d2350",
   "metadata": {},
   "outputs": [
    {
     "data": {
      "text/plain": [
       "{'all_pieces': 294074613, 'year_most': 2016}"
      ]
     },
     "execution_count": 69,
     "metadata": {},
     "output_type": "execute_result"
    }
   ],
   "source": [
    "solutions"
   ]
  },
  {
   "cell_type": "markdown",
   "id": "c3410417-c899-462e-8d12-cffd86a00843",
   "metadata": {},
   "source": [
    "##### 2.5. What is the distribution of colors used in percent? Save your answer as __color_distribution__.\n",
    "\n",
    "Use the __rgb__ code for this exercise."
   ]
  },
  {
   "cell_type": "markdown",
   "id": "e8d12187-86f4-4d91-855c-a76a16db13c2",
   "metadata": {},
   "source": [
    "##### 2.6. Which theme has to most transparent pieces. Save your answer as __most_transparent__."
   ]
  },
  {
   "cell_type": "markdown",
   "id": "b8fe5262-f1a0-4bd7-9ee4-eb93edfd349c",
   "metadata": {},
   "source": [
    "##### 2.7. What percentage of all pieces do the transparent pieces make up? Save your answer as __transparent_distribution__. "
   ]
  },
  {
   "cell_type": "markdown",
   "id": "3b6b0120-31fc-4cc7-a586-acf8770a9ae5",
   "metadata": {},
   "source": [
    "##### 2.8. Come up with __three__ additional questions on you own and save them into __solutions__."
   ]
  },
  {
   "cell_type": "code",
   "execution_count": null,
   "id": "c8917189-811c-45a1-adce-9a4c16ecf5f8",
   "metadata": {},
   "outputs": [],
   "source": []
  }
 ],
 "metadata": {
  "kernelspec": {
   "display_name": "Python 3 (ipykernel)",
   "language": "python",
   "name": "python3"
  },
  "language_info": {
   "codemirror_mode": {
    "name": "ipython",
    "version": 3
   },
   "file_extension": ".py",
   "mimetype": "text/x-python",
   "name": "python",
   "nbconvert_exporter": "python",
   "pygments_lexer": "ipython3",
   "version": "3.10.4"
  }
 },
 "nbformat": 4,
 "nbformat_minor": 5
}

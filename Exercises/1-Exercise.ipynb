{
 "cells": [
  {
   "cell_type": "markdown",
   "id": "105bbd54-54ce-42ce-8c45-481c6f94bb97",
   "metadata": {
    "tags": []
   },
   "source": [
    "#### 1. print() function"
   ]
  },
  {
   "cell_type": "markdown",
   "id": "b869cebd-1073-4ef9-a31c-90b74a5dd7ae",
   "metadata": {
    "tags": []
   },
   "source": [
    "A) Let's start with a long time programming tradition and print \"Hello World!\" by typing it inside print() function."
   ]
  },
  {
   "cell_type": "code",
   "execution_count": 3,
   "id": "10faad5e-8be7-4e32-942d-429a93cdaa30",
   "metadata": {
    "tags": []
   },
   "outputs": [
    {
     "name": "stdout",
     "output_type": "stream",
     "text": [
      "type here\n"
     ]
    }
   ],
   "source": [
    "print(\"type here\")"
   ]
  },
  {
   "cell_type": "markdown",
   "id": "3315a729-6a85-4738-826f-864f54f1b36e",
   "metadata": {},
   "source": [
    "B) Now try to assign \"Hello World!\" to the variable my_text."
   ]
  },
  {
   "cell_type": "code",
   "execution_count": 14,
   "id": "4e335218-35eb-4cc0-a23d-799ca757156b",
   "metadata": {
    "tags": []
   },
   "outputs": [
    {
     "name": "stdout",
     "output_type": "stream",
     "text": [
      "2023 6582\n"
     ]
    }
   ],
   "source": [
    "x=(\"2023 6582\")\n",
    "print(x)"
   ]
  },
  {
   "cell_type": "markdown",
   "id": "9d4ea981-5441-4e3b-959d-f0d6533b6ff5",
   "metadata": {},
   "source": [
    "C) Type a couple of different values inside the print function. Make sure they are separated by commas."
   ]
  },
  {
   "cell_type": "code",
   "execution_count": 7,
   "id": "f20f0f60-26fb-4251-a685-182c8c3c1bb0",
   "metadata": {},
   "outputs": [
    {
     "name": "stdout",
     "output_type": "stream",
     "text": [
      "my_text, type here\n"
     ]
    }
   ],
   "source": [
    "print(\"my_text, type here\")"
   ]
  },
  {
   "cell_type": "markdown",
   "id": "268a5365-c615-442c-8a63-f779bb47b5b0",
   "metadata": {
    "tags": []
   },
   "source": [
    "#### 2. Variables"
   ]
  },
  {
   "cell_type": "markdown",
   "id": "9db778d9-a004-4231-a71a-1e8731170b9c",
   "metadata": {},
   "source": [
    "A) Below is a good example of mixing numbers and text inside the print() function. Assign a number to the variable: glass_of_water"
   ]
  },
  {
   "cell_type": "code",
   "execution_count": null,
   "id": "05ceded4-ed69-48f6-a936-d1bc65347614",
   "metadata": {},
   "outputs": [],
   "source": [
    "glass_of_water=\n",
    "print(\"I drank\", glass_of_water, \"glasses of water today.\")"
   ]
  },
  {
   "cell_type": "markdown",
   "id": "c345cb1b-5880-4b3a-9ab1-dce5650165c2",
   "metadata": {},
   "source": [
    "B) Let's try to see what happens after assigning a new value to our variable. Note that program gets executed line by line. Print out the variable. What do you expect?"
   ]
  },
  {
   "cell_type": "code",
   "execution_count": null,
   "id": "1c5559b7-b365-443c-b00d-bdad574d1953",
   "metadata": {},
   "outputs": [],
   "source": [
    "#Fill the print function so it prints glass_of_water\n",
    "glass_of_water=3\n",
    "glass_of_water=glass_of_water + 1\n",
    "print()"
   ]
  },
  {
   "cell_type": "markdown",
   "id": "ca370226-be3d-4071-b88e-da86cdfcc94f",
   "metadata": {
    "tags": []
   },
   "source": [
    "#### 3. Data Types"
   ]
  },
  {
   "cell_type": "markdown",
   "id": "638bd2e6-6f1f-47fb-9ec6-b9b76b3d1091",
   "metadata": {},
   "source": [
    "A) Let's check out a simple integer example. Assign an integer to the variable, then print it."
   ]
  },
  {
   "cell_type": "code",
   "execution_count": null,
   "id": "939ffb26-7fa8-4961-8d0e-6646cb8aae6c",
   "metadata": {},
   "outputs": [],
   "source": [
    "men_stepped_on_the_moon=\n",
    "print()"
   ]
  },
  {
   "cell_type": "markdown",
   "id": "7866bbba-640c-4847-8bd6-9e1efa931448",
   "metadata": {},
   "source": [
    "B) Now a string example. Type a couple of words or a short sentence for your variable, then print it."
   ]
  },
  {
   "cell_type": "code",
   "execution_count": null,
   "id": "5000731a-def0-4eb9-8942-cfbed47cf9aa",
   "metadata": {},
   "outputs": [],
   "source": [
    "my_reason_for_coding=\n",
    "print()"
   ]
  },
  {
   "cell_type": "markdown",
   "id": "776ba0c0-8895-41f3-9592-0dd88c8987b1",
   "metadata": {},
   "source": [
    "C) Let's try to see what happens after assigning a new value to our variable. Overwrite the sea level with the correct value of 21.36. Note that program gets executed line by line."
   ]
  },
  {
   "cell_type": "code",
   "execution_count": null,
   "id": "cadc7497-c129-4d16-8faf-6bc9e5c189b0",
   "metadata": {},
   "outputs": [],
   "source": [
    "global_mean_sea_level_2018=21\n",
    "global_mean_sea_level_2018=\n",
    "print(global_mean_sea_level_2018)"
   ]
  },
  {
   "cell_type": "markdown",
   "id": "dc3245dd-74e0-4587-bdd9-7ae38a6e8d89",
   "metadata": {},
   "source": [
    "D) Finally a boolean example. Assign True or False."
   ]
  },
  {
   "cell_type": "code",
   "execution_count": null,
   "id": "a22911e2-30b3-4893-b8a2-acdd60e4e0e8",
   "metadata": {},
   "outputs": [],
   "source": [
    "staying_alive=\n",
    "print(staying_alive)"
   ]
  },
  {
   "cell_type": "markdown",
   "id": "62d8155d-286b-4011-b83d-8f715cf30cf1",
   "metadata": {
    "tags": []
   },
   "source": [
    "#### 4. Type Conversion"
   ]
  },
  {
   "cell_type": "markdown",
   "id": "3b878b5c-5a1a-4acc-a8ba-5ed86066808f",
   "metadata": {},
   "source": [
    "A) Using type() function assign the type of the variable to answer_1, then print it."
   ]
  },
  {
   "cell_type": "code",
   "execution_count": null,
   "id": "15fb387f-94f7-439e-8aaf-8ed47575812e",
   "metadata": {},
   "outputs": [],
   "source": [
    "men_stepped_on_the_moon=12\n",
    "answer_1=\n",
    "print(answer_1)"
   ]
  },
  {
   "cell_type": "markdown",
   "id": "1fde2fb9-bf3f-4af4-a75a-da938f1b85d7",
   "metadata": {},
   "source": [
    "B) Using type() function assign the type of the variable to answer_2, then print it."
   ]
  },
  {
   "cell_type": "code",
   "execution_count": null,
   "id": "8742cc64-e915-43c1-85f8-f79c4f7cfc0b",
   "metadata": {},
   "outputs": [],
   "source": [
    "my_reason_for_coding=\"intergalactic travel\"\n",
    "answer_2=\n",
    "print (answer_2)"
   ]
  },
  {
   "cell_type": "markdown",
   "id": "1ec0ef8b-765a-4dde-9fad-72adef13adab",
   "metadata": {},
   "source": [
    "C) Using type() function assign the type of the variable to answer_3, then print it."
   ]
  },
  {
   "cell_type": "code",
   "execution_count": null,
   "id": "1b4cf845-df74-4d08-86cd-96b79afad2ed",
   "metadata": {},
   "outputs": [],
   "source": [
    "global_mean_sea_level_delta_2018=21.36\n",
    "answer_3=\n",
    "print(answer_3)"
   ]
  },
  {
   "cell_type": "markdown",
   "id": "bb362120-4b2a-44af-ba80-d9c0cb002d2a",
   "metadata": {},
   "source": [
    "D) We will now print the type of boolean data. Later stages in programming, booleans become quite common."
   ]
  },
  {
   "cell_type": "code",
   "execution_count": null,
   "id": "9f577e7c-93a2-4dbf-81c8-c8c4137124d0",
   "metadata": {},
   "outputs": [],
   "source": [
    "staying_alive=True\n",
    "answer_4=\n",
    "print(answer_4)"
   ]
  },
  {
   "cell_type": "markdown",
   "id": "b52e762d-87d2-4e11-84e7-ae5c4bec3c7f",
   "metadata": {},
   "source": [
    "E) Let's now try to convert a string into an integer. Hint: Google how to do the conversion in python!"
   ]
  },
  {
   "cell_type": "code",
   "execution_count": null,
   "id": "c301cac6-f089-47db-8112-3767316314be",
   "metadata": {},
   "outputs": [],
   "source": [
    "my_grade=\"10\"\n",
    "answer_5=\n",
    "print(answer_5)"
   ]
  },
  {
   "cell_type": "markdown",
   "id": "9cc342bf-ee63-4e49-954e-af8ccb754cd4",
   "metadata": {},
   "source": [
    "F) Can you convert a float into an integer."
   ]
  },
  {
   "cell_type": "code",
   "execution_count": null,
   "id": "12636013-0e3b-40d0-9d1f-d7dd07e223a0",
   "metadata": {},
   "outputs": [],
   "source": [
    "my_temp=97.70\n",
    "answer_6=\n",
    "print(answer_6)"
   ]
  },
  {
   "cell_type": "markdown",
   "id": "b0d6a5ef-e309-4810-a4d4-e8bccd9de425",
   "metadata": {},
   "source": [
    "G) Now let's convert a string into a float."
   ]
  },
  {
   "cell_type": "code",
   "execution_count": null,
   "id": "d5f8a19f-69d4-4771-a009-4a53119382d8",
   "metadata": {},
   "outputs": [],
   "source": [
    "shoe_price=\"69.99\"\n",
    "answer_7=\n",
    "print(answer_7)"
   ]
  },
  {
   "cell_type": "markdown",
   "id": "e3328384-326d-48bb-bd79-bd7781fe84f5",
   "metadata": {},
   "source": [
    "H) Finally, str will help you convert a data into a string. GWP denotes the total economic activity created by the world population collectively in a year."
   ]
  },
  {
   "cell_type": "code",
   "execution_count": null,
   "id": "37b8aa62-187d-4177-a8dd-3b654dee03a4",
   "metadata": {},
   "outputs": [],
   "source": [
    "gross_world_product=84.84\n",
    "gwp_str=\n",
    "answer_8=\"In 2018 gross product of the world (GWP) was \" + gwp_str + \" in trillion US dollars.\"\n",
    "print(answer_8)"
   ]
  },
  {
   "cell_type": "markdown",
   "id": "971b5217-7fd8-4e9d-9f53-83b802d68319",
   "metadata": {
    "tags": []
   },
   "source": [
    "#### 5. Data Structures"
   ]
  },
  {
   "cell_type": "markdown",
   "id": "5a094d31-81b5-4793-afdd-dc98febf1e08",
   "metadata": {},
   "source": [
    "A) Let's create an empty list and print its type. Create an empty list on and assign its type."
   ]
  },
  {
   "cell_type": "code",
   "execution_count": null,
   "id": "70e3242f-d7c6-4fa0-a6d8-a0dcda7b7ef7",
   "metadata": {},
   "outputs": [],
   "source": [
    "gift_list=\n",
    "answer_1=\n",
    "print(answer_1)"
   ]
  },
  {
   "cell_type": "markdown",
   "id": "278bddc8-adc7-41a1-8462-2cd8e4cd12cc",
   "metadata": {},
   "source": [
    "B) Now, we will create an empty dictionary and print its type. Create an empty dictionary and assign its type."
   ]
  },
  {
   "cell_type": "code",
   "execution_count": null,
   "id": "a34d2793-4201-4546-9d74-8de081974c22",
   "metadata": {},
   "outputs": [],
   "source": [
    "grocery_items=\n",
    "answer_2=\n",
    "print(answer_2)"
   ]
  },
  {
   "cell_type": "markdown",
   "id": "0dd9ea6c-a97e-47fb-b03e-210701245fec",
   "metadata": {},
   "source": [
    "C) Then we will create an empty tuple and print its type."
   ]
  },
  {
   "cell_type": "code",
   "execution_count": null,
   "id": "c45bbe9d-d2f0-4c57-a78b-27593e602bc6",
   "metadata": {},
   "outputs": [],
   "source": [
    "bucket_list=\n",
    "answer_2=\n",
    "print(answer_2)"
   ]
  },
  {
   "cell_type": "markdown",
   "id": "7f0ef11b-c32d-49c2-bb3b-434a5c51bab8",
   "metadata": {},
   "source": [
    "D) Let's create a list with values in it. Fill in the right side of equation so that gift_list is assigned to a list with values in it."
   ]
  },
  {
   "cell_type": "code",
   "execution_count": null,
   "id": "1ed6c05b-27d4-4b32-ad7e-28116291af40",
   "metadata": {},
   "outputs": [],
   "source": [
    "gift_list=\n",
    "print(gift_list)"
   ]
  },
  {
   "cell_type": "markdown",
   "id": "ff42f4ba-be8e-471a-a7ed-a13434a1324e",
   "metadata": {},
   "source": [
    "E) Now let's create a dictionary with values in it. Fill in the right side of equation so that grocery_list is assigned to a dictionary with values in it."
   ]
  },
  {
   "cell_type": "code",
   "execution_count": null,
   "id": "925b5ea7-bbe8-4d0f-83ae-8ee849413f68",
   "metadata": {},
   "outputs": [],
   "source": [
    "grocery_list=\n",
    "print(grocery_list)"
   ]
  },
  {
   "cell_type": "markdown",
   "id": "07ce7b19-1d37-4aad-9ded-43f4ca111b10",
   "metadata": {},
   "source": [
    "F) Finally, let's create a tuple with values in it. Fill in the right side of equation so that bucket_list is assigned to a tuple with values in it."
   ]
  },
  {
   "cell_type": "code",
   "execution_count": null,
   "id": "b3594492-69bf-457e-96bf-e262eb643941",
   "metadata": {},
   "outputs": [],
   "source": [
    "bucket_list=\n",
    "print(bucket_list)"
   ]
  },
  {
   "cell_type": "markdown",
   "id": "93a50a6e-c05e-4c67-89a2-42732194f2bc",
   "metadata": {
    "tags": []
   },
   "source": [
    "#### 6. Lists"
   ]
  },
  {
   "cell_type": "markdown",
   "id": "29c98986-150c-4c84-af25-c231c8f4a608",
   "metadata": {},
   "source": [
    "A) Assign the first element of the list to answer_1"
   ]
  },
  {
   "cell_type": "code",
   "execution_count": null,
   "id": "cf314886-aca0-4e59-82d9-01c3a52dafab",
   "metadata": {},
   "outputs": [],
   "source": [
    "lst=[11, 100, 99, 1000, 999]\n",
    "answer_1=\n",
    "print(answer_1)"
   ]
  },
  {
   "cell_type": "markdown",
   "id": "5302cf27-ded3-46b0-910a-5dd712e09c64",
   "metadata": {},
   "source": [
    "B) And let's print the second element directly inside print function. This time print the second element of the list directly. You should get 100."
   ]
  },
  {
   "cell_type": "code",
   "execution_count": null,
   "id": "e64b4fb8-4f17-40b0-9a5c-fff3ed56a687",
   "metadata": {},
   "outputs": [],
   "source": [
    "lst=[11, 100, 101, 999, 1001]\n",
    "print()"
   ]
  },
  {
   "cell_type": "markdown",
   "id": "5ff75028-a025-4ae3-bc34-e034321be0e5",
   "metadata": {},
   "source": [
    "C) And the last element.\n",
    "Print the last element of the list through variable answer_1."
   ]
  },
  {
   "cell_type": "code",
   "execution_count": null,
   "id": "ee035deb-fcd8-4440-9945-17adf8b95e5a",
   "metadata": {},
   "outputs": [],
   "source": [
    "lst=[11, 100, 101, 999, 1001]\n",
    "answer_1=\n",
    "print(answer_1)"
   ]
  },
  {
   "cell_type": "markdown",
   "id": "b946c11e-c864-457f-986e-43281246768d",
   "metadata": {},
   "source": [
    "D) .append() method will let you add items to your lists.\n",
    "Add the string \"pajamas\" to the list with .append() method."
   ]
  },
  {
   "cell_type": "code",
   "execution_count": null,
   "id": "67da8bb7-5c29-4cb9-a304-8ccded263410",
   "metadata": {},
   "outputs": [],
   "source": [
    "gift_list=['socks', '4K drone', 'wine', 'jam']\n",
    "# Type your code here.\n",
    "print(gift_list)"
   ]
  },
  {
   "cell_type": "markdown",
   "id": "2f2ba12b-c998-49b5-ae5e-e4f5061682cd",
   "metadata": {},
   "source": [
    "E) Lists can hold many type of data inside them. You can even add another list to a list as its element. This is called nested data in Python. This time add the sub-list: [\"socks\", \"tshirt\", \"pajamas\"] to the end of the gift_list."
   ]
  },
  {
   "cell_type": "code",
   "execution_count": null,
   "id": "7b6a3e4e-c017-44ef-a56d-515b50683152",
   "metadata": {},
   "outputs": [],
   "source": [
    "gift_list=['socks', '4K drone', 'wine', 'jam']\n",
    "# Type your code here.\n",
    "print(gift_list)"
   ]
  },
  {
   "cell_type": "markdown",
   "id": "c05a8fdc-6319-4031-ae3c-5ccb77941e7e",
   "metadata": {},
   "source": [
    "F) .insert() lets you specify the index you want to add your item.\n",
    "This time insert \"slippers\" to index 3 of gift_list."
   ]
  },
  {
   "cell_type": "code",
   "execution_count": null,
   "id": "00025be5-a093-4c75-af31-16f95c00d9fd",
   "metadata": {},
   "outputs": [],
   "source": [
    "gift_list=['socks', '4K drone', 'wine', 'jam']\n",
    "# Type your code here.\n",
    "print(gift_list)"
   ]
  },
  {
   "cell_type": "markdown",
   "id": "7036f1e4-8f4e-4720-8127-3ad524fb0c80",
   "metadata": {},
   "source": [
    "G) With .index() method you can learn the index number of an item inside your list. Assign the index no of 8679 to the variable answer_1."
   ]
  },
  {
   "cell_type": "code",
   "execution_count": null,
   "id": "8ed61c1e-1e0c-4651-bf20-443194a4740d",
   "metadata": {},
   "outputs": [],
   "source": [
    "lst=[55, 777, 54, 6, 76, 101, 1, 2, 8679, 123, 99]\n",
    "# Type your code here.\n",
    "answer_1=\n",
    "print(answer_1)"
   ]
  },
  {
   "cell_type": "markdown",
   "id": "e6f4b7bd-c176-49ee-94ea-b207a1c67531",
   "metadata": {},
   "source": [
    "H) Using .append() method, add a new list to the end of the list which contains strings: \"Navigator\" and \"Suburban\"."
   ]
  },
  {
   "cell_type": "code",
   "execution_count": null,
   "id": "efe24c88-7e9d-4a3c-851e-93868b8ca563",
   "metadata": {},
   "outputs": [],
   "source": [
    "lst=[\"CRV\", \"Outback\", \"XC90\", \"GL\", \"Cherokee\", \"Escalade\"]\n",
    "#  Type your code here.\n",
    "print(lst)"
   ]
  },
  {
   "cell_type": "markdown",
   "id": "4a7bbee9-6182-4d2b-b80c-9cfd86809d71",
   "metadata": {},
   "source": [
    "I) Using .remove() method, clear the last element of the list."
   ]
  },
  {
   "cell_type": "code",
   "execution_count": null,
   "id": "a694bbba-2cd2-42b6-92fb-987887faf1b1",
   "metadata": {},
   "outputs": [],
   "source": [
    "lst=[55, 777, 54, 6, 76, 101, 1, 2, 8679, 123, 99]\n",
    "#  Type your code here.\n",
    "print(lst)"
   ]
  },
  {
   "cell_type": "markdown",
   "id": "2ba077fa-710c-4c43-9604-044f6f1d8483",
   "metadata": {},
   "source": [
    "J) Using .reverse() method, reverse the list."
   ]
  },
  {
   "cell_type": "code",
   "execution_count": null,
   "id": "04d9c6ca-9e6b-4344-bdb3-2d1b8cf15e28",
   "metadata": {},
   "outputs": [],
   "source": [
    "lst=[55, 777, 54, 6, 76, 101, 1, 2, 8679, 123, 99]\n",
    "#  Type your code here.\n",
    "print(lst)"
   ]
  },
  {
   "cell_type": "markdown",
   "id": "d0b7a891-ab43-489d-8a16-54396975d53b",
   "metadata": {},
   "source": [
    "K) Using .count() method, count how many times 6 occur in the list."
   ]
  },
  {
   "cell_type": "code",
   "execution_count": null,
   "id": "17ff57ab-be71-4896-a906-5f14b44e0d99",
   "metadata": {},
   "outputs": [],
   "source": [
    "lst=[55, 6, 777, 54, 6, 76, 101, 1, 6, 2, 6]\n",
    "answer_1=\n",
    "print(answer_1)"
   ]
  },
  {
   "cell_type": "markdown",
   "id": "afb32185-76fe-4409-a550-4edf28b0035f",
   "metadata": {},
   "source": [
    "L) What is the sum of all the numbers in the list?"
   ]
  },
  {
   "cell_type": "code",
   "execution_count": null,
   "id": "1450a9d9-c278-4bd6-b131-8d02a40f69e4",
   "metadata": {},
   "outputs": [],
   "source": [
    "lst=[55, 6, 777, 54, 6, 76, 101, 1, 6, 2, 6]\n",
    "answer_1=\n",
    "print(answer_1)"
   ]
  },
  {
   "cell_type": "markdown",
   "id": "c51f34fd-318b-4911-b51e-e40c012dd9a7",
   "metadata": {},
   "source": [
    "M) What is the minimum value in the list?"
   ]
  },
  {
   "cell_type": "code",
   "execution_count": null,
   "id": "0cae0ed2-bbee-4f44-b5e0-f41cd92472ac",
   "metadata": {},
   "outputs": [],
   "source": [
    "lst=[55, 6, 777, 54, 6, 76, 101, 1, 6, 2, 6]\n",
    "answer_1=\n",
    "print(answer_1)"
   ]
  },
  {
   "cell_type": "markdown",
   "id": "45971b44-4d46-41a8-bcbd-823e83140ab0",
   "metadata": {},
   "source": [
    "N) What is the maximum value in the list?"
   ]
  },
  {
   "cell_type": "code",
   "execution_count": null,
   "id": "f37158db-744f-43c3-a7e5-99df05b34e8b",
   "metadata": {},
   "outputs": [],
   "source": [
    "lst=[55, 6, 777, 54, 6, 76, 101, 1, 6, 2, 6]\n",
    "answer_1=\n",
    "print(answer_1)"
   ]
  },
  {
   "cell_type": "markdown",
   "id": "ded893be-2c29-4c83-a91a-69d591fe46dc",
   "metadata": {
    "tags": []
   },
   "source": [
    "#### 7. Tuples"
   ]
  },
  {
   "cell_type": "markdown",
   "id": "2c314023-800b-4eee-8051-1562ab6a1268",
   "metadata": {},
   "source": [
    "A) Assign the first element of the tuple to answer_1."
   ]
  },
  {
   "cell_type": "code",
   "execution_count": null,
   "id": "03e1b48f-c504-426d-b69f-10894cb82643",
   "metadata": {},
   "outputs": [],
   "source": [
    "tt=(11, 100, 99, 1000, 999)\n",
    "answer_1=\n",
    "print(answer_1)"
   ]
  },
  {
   "cell_type": "markdown",
   "id": "ef39d189-e0a6-4465-9d92-c45ed03fa594",
   "metadata": {},
   "source": [
    "B) This time print the third element of the tuple."
   ]
  },
  {
   "cell_type": "code",
   "execution_count": null,
   "id": "bddd8494-2d6c-440c-9f4f-41bf2555d098",
   "metadata": {},
   "outputs": [],
   "source": [
    "tt=(11, 100, 101, 999, 1001)\n",
    "answer_1=\n",
    "print(answer_1)"
   ]
  },
  {
   "cell_type": "markdown",
   "id": "c33a469e-00ef-4072-b2b1-5321d5f13d85",
   "metadata": {},
   "source": [
    "C) Print the second from the last element of the tuple."
   ]
  },
  {
   "cell_type": "code",
   "execution_count": null,
   "id": "ab8913c8-3a33-456a-b340-897eef31a5ab",
   "metadata": {},
   "outputs": [],
   "source": [
    "lst=(11, 100, 101, 999, 1001)\n",
    "answer_1=\n",
    "print(answer_1)"
   ]
  },
  {
   "cell_type": "markdown",
   "id": "9b072f01-cc89-49f4-afc6-d820b0bd0b6e",
   "metadata": {},
   "source": [
    "D) What's the index of 2?"
   ]
  },
  {
   "cell_type": "code",
   "execution_count": null,
   "id": "09e9ee86-d2da-4139-a408-6d6ccefea7a3",
   "metadata": {},
   "outputs": [],
   "source": [
    "tt=(55, 777, 54, 6, 76, 101, 1, 2, 8679, 123, 99)\n",
    "answer_1=\n",
    "print(answer_1)"
   ]
  },
  {
   "cell_type": "markdown",
   "id": "82d80466-9832-4e3f-8aa7-5cbed2826a53",
   "metadata": {},
   "source": [
    "E) How many times does 777 occur?"
   ]
  },
  {
   "cell_type": "code",
   "execution_count": null,
   "id": "e54f43ec-b5d7-4d3f-abdc-598ee50fce5d",
   "metadata": {},
   "outputs": [],
   "source": [
    "tt=(55, 6, 777, 54, 6, 76, 7777, 1, 777, 2, 6)\n",
    "answer_1=\n",
    "print(answer_1)"
   ]
  },
  {
   "cell_type": "markdown",
   "id": "08f5b847-fd7f-47bd-886b-a7167241fd11",
   "metadata": {},
   "source": [
    "F) What is the sum of all the numbers in the tuple?"
   ]
  },
  {
   "cell_type": "code",
   "execution_count": null,
   "id": "83d72c3b-a609-4d88-929c-a444311f541b",
   "metadata": {},
   "outputs": [],
   "source": [
    "tt=(42, 1092, 11, 88, 65, 2, 6)\n",
    "answer_1=\n",
    "print(answer_1)"
   ]
  },
  {
   "cell_type": "markdown",
   "id": "563c3e84-a3d9-4d16-b85a-f1b42ee190eb",
   "metadata": {},
   "source": [
    "G) What is the minimum value in the tuple?"
   ]
  },
  {
   "cell_type": "code",
   "execution_count": null,
   "id": "1306f238-9d23-47e6-85e7-df03b0f62e20",
   "metadata": {},
   "outputs": [],
   "source": [
    "tt=(66, 555, 11, 101, 9, 1001)\n",
    "answer_1=\n",
    "print(answer_1)"
   ]
  },
  {
   "cell_type": "markdown",
   "id": "a634730a-c7ca-4d3a-9979-1e8f96148047",
   "metadata": {},
   "source": [
    "H) What is the maximum value in the tuple?"
   ]
  },
  {
   "cell_type": "code",
   "execution_count": null,
   "id": "b620e159-ebbb-40a8-a94d-45545efaafe6",
   "metadata": {},
   "outputs": [],
   "source": [
    "tt=(66, 555, 11, 101, 9, 1001)\n",
    "answer_1=\n",
    "print(answer_1)"
   ]
  },
  {
   "cell_type": "markdown",
   "id": "56f585b1-e6a9-4249-9c0e-c65da383f243",
   "metadata": {
    "tags": []
   },
   "source": [
    "#### 8. Dictionaries"
   ]
  },
  {
   "cell_type": "markdown",
   "id": "35c44a6c-0781-421b-b13c-77d596b09e04",
   "metadata": {},
   "source": [
    "A) Dictionaries don't have index orders, so speaking about them regarding their first item or last item is not very correct. Next time you print a dictionary it may have a different order than you saw before. Instead they have keys, and we can use keys to call their values. When was Plato born?"
   ]
  },
  {
   "cell_type": "code",
   "execution_count": null,
   "id": "51ed3e71-ce85-4517-8167-ec8e57b1cc18",
   "metadata": {},
   "outputs": [],
   "source": [
    "person={\n",
    "    \"name\": \"Plato\",\n",
    "    \"country\": \"Ancient Greece\",\n",
    "    \"born\": -427,\n",
    "    \"teacher\": \"Socrates\",\n",
    "    \"student\": \"Aristotle\"\n",
    "}\n",
    "answer_1=\n",
    "print(answer_1)"
   ]
  },
  {
   "cell_type": "markdown",
   "id": "fae588a3-07c8-4a44-8084-590d1055a0fd",
   "metadata": {},
   "source": [
    "B) Change Plato's birth year from B.C. 427 to B.C. 428."
   ]
  },
  {
   "cell_type": "code",
   "execution_count": null,
   "id": "6e53ea90-3934-4ae0-936f-1e9d89a2e106",
   "metadata": {},
   "outputs": [],
   "source": [
    "person={\n",
    "    \"name\": \"Plato\",\n",
    "    \"country\": \"Ancient Greece\",\n",
    "    \"born\": -427,\n",
    "    \"teacher\": \"Socrates\",\n",
    "    \"student\": \"Aristotle\"\n",
    "}\n",
    "print(person[\"born\"])"
   ]
  },
  {
   "cell_type": "markdown",
   "id": "1356a9ab-9fee-4a8c-876e-d053be25a2d5",
   "metadata": {},
   "source": [
    "C) Dictionaries can have nested data too. Also, you can add a new key to a dictionary as they are mutable (changeable). Try to add the key \"work\" to dict with values shown below.\n",
    "\n",
    "\"work\": [\"Apology\", \"Phaedo\", \"Republic\", \"Symposium\"]"
   ]
  },
  {
   "cell_type": "code",
   "execution_count": null,
   "id": "6dc7f8f3-f424-47bd-92bc-4411ceeceb81",
   "metadata": {
    "tags": []
   },
   "outputs": [],
   "source": [
    "person={\n",
    "    \"name\": \"Plato\",\n",
    "    \"country\": \"Ancient Greece\",\n",
    "    \"born\": -427,\n",
    "    \"teacher\": \"Socrates\",\n",
    "    \"student\": \"Aristotle\"\n",
    "}\n",
    "\n",
    "print(person)"
   ]
  },
  {
   "cell_type": "markdown",
   "id": "4cc6bd31-b06c-4a89-ba5b-bdd863c887b6",
   "metadata": {},
   "source": [
    "D) Add 2 inches to the son's height."
   ]
  },
  {
   "cell_type": "code",
   "execution_count": null,
   "id": "a3a84c19-70d2-4b7d-aeb1-8780c916f070",
   "metadata": {},
   "outputs": [],
   "source": [
    "son={\n",
    "    \"son's name\": \"Lucas\",\n",
    "    \"son's eyes\": \"green\",\n",
    "    \"son's height\": 32,\n",
    "    \"son's weight\": 25\n",
    "}\n",
    "print(son)"
   ]
  },
  {
   "cell_type": "markdown",
   "id": "6966e744-0117-4741-a65d-ef4408e6a1d3",
   "metadata": {},
   "source": [
    "E) Using .items() method generate a list of tuples consisted of each key value pair."
   ]
  },
  {
   "cell_type": "code",
   "execution_count": null,
   "id": "07f79a07-8a94-4336-b177-c0e6f3b56483",
   "metadata": {},
   "outputs": [],
   "source": [
    "son={\n",
    "    \"son's name\": \"Lucas\",\n",
    "    \"son's eyes\": \"green\",\n",
    "    \"son's height\": 32,\n",
    "    \"son's weight\": 25\n",
    "}\n",
    "answer_1=\n",
    "print(answer_1)"
   ]
  },
  {
   "cell_type": "markdown",
   "id": "44687239-9263-4511-9e71-28e60227ea55",
   "metadata": {},
   "source": [
    "F) Using .get() method print the value of \"son's eyes\"."
   ]
  },
  {
   "cell_type": "code",
   "execution_count": null,
   "id": "41001ac5-ce63-4ead-ad8c-493089d4738e",
   "metadata": {},
   "outputs": [],
   "source": [
    "son={\n",
    "    \"son's name\": \"Lucas\",\n",
    "    \"son's eyes\": \"green\",\n",
    "    \"son's height\": 32,\n",
    "    \"son's weight\": 25\n",
    "}\n",
    "answer_1=\n",
    "print(answer_1)"
   ]
  },
  {
   "cell_type": "markdown",
   "id": "00428023-f673-403b-9a1a-4cc53a18c118",
   "metadata": {},
   "source": [
    "G) .get() method can be used just to get the value of a key. But it has more tricks up its sleeve.\n",
    "Try to look for key: \"son's age\" and if nothing comes up make the .get() return \"2\"."
   ]
  },
  {
   "cell_type": "code",
   "execution_count": null,
   "id": "70645c76-c7ed-4172-bb2f-c5669b6e001c",
   "metadata": {},
   "outputs": [],
   "source": [
    "son={\n",
    "    \"son's name\": \"Lucas\",\n",
    "    \"son's eyes\": \"green\",\n",
    "    \"son's height\": 32,\n",
    "    \"son's weight\": 25\n",
    "}\n",
    "answer_1=\n",
    "print(answer_1)"
   ]
  },
  {
   "cell_type": "markdown",
   "id": "a843c1c4-cd6a-4c82-a46f-9b461677afe5",
   "metadata": {},
   "source": [
    "H) Since dictionaries are mutable, they have some methods that tuples don't have.\n",
    ".clear() is one of them and it clears the whole dictionary. Clear the whole dictionary and print it."
   ]
  },
  {
   "cell_type": "code",
   "execution_count": null,
   "id": "def11972-9ad7-4e40-8927-3efe340050f3",
   "metadata": {},
   "outputs": [],
   "source": [
    "son={\n",
    "    \"son's name\": \"Lucas\",\n",
    "    \"son's eyes\": \"green\",\n",
    "    \"son's height\": 32,\n",
    "    \"son's weight\": 25\n",
    "}\n",
    "print(son)"
   ]
  },
  {
   "cell_type": "markdown",
   "id": "02cf0ca5-acdc-4c1d-80fc-2321e6b62cd9",
   "metadata": {},
   "source": [
    "I) Using len function, find how many keys there are in the dictionary."
   ]
  },
  {
   "cell_type": "code",
   "execution_count": null,
   "id": "a6e29021-9216-44f4-92c8-113985dc8625",
   "metadata": {},
   "outputs": [],
   "source": [
    "son={\n",
    "    \"son's name\": \"Lucas\",\n",
    "    \"son's eyes\": \"green\",\n",
    "    \"son's height\": 32,\n",
    "    \"son's weight\": 25\n",
    "}\n",
    "answer_1=\n",
    "print(answer_1)"
   ]
  },
  {
   "cell_type": "markdown",
   "id": "64460923-cff7-4a21-8b6a-ce86bc7a876b",
   "metadata": {},
   "source": [
    "J) What's the key with the highest value in the dictionary?"
   ]
  },
  {
   "cell_type": "code",
   "execution_count": null,
   "id": "10064843-882f-47fb-b29a-c52c5156df84",
   "metadata": {},
   "outputs": [],
   "source": [
    "son={\n",
    "    \"son's name\": \"Lucas\",\n",
    "    \"son's eyes\": \"green\",\n",
    "    \"son's height\": 32,\n",
    "    \"son's weight\": 25\n",
    "}\n",
    "answer_1=\n",
    "print(answer_1)"
   ]
  },
  {
   "cell_type": "markdown",
   "id": "84389230-8e0d-4463-8bfd-c98846dcb80b",
   "metadata": {},
   "source": [
    "K) What's the key with the lowest value in the dictionary?"
   ]
  },
  {
   "cell_type": "code",
   "execution_count": null,
   "id": "99b0130d-ca46-4cc9-9aa4-e199f1fd5236",
   "metadata": {},
   "outputs": [],
   "source": [
    "son={\n",
    "    \"son's name\": \"Lucas\",\n",
    "    \"son's eyes\": \"green\",\n",
    "    \"son's height\": 32,\n",
    "    \"son's weight\": 25\n",
    "}\n",
    "answer_1=\n",
    "print(answer_1)"
   ]
  },
  {
   "cell_type": "markdown",
   "id": "c97f2bfd-0963-45d7-b183-fca201255402",
   "metadata": {
    "tags": []
   },
   "source": [
    "#### 9. Strings"
   ]
  },
  {
   "cell_type": "markdown",
   "id": "9676e8a6-0b9f-443c-b8ed-db838963f138",
   "metadata": {},
   "source": [
    "A) Assign the string below to the variable in the exercise.\n",
    "\n",
    "\"It's always darkest before dawn.\""
   ]
  },
  {
   "cell_type": "code",
   "execution_count": null,
   "id": "a4d95530-00af-41dc-b476-443cf6c53b95",
   "metadata": {},
   "outputs": [],
   "source": [
    "text=\"\"\n",
    "print(text)"
   ]
  },
  {
   "cell_type": "markdown",
   "id": "cf6bf936-5832-43e1-a207-01875a7f942f",
   "metadata": {},
   "source": [
    "B) By using first, second and last characters of the string, create a new string."
   ]
  },
  {
   "cell_type": "code",
   "execution_count": null,
   "id": "641a680d-d1ba-493f-8774-7fb1219958bf",
   "metadata": {},
   "outputs": [],
   "source": [
    "text=\"It's always darkest before dawn.\"\n",
    "answer_1=\n",
    "print(answer_1)"
   ]
  },
  {
   "cell_type": "markdown",
   "id": "43131719-a171-461b-9e34-a1fe1a4daea5",
   "metadata": {},
   "source": [
    "C) Replace the (.) with (!)"
   ]
  },
  {
   "cell_type": "code",
   "execution_count": null,
   "id": "8b65c296-4132-4590-bdf1-4d80d4af6c3d",
   "metadata": {},
   "outputs": [],
   "source": [
    "text=\"It's always darkest before dawn.\"\n",
    "# Type your code here.\n",
    "print(text)"
   ]
  },
  {
   "cell_type": "markdown",
   "id": "cfa7c554-fcb6-4cff-bc87-8ace15cc6574",
   "metadata": {},
   "source": [
    "D) Reassign text so that, all its characters are lowercase."
   ]
  },
  {
   "cell_type": "code",
   "execution_count": null,
   "id": "b8374fc3-b2bd-439f-8d98-a9b981a19bf8",
   "metadata": {},
   "outputs": [],
   "source": [
    "text=\"EVERY Strike Brings Me Closer to the Next Home run.\"\n",
    "# Type your code here.\n",
    "print(text)"
   ]
  },
  {
   "cell_type": "markdown",
   "id": "ea5015ac-7bd2-4913-9508-c2fc3019052e",
   "metadata": {},
   "source": [
    "E) Now make everything uppercase."
   ]
  },
  {
   "cell_type": "code",
   "execution_count": null,
   "id": "8ecbaf47-019d-460f-b254-cf6a07ab6e46",
   "metadata": {},
   "outputs": [],
   "source": [
    "text=\"don't stop me now.\"\n",
    "# Type your code here.\n",
    "print(text)"
   ]
  },
  {
   "cell_type": "markdown",
   "id": "b3d32a7f-d729-4350-95ee-c8158d586ab7",
   "metadata": {},
   "source": [
    "F) Make the string so that everything is properly and first letter is capital with one function."
   ]
  },
  {
   "cell_type": "code",
   "execution_count": null,
   "id": "dc48fe76-a4da-4b27-a947-9c34e94d5332",
   "metadata": {},
   "outputs": [],
   "source": [
    "text=\"there are no traffic JamS Along The extra mile.\"\n",
    "#Type your answer here.\n",
    "print(text)"
   ]
  },
  {
   "cell_type": "markdown",
   "id": "5e1df4f1-3e2f-4e2d-bd09-9f37a187bd70",
   "metadata": {},
   "source": [
    "G) Does the string start with an A? Assign a boolean answer to the answer_1 variable."
   ]
  },
  {
   "cell_type": "code",
   "execution_count": null,
   "id": "45b85a7b-7e66-4812-a341-ac1b1f20fa3d",
   "metadata": {},
   "outputs": [],
   "source": [
    "text=\"There are no traffic jams along the extra mile.\"\n",
    "#  Type your code here.\n",
    "answer_1=\n",
    "print(answer_1)"
   ]
  },
  {
   "cell_type": "markdown",
   "id": "18073f85-a960-4cb9-a925-b7cb905b519b",
   "metadata": {},
   "source": [
    "H) Does it end with a fullstop (.) ?"
   ]
  },
  {
   "cell_type": "code",
   "execution_count": null,
   "id": "54ac338a-0695-4113-bfc2-c42b66f3b4ec",
   "metadata": {},
   "outputs": [],
   "source": [
    "text=\"There are no traffic jams along the extra mile.\"\n",
    "# Type your code here.\n",
    "answer_1=\n",
    "print(answer_1)"
   ]
  },
  {
   "cell_type": "markdown",
   "id": "38afbba3-0fcd-4e81-86c6-77235b88a28e",
   "metadata": {},
   "source": [
    "I) Using .index() method, identify the index of character: (v)."
   ]
  },
  {
   "cell_type": "code",
   "execution_count": null,
   "id": "dbb69e6f-8f25-415f-8226-49ecc50eca35",
   "metadata": {},
   "outputs": [],
   "source": [
    "text=\"The best revenge is massive success.\"\n",
    "# Type your code here.\n",
    "answer_1=\n",
    "print(answer_1)"
   ]
  },
  {
   "cell_type": "markdown",
   "id": "f99dd857-a439-4836-91b2-6dfeb7f22642",
   "metadata": {},
   "source": [
    "J) Using .find() method, identify the index of character: (m)."
   ]
  },
  {
   "cell_type": "code",
   "execution_count": null,
   "id": "b74be36b-f330-4d1b-8894-6cc163ee075c",
   "metadata": {},
   "outputs": [],
   "source": [
    "text=\"The best revenge is massive success.\"\n",
    "# Type your code here.\n",
    "answer_1=\n",
    "print(answer_1)"
   ]
  },
  {
   "cell_type": "markdown",
   "id": "e3e62c27-fc9f-476f-840f-de0df64a29ce",
   "metadata": {},
   "source": [
    "K) Try to see what results you get looking for character: (X). First with .find() method and then with .index() method."
   ]
  },
  {
   "cell_type": "code",
   "execution_count": null,
   "id": "e5ddc134-5d08-49ef-86e5-f598252db386",
   "metadata": {},
   "outputs": [],
   "source": [
    "text=\"The best revenge is massive success.\"\n",
    "# Type your code here.\n",
    "answer_1=\n",
    "print(answer_1)"
   ]
  },
  {
   "cell_type": "markdown",
   "id": "67ce38d5-ab8e-4b1b-95b1-6b41c092d7b2",
   "metadata": {},
   "source": [
    "L) Which character occur more often in the string? \"a\" or \"o\" ? Print both counts inside the print function."
   ]
  },
  {
   "cell_type": "code",
   "execution_count": null,
   "id": "0c17123c-ed9e-4d7f-9a50-63a7ac551f0d",
   "metadata": {},
   "outputs": [],
   "source": [
    "text=\"People often say that motivation doesn't last. Well, neither does bathing.  That's why we recommend it daily.\"\n",
    "# Type your code here.\n",
    "answer_1=\n",
    "answer_2=\n",
    "print(\"count of a is: \", answer_1, \" count of o is: \", answer_2)"
   ]
  },
  {
   "cell_type": "markdown",
   "id": "caac218c-71c0-4265-8694-f4f02a726efc",
   "metadata": {},
   "source": [
    "M) Print the types of two given variables with the print function."
   ]
  },
  {
   "cell_type": "code",
   "execution_count": null,
   "id": "4b6221bc-0710-4d2b-b459-eb447e9bf60c",
   "metadata": {},
   "outputs": [],
   "source": [
    "v_1=\"1\"\n",
    "v_2=1\n",
    "\n",
    "answer_1=\n",
    "answer_2=\n",
    "\n",
    "print(answer_1)\n",
    "print(answer_2)"
   ]
  },
  {
   "cell_type": "markdown",
   "id": "9222c43e-210f-4b84-b021-c813228a3d42",
   "metadata": {},
   "source": [
    "N) What is the length of the given string?"
   ]
  },
  {
   "cell_type": "code",
   "execution_count": null,
   "id": "427e9abd-bb1f-4d93-999d-f23e49dd9987",
   "metadata": {},
   "outputs": [],
   "source": [
    "text=\"1.975.000\"\n",
    "answer_1=\n",
    "print(answer_1)"
   ]
  },
  {
   "cell_type": "markdown",
   "id": "35ce8f23-d97a-41e7-b0d0-88eb69d5dbe9",
   "metadata": {
    "tags": []
   },
   "source": [
    "#### 10. .len()"
   ]
  },
  {
   "cell_type": "markdown",
   "id": "5d416198-09f5-4c8a-bf1c-9986e7f54f01",
   "metadata": {},
   "source": [
    "A) Using len() function find out how many items are in the list."
   ]
  },
  {
   "cell_type": "code",
   "execution_count": null,
   "id": "bbb170d5-f70f-4b5a-b82e-e5c5913fd4b0",
   "metadata": {},
   "outputs": [],
   "source": [
    "lst=[11, 10, 12, 101, 99, 1000, 999]\n",
    "answer_1=\n",
    "print(answer_1)"
   ]
  },
  {
   "cell_type": "markdown",
   "id": "11acad7c-89fd-49f4-a397-1d2f4151d583",
   "metadata": {},
   "source": [
    "B) len() function can also tell the length of a string. Find out the length of the string given below."
   ]
  },
  {
   "cell_type": "code",
   "execution_count": null,
   "id": "ef259169-608f-414f-ac7a-ff4f1924b838",
   "metadata": {},
   "outputs": [],
   "source": [
    "msg=\"Be yourself, everyone else is taken.\"\n",
    "msg_length=\n",
    "print(msg_length)"
   ]
  },
  {
   "cell_type": "markdown",
   "id": "a0c1aca5-557d-493a-9553-50faa828b3de",
   "metadata": {},
   "source": [
    "C) How many keys are there in the dictionary?"
   ]
  },
  {
   "cell_type": "code",
   "execution_count": null,
   "id": "2181f485-604e-4a79-a335-23e2505f8400",
   "metadata": {},
   "outputs": [],
   "source": [
    "scores={\n",
    "    \"Real Madrid\": 13,\n",
    "    \"AC Milan\": 7,\n",
    "    \"Bayern Munich\":5,\n",
    "    \"Barcelona\": 5,\n",
    "    \"Liverpool\": 5\n",
    "}\n",
    "answer_1=\n",
    "print(answer_1)"
   ]
  },
  {
   "cell_type": "markdown",
   "id": "80a773ee-248d-4182-9214-a4833e99745c",
   "metadata": {},
   "source": [
    "D) Call the last element of the list by using the len() function."
   ]
  },
  {
   "cell_type": "code",
   "execution_count": null,
   "id": "d60a0a63-806c-44cb-a8a2-216d21b19115",
   "metadata": {},
   "outputs": [],
   "source": [
    "gift_list=['socks', '4K drone', 'wine', 'jam']\n",
    "index_no=\n",
    "answer_1=\n",
    "print(answer_1)"
   ]
  },
  {
   "cell_type": "markdown",
   "id": "21824347-175f-42a2-8af1-c467b9cded55",
   "metadata": {},
   "source": [
    "E) Below is a nested data. Find out the length of the item: 'raincoat'. You can use reverse indexing."
   ]
  },
  {
   "cell_type": "code",
   "execution_count": null,
   "id": "00be531f-57ce-4886-aac9-6a8ee2c20e19",
   "metadata": {},
   "outputs": [],
   "source": [
    "gift_list=['4K drone', 'wine', 'jam', ['socks', 'pajamas', 'raincoat']]\n",
    "answer_1=\n",
    "print(answer_1)"
   ]
  },
  {
   "cell_type": "markdown",
   "id": "1cfe56ac-2de5-434d-9d9f-aa03e4caa125",
   "metadata": {
    "tags": []
   },
   "source": [
    "#### 11. .sort()"
   ]
  },
  {
   "cell_type": "markdown",
   "id": "850da4a2-ad61-4e65-8202-f24cd1abe5e7",
   "metadata": {},
   "source": [
    "A) Sort the list in ascending order with .sort() method."
   ]
  },
  {
   "cell_type": "code",
   "execution_count": null,
   "id": "16d1e3d1-3082-4251-8ab5-debae5fd2c04",
   "metadata": {},
   "outputs": [],
   "source": [
    "lst=[11, 100, 99, 1000, 999]\n",
    "# Type your answer here.\n",
    "print(lst)"
   ]
  },
  {
   "cell_type": "markdown",
   "id": "1b161bc7-60bb-4f6c-9038-8927d5f1b1c3",
   "metadata": {},
   "source": [
    "B) This time sort the countries in alphabetic order."
   ]
  },
  {
   "cell_type": "code",
   "execution_count": null,
   "id": "448a9f6a-f74b-4101-af9e-44f7d2714bb7",
   "metadata": {},
   "outputs": [],
   "source": [
    "lst=[\"Ukraine\", \"Japan\", \"Canada\", \"Kazakhstan\", \"Taiwan\", \"India\", \"Belize\"]\n",
    "# Type your code here.\n",
    "print(lst)"
   ]
  },
  {
   "cell_type": "markdown",
   "id": "e2378e0e-d1b8-4373-9670-ff6975360780",
   "metadata": {},
   "source": [
    "C) Now sort the list in descending order with .sort() method."
   ]
  },
  {
   "cell_type": "code",
   "execution_count": null,
   "id": "54804a01-8aa3-4a58-b666-93f403fe46d0",
   "metadata": {},
   "outputs": [],
   "source": [
    "lst=[11, 100, 101, 999, 1001]\n",
    "# Type your answer here.\n",
    "print(lst)"
   ]
  },
  {
   "cell_type": "markdown",
   "id": "32ffa5ee-9159-4d3c-b27a-1d6d70117de3",
   "metadata": {},
   "source": [
    "D) Can you sort the gift list in reverse alphabetic order?"
   ]
  },
  {
   "cell_type": "code",
   "execution_count": null,
   "id": "30ade3e1-2b4a-49a1-9cc0-83a01abdb242",
   "metadata": {},
   "outputs": [],
   "source": [
    "gift_list=['socks', '4K drone', 'wine', 'jam']\n",
    "# Type your answer here.\n",
    "print(gift_list)"
   ]
  },
  {
   "cell_type": "markdown",
   "id": "0cd23aa6-6742-4465-bb40-8f8c9b7faf33",
   "metadata": {},
   "source": [
    "E) Sort the list below in reverse alphabetic order and then assign the last element to the answer_1 variable."
   ]
  },
  {
   "cell_type": "code",
   "execution_count": null,
   "id": "20dbea3b-ce08-4477-af90-4f3195df2438",
   "metadata": {},
   "outputs": [],
   "source": [
    "NFL=[\"Panthers\", \"Bears\", \"Dolphins\" \"Patriots\", \"Saints\", \"Giants\"]\n",
    "answer_1=\n",
    "print(answer_1)"
   ]
  },
  {
   "cell_type": "markdown",
   "id": "6e7a415d-b7fc-4d41-8cd9-8f2a3d60df8b",
   "metadata": {},
   "source": [
    "F) Sort the cities from z to a."
   ]
  },
  {
   "cell_type": "code",
   "execution_count": null,
   "id": "971e6f83-fa4a-4e62-87aa-a9b2118d5ade",
   "metadata": {},
   "outputs": [],
   "source": [
    "muni=[\"Melbourne\", \"Shanghai\", \"Delhi\", \"Atlanta\", \"Moscow\", \"Montreal\"]\n",
    "# Type your code here.\n",
    "print(muni)"
   ]
  },
  {
   "cell_type": "markdown",
   "id": "fd3fa4ba-2844-4f62-bcae-33f2dae84302",
   "metadata": {},
   "source": [
    "G) Sort the keys of the dictionary from a to z.\n",
    "Hint: You might want to create a list of the keys first with the help of a dictionary method."
   ]
  },
  {
   "cell_type": "code",
   "execution_count": null,
   "id": "3815feec-1a93-4afc-93a2-9c2e528153b5",
   "metadata": {},
   "outputs": [],
   "source": [
    "prices={\n",
    "    \"tiramisu\":5,\n",
    "    \"chocolate\":2,\n",
    "    \"pudding\":3,\n",
    "    \"cheesecake\":4\n",
    "}\n",
    "key_list=\n",
    "print(key_list)"
   ]
  },
  {
   "cell_type": "markdown",
   "id": "f9b878ed-cf29-4481-95e9-807db1b90bb6",
   "metadata": {
    "tags": []
   },
   "source": [
    "#### 12 .pop()"
   ]
  },
  {
   "cell_type": "markdown",
   "id": "d3d979eb-de45-4497-b282-00624cd471a8",
   "metadata": {},
   "source": [
    "A) Pop the last item of the list below."
   ]
  },
  {
   "cell_type": "code",
   "execution_count": null,
   "id": "edc28209-eb1a-4b66-8164-efce7e27bf43",
   "metadata": {},
   "outputs": [],
   "source": [
    "lst=[11, 100, 99, 1000, 999]\n",
    "popped_item=\n",
    "print(popped_item)\n",
    "print(lst)"
   ]
  },
  {
   "cell_type": "markdown",
   "id": "4e63c187-3e7e-47c0-b343-1999066620bc",
   "metadata": {},
   "source": [
    "B) Remove \"broccoli\" from the list using .pop and .index methods."
   ]
  },
  {
   "cell_type": "code",
   "execution_count": null,
   "id": "3a4bf2d2-0aa2-44e9-8174-7c9933dd60d3",
   "metadata": {},
   "outputs": [],
   "source": [
    "lst=[\"milk\", \"banana\", \"eggs\", \"bread\", \"broccoli\", \"lemons\"]\n",
    "item=\n",
    "print(lst, item)"
   ]
  },
  {
   "cell_type": "markdown",
   "id": "d08221a0-8c04-431f-9b4a-5d615bb83b86",
   "metadata": {},
   "source": [
    "C) Save Italy's GDP in a separate variable and remove it from the dictionary."
   ]
  },
  {
   "cell_type": "code",
   "execution_count": null,
   "id": "48b1a636-b61a-4673-bfed-f4601a08d8c6",
   "metadata": {},
   "outputs": [],
   "source": [
    "GDP_2018={\n",
    "    \"US\": 21,\n",
    "    \"China\": 16,\n",
    "    \"Japan\": 5,\n",
    "    \"Germany\": 4,\n",
    "    \"India\": 3,\n",
    "    \"France\": 3,\n",
    "    \"UK\": 3,\n",
    "    \"Italy\": 2\n",
    "}\n",
    "italy_gdp=\n",
    "print(GDP_2018)\n",
    "print(italy_gdp, \"trillion USD\")"
   ]
  },
  {
   "cell_type": "markdown",
   "id": "8e51c751-54df-4e86-80dc-f921e7684af1",
   "metadata": {
    "tags": []
   },
   "source": [
    "#### 13. range()"
   ]
  },
  {
   "cell_type": "markdown",
   "id": "6d39f207-b0f7-4318-9eaa-cf98acb6047f",
   "metadata": {},
   "source": [
    "A) Create a range from 0 to 50, excluding 50."
   ]
  },
  {
   "cell_type": "code",
   "execution_count": null,
   "id": "efd6f600-456b-44f2-8d6f-1db13ab25a52",
   "metadata": {},
   "outputs": [],
   "source": [
    "rng=\n",
    "print(rng)"
   ]
  },
  {
   "cell_type": "markdown",
   "id": "c13f6330-dbbb-4962-8114-80372a026ee6",
   "metadata": {},
   "source": [
    "B) Create a range from 0 to 10 with steps of 2."
   ]
  },
  {
   "cell_type": "code",
   "execution_count": null,
   "id": "08423ad7-c1f9-4e92-9710-07f754f05b82",
   "metadata": {},
   "outputs": [],
   "source": [
    "rng=\n",
    "print(list(rng))"
   ]
  },
  {
   "cell_type": "markdown",
   "id": "8ce94bd9-8ba6-4c56-889b-32faf6cde759",
   "metadata": {},
   "source": [
    "C) Create a range from 100 to 160 with steps of 10. Then print it as a list."
   ]
  },
  {
   "cell_type": "code",
   "execution_count": null,
   "id": "dd94b066-f938-4580-9720-4018dbb7cabb",
   "metadata": {},
   "outputs": [],
   "source": [
    "rng=\n",
    "print()"
   ]
  },
  {
   "cell_type": "markdown",
   "id": "6792e90b-e717-470e-bae3-8c4f5481cfe8",
   "metadata": {},
   "source": [
    "D) Can you you create a list from 1300 to 700 with descending steps of 100? Is your stop value included in the list?"
   ]
  },
  {
   "cell_type": "code",
   "execution_count": null,
   "id": "f106f0fd-bbdf-47ae-a177-3087aa9371ec",
   "metadata": {},
   "outputs": [],
   "source": [
    "rng=\n",
    "print(list(rng))"
   ]
  },
  {
   "cell_type": "markdown",
   "id": "6293ba12-b04a-4c2e-a619-b1f3a009238e",
   "metadata": {},
   "source": [
    "E) Can you you create a list from 1300 to 700 with descending steps of 100, this time including 700?"
   ]
  },
  {
   "cell_type": "code",
   "execution_count": null,
   "id": "7fdcc9e4-2fec-44dc-a8ae-7ba143778700",
   "metadata": {},
   "outputs": [],
   "source": [
    "rng=\n",
    "print(list(rng))"
   ]
  }
 ],
 "metadata": {
  "kernelspec": {
   "display_name": "Python 3 (ipykernel)",
   "language": "python",
   "name": "python3"
  },
  "language_info": {
   "codemirror_mode": {
    "name": "ipython",
    "version": 3
   },
   "file_extension": ".py",
   "mimetype": "text/x-python",
   "name": "python",
   "nbconvert_exporter": "python",
   "pygments_lexer": "ipython3",
   "version": "3.11.2"
  }
 },
 "nbformat": 4,
 "nbformat_minor": 5
}
